{
 "cells": [
  {
   "cell_type": "markdown",
   "id": "6e8ce123",
   "metadata": {},
   "source": [
    "# 프로젝트 : 한국어 챗봇"
   ]
  },
  {
   "cell_type": "code",
   "execution_count": 1,
   "id": "9426a2f9",
   "metadata": {},
   "outputs": [],
   "source": [
    "import tensorflow as tf\n",
    "import tensorflow_datasets as tfds\n",
    "import os\n",
    "import re\n",
    "import numpy as np\n",
    "import matplotlib.pyplot as plt\n",
    "import csv\n",
    "import tensorflow_datasets as tfds"
   ]
  },
  {
   "cell_type": "markdown",
   "id": "41fcc1ca",
   "metadata": {},
   "source": [
    "#### 필요한 함수를 정의합니다."
   ]
  },
  {
   "cell_type": "code",
   "execution_count": 2,
   "id": "1126b86c",
   "metadata": {},
   "outputs": [],
   "source": [
    "# 포지셔널 인코딩 레이어\n",
    "class PositionalEncoding(tf.keras.layers.Layer):\n",
    "\n",
    "    def __init__(self, position, d_model):\n",
    "        super(PositionalEncoding, self).__init__()\n",
    "        self.pos_encoding = self.positional_encoding(position, d_model)\n",
    "\n",
    "    def get_angles(self, position, i, d_model):\n",
    "        angles = 1 / tf.pow(10000, (2 * (i // 2)) / tf.cast(d_model, tf.float32))\n",
    "        return position * angles\n",
    "\n",
    "    def positional_encoding(self, position, d_model):\n",
    "    # 각도 배열 생성\n",
    "        angle_rads = self.get_angles(\n",
    "            position=tf.range(position, dtype=tf.float32)[:, tf.newaxis],\n",
    "            i=tf.range(d_model, dtype=tf.float32)[tf.newaxis, :],\n",
    "            d_model=d_model)\n",
    "\n",
    "    # 배열의 짝수 인덱스에는 sin 함수 적용\n",
    "        sines = tf.math.sin(angle_rads[:, 0::2])\n",
    "    # 배열의 홀수 인덱스에는 cosine 함수 적용\n",
    "        cosines = tf.math.cos(angle_rads[:, 1::2])\n",
    "\n",
    "    # sin과 cosine이 교차되도록 재배열\n",
    "        pos_encoding = tf.stack([sines, cosines], axis=0)\n",
    "        pos_encoding = tf.transpose(pos_encoding,[1, 2, 0]) \n",
    "        pos_encoding = tf.reshape(pos_encoding, [position, d_model])\n",
    "\n",
    "        pos_encoding = pos_encoding[tf.newaxis, ...]\n",
    "        return tf.cast(pos_encoding, tf.float32)\n",
    "\n",
    "    def call(self, inputs):\n",
    "        return inputs + self.pos_encoding[:, :tf.shape(inputs)[1], :]\n",
    "\n",
    "\n",
    "class MultiHeadAttention(tf.keras.layers.Layer):\n",
    "\n",
    "    def __init__(self, d_model, num_heads, name=\"multi_head_attention\"):\n",
    "        super(MultiHeadAttention, self).__init__(name=name)\n",
    "        self.num_heads = num_heads\n",
    "        self.d_model = d_model\n",
    "\n",
    "        assert d_model % self.num_heads == 0\n",
    "\n",
    "        self.depth = d_model // self.num_heads\n",
    "\n",
    "        self.query_dense = tf.keras.layers.Dense(units=d_model)\n",
    "        self.key_dense = tf.keras.layers.Dense(units=d_model)\n",
    "        self.value_dense = tf.keras.layers.Dense(units=d_model)\n",
    "\n",
    "        self.dense = tf.keras.layers.Dense(units=d_model)\n",
    "\n",
    "    def split_heads(self, inputs, batch_size):\n",
    "        inputs = tf.reshape(\n",
    "          inputs, shape=(batch_size, -1, self.num_heads, self.depth))\n",
    "        return tf.transpose(inputs, perm=[0, 2, 1, 3])\n",
    "\n",
    "    def call(self, inputs):\n",
    "        query, key, value, mask = inputs['query'], inputs['key'], inputs[\n",
    "          'value'], inputs['mask']\n",
    "        batch_size = tf.shape(query)[0]\n",
    "\n",
    "    # Q, K, V에 각각 Dense를 적용합니다\n",
    "        query = self.query_dense(query)\n",
    "        key = self.key_dense(key)\n",
    "        value = self.value_dense(value)\n",
    "\n",
    "    # 병렬 연산을 위한 머리를 여러 개 만듭니다\n",
    "        query = self.split_heads(query, batch_size)\n",
    "        key = self.split_heads(key, batch_size)\n",
    "        value = self.split_heads(value, batch_size)\n",
    "\n",
    "    # 스케일드 닷 프로덕트 어텐션 함수\n",
    "        scaled_attention = scaled_dot_product_attention(query, key, value, mask)\n",
    "\n",
    "        scaled_attention = tf.transpose(scaled_attention, perm=[0, 2, 1, 3])\n",
    "\n",
    "    # 어텐션 연산 후에 각 결과를 다시 연결(concatenate)합니다\n",
    "        concat_attention = tf.reshape(scaled_attention,\n",
    "                                  (batch_size, -1, self.d_model))\n",
    "\n",
    "    # 최종 결과에도 Dense를 한 번 더 적용합니다\n",
    "        outputs = self.dense(concat_attention)\n",
    "\n",
    "        return outputs"
   ]
  },
  {
   "cell_type": "code",
   "execution_count": 3,
   "id": "36cf81a7",
   "metadata": {},
   "outputs": [],
   "source": [
    "# 스케일드 닷 프로덕트 어텐션 함수\n",
    "def scaled_dot_product_attention(query, key, value, mask):\n",
    "  # 어텐션 가중치는 Q와 K의 닷 프로덕트\n",
    "    matmul_qk = tf.matmul(query, key, transpose_b=True)\n",
    "\n",
    "  # 가중치를 정규화\n",
    "    depth = tf.cast(tf.shape(key)[-1], tf.float32)\n",
    "    logits = matmul_qk / tf.math.sqrt(depth)\n",
    "\n",
    "  # 패딩에 마스크 추가\n",
    "    if mask is not None:\n",
    "        logits += (mask * -1e9)\n",
    "\n",
    "  # softmax적용\n",
    "    attention_weights = tf.nn.softmax(logits, axis=-1)\n",
    "\n",
    "  # 최종 어텐션은 가중치와 V의 닷 프로덕트\n",
    "    output = tf.matmul(attention_weights, value)\n",
    "    return output\n",
    "#패딩 마스크\n",
    "def create_padding_mask(x):\n",
    "    mask = tf.cast(tf.math.equal(x, 0), tf.float32)\n",
    "    # (batch_size, 1, 1, sequence length)\n",
    "    return mask[:, tf.newaxis, tf.newaxis, :]\n",
    "\n",
    "#룩어헤드 마스크\n",
    "def create_look_ahead_mask(x):\n",
    "    seq_len = tf.shape(x)[1]\n",
    "    look_ahead_mask = 1 - tf.linalg.band_part(tf.ones((seq_len, seq_len)), -1, 0)\n",
    "    padding_mask = create_padding_mask(x)\n",
    "    return tf.maximum(look_ahead_mask, padding_mask)\n",
    "\n",
    "\n",
    "# 인코더 하나의 레이어를 함수로 구현.\n",
    "# 이 하나의 레이어 안에는 두 개의 서브 레이어가 존재합니다.\n",
    "def encoder_layer(units, d_model, num_heads, dropout, name=\"encoder_layer\"):\n",
    "    inputs = tf.keras.Input(shape=(None, d_model), name=\"inputs\")\n",
    "\n",
    "  # 패딩 마스크 사용\n",
    "    padding_mask = tf.keras.Input(shape=(1, 1, None), name=\"padding_mask\")\n",
    "\n",
    "  # 첫 번째 서브 레이어 : 멀티 헤드 어텐션 수행 (셀프 어텐션)\n",
    "    attention = MultiHeadAttention(\n",
    "      d_model, num_heads, name=\"attention\")({\n",
    "          'query': inputs,\n",
    "          'key': inputs,\n",
    "          'value': inputs,\n",
    "          'mask': padding_mask\n",
    "      })\n",
    "\n",
    "  # 어텐션의 결과는 Dropout과 Layer Normalization이라는 훈련을 돕는 테크닉을 수행\n",
    "    attention = tf.keras.layers.Dropout(rate=dropout)(attention)\n",
    "    attention = tf.keras.layers.LayerNormalization(\n",
    "        epsilon=1e-6)(inputs + attention)\n",
    "\n",
    "  # 두 번째 서브 레이어 : 2개의 완전연결층\n",
    "    outputs = tf.keras.layers.Dense(units=units, activation='relu')(attention)\n",
    "    outputs = tf.keras.layers.Dense(units=d_model)(outputs)\n",
    "\n",
    "  # 완전연결층의 결과는 Dropout과 LayerNormalization이라는 훈련을 돕는 테크닉을 수행\n",
    "    outputs = tf.keras.layers.Dropout(rate=dropout)(outputs)\n",
    "    outputs = tf.keras.layers.LayerNormalization(\n",
    "        epsilon=1e-6)(attention + outputs)\n",
    "\n",
    "    return tf.keras.Model(\n",
    "        inputs=[inputs, padding_mask], outputs=outputs, name=name)\n",
    "\n",
    "# 인코더를 만드는 함수\n",
    "def encoder(vocab_size,num_layers,units,d_model,num_heads,dropout,name=\"encoder\"):\n",
    "    inputs = tf.keras.Input(shape=(None,), name=\"inputs\")\n",
    "\n",
    "  # 패딩 마스크 사용\n",
    "    padding_mask = tf.keras.Input(shape=(1, 1, None), name=\"padding_mask\")\n",
    "\n",
    "  # 임베딩 레이어\n",
    "    embeddings = tf.keras.layers.Embedding(vocab_size, d_model)(inputs)\n",
    "    embeddings *= tf.math.sqrt(tf.cast(d_model, tf.float32))\n",
    "\n",
    "  # 포지셔널 인코딩\n",
    "    embeddings = PositionalEncoding(vocab_size, d_model)(embeddings)\n",
    "\n",
    "    outputs = tf.keras.layers.Dropout(rate=dropout)(embeddings)\n",
    "\n",
    "  # num_layers만큼 쌓아올린 인코더의 층.\n",
    "    for i in range(num_layers):\n",
    "        outputs = encoder_layer(\n",
    "          units=units,\n",
    "          d_model=d_model,\n",
    "          num_heads=num_heads,\n",
    "          dropout=dropout,\n",
    "          name=\"encoder_layer_{}\".format(i),\n",
    "      )([outputs, padding_mask])\n",
    "\n",
    "    return tf.keras.Model(\n",
    "        inputs=[inputs, padding_mask], outputs=outputs, name=name)\n",
    "\n",
    "\n",
    "# 디코더 하나의 레이어를 함수로 구현.\n",
    "# 이 하나의 레이어 안에는 세 개의 서브 레이어가 존재합니다.\n",
    "def decoder_layer(units, d_model, num_heads, dropout, name=\"decoder_layer\"):\n",
    "    inputs = tf.keras.Input(shape=(None, d_model), name=\"inputs\")\n",
    "    enc_outputs = tf.keras.Input(shape=(None, d_model), name=\"encoder_outputs\")\n",
    "    look_ahead_mask = tf.keras.Input(\n",
    "        shape=(1, None, None), name=\"look_ahead_mask\")\n",
    "    padding_mask = tf.keras.Input(shape=(1, 1, None), name='padding_mask')\n",
    "\n",
    "  # 첫 번째 서브 레이어 : 멀티 헤드 어텐션 수행 (셀프 어텐션)\n",
    "    attention1 = MultiHeadAttention(\n",
    "        d_model, num_heads, name=\"attention_1\")(inputs={\n",
    "          'query': inputs,\n",
    "          'key': inputs,\n",
    "          'value': inputs,\n",
    "          'mask': look_ahead_mask\n",
    "        })\n",
    "\n",
    "  # 멀티 헤드 어텐션의 결과는 LayerNormalization이라는 훈련을 돕는 테크닉을 수행\n",
    "    attention1 = tf.keras.layers.LayerNormalization(\n",
    "            epsilon=1e-6)(attention1 + inputs)\n",
    "\n",
    "  # 두 번째 서브 레이어 : 마스크드 멀티 헤드 어텐션 수행 (인코더-디코더 어텐션)\n",
    "    attention2 = MultiHeadAttention(\n",
    "        d_model, num_heads, name=\"attention_2\")(inputs={\n",
    "          'query': attention1,\n",
    "          'key': enc_outputs,\n",
    "          'value': enc_outputs,\n",
    "          'mask': padding_mask\n",
    "        })\n",
    "\n",
    "  # 마스크드 멀티 헤드 어텐션의 결과는\n",
    "  # Dropout과 LayerNormalization이라는 훈련을 돕는 테크닉을 수행\n",
    "    attention2 = tf.keras.layers.Dropout(rate=dropout)(attention2)\n",
    "    attention2 = tf.keras.layers.LayerNormalization(\n",
    "        epsilon=1e-6)(attention2 + attention1)\n",
    "\n",
    "  # 세 번째 서브 레이어 : 2개의 완전연결층\n",
    "    outputs = tf.keras.layers.Dense(units=units, activation='relu')(attention2)\n",
    "    outputs = tf.keras.layers.Dense(units=d_model)(outputs)\n",
    "\n",
    "  # 완전연결층의 결과는 Dropout과 LayerNormalization 수행\n",
    "    outputs = tf.keras.layers.Dropout(rate=dropout)(outputs)\n",
    "    outputs = tf.keras.layers.LayerNormalization(\n",
    "        epsilon=1e-6)(outputs + attention2)\n",
    "\n",
    "    return tf.keras.Model(\n",
    "        inputs=[inputs, enc_outputs, look_ahead_mask, padding_mask],\n",
    "        outputs=outputs,\n",
    "        name=name)\n",
    "\n",
    "def decoder(vocab_size,num_layers,units,d_model,num_heads,dropout,name='decoder'):\n",
    "    inputs = tf.keras.Input(shape=(None,), name='inputs')\n",
    "    enc_outputs = tf.keras.Input(shape=(None, d_model), name='encoder_outputs')\n",
    "    look_ahead_mask = tf.keras.Input(\n",
    "        shape=(1, None, None), name='look_ahead_mask')\n",
    "\n",
    "  # 패딩 마스크\n",
    "    padding_mask = tf.keras.Input(shape=(1, 1, None), name='padding_mask')\n",
    "  \n",
    "  # 임베딩 레이어\n",
    "    embeddings = tf.keras.layers.Embedding(vocab_size, d_model)(inputs)\n",
    "    embeddings *= tf.math.sqrt(tf.cast(d_model, tf.float32))\n",
    "\n",
    "  # 포지셔널 인코딩\n",
    "    embeddings = PositionalEncoding(vocab_size, d_model)(embeddings)\n",
    "\n",
    "  # Dropout이라는 훈련을 돕는 테크닉을 수행\n",
    "    outputs = tf.keras.layers.Dropout(rate=dropout)(embeddings)\n",
    "\n",
    "    for i in range(num_layers):\n",
    "        outputs = decoder_layer(\n",
    "        units=units,\n",
    "        d_model=d_model,\n",
    "        num_heads=num_heads,\n",
    "        dropout=dropout,\n",
    "        name='decoder_layer_{}'.format(i),\n",
    "        )(inputs=[outputs, enc_outputs, look_ahead_mask, padding_mask])\n",
    "\n",
    "    return tf.keras.Model(\n",
    "          inputs=[inputs, enc_outputs, look_ahead_mask, padding_mask],\n",
    "          outputs=outputs,\n",
    "          name=name)\n",
    "\n"
   ]
  },
  {
   "cell_type": "markdown",
   "id": "0c7f1732",
   "metadata": {},
   "source": [
    "## STEP 1. 데이터 수집하기"
   ]
  },
  {
   "cell_type": "code",
   "execution_count": 4,
   "id": "d0b4bcab",
   "metadata": {},
   "outputs": [],
   "source": [
    "file_path = os.getenv(\"HOME\")+\"/aiffel/transformer_chatbot/data/ChatbotData .csv\"\n",
    "f = open(file_path,'r')\n",
    "data = f.readlines()"
   ]
  },
  {
   "cell_type": "code",
   "execution_count": 5,
   "id": "c882e0b2",
   "metadata": {},
   "outputs": [
    {
     "name": "stdout",
     "output_type": "stream",
     "text": [
      "12시 땡!,하루가 또 가네요.,0\n",
      "\n"
     ]
    }
   ],
   "source": [
    "print(data[1])"
   ]
  },
  {
   "cell_type": "code",
   "execution_count": 6,
   "id": "b5ed05bd",
   "metadata": {},
   "outputs": [],
   "source": [
    "MAX_SAMPLES = 50000"
   ]
  },
  {
   "cell_type": "markdown",
   "id": "f2ed0ce3",
   "metadata": {},
   "source": [
    "## STEP 2. 데이터 전처리하기\n",
    "* 파일을 살펴보면 한줄에 ','를 기준으로 질문과 답변이 구분되어 있기 때문에 그에 맞게 데이터를 나눕니다."
   ]
  },
  {
   "cell_type": "code",
   "execution_count": 7,
   "id": "02d350a7",
   "metadata": {},
   "outputs": [],
   "source": [
    "#문장을 전처리합니다.\n",
    "def preprocess_sentence(sentence):\n",
    "    sentence = sentence.lower().strip()\n",
    "\n",
    "    # 단어와 구두점(punctuation) 사이의 거리를 만듭니다.\n",
    "    # 예를 들어서 \"I am a student.\" => \"I am a student .\"와 같이\n",
    "    # student와 온점 사이에 거리를 만듭니다.\n",
    "    sentence = re.sub(r\"([?.!])\", r\" \\1 \", sentence)\n",
    "    sentence = re.sub(r'[\" \"]+', \" \", sentence)\n",
    "\n",
    "    # (ㄱ-ㅎ, ㅏ-ㅣ,가-힣, \".\", \"?\", \"!\", \",\")를 제외한 모든 문자를 공백인 ' '로 대체합니다.\n",
    "    sentence = re.sub(r\"[^0-9ㄱ-ㅎㅏ-ㅣ가-힣?.!,]+\", \" \", sentence)\n",
    "    sentence = sentence.strip()\n",
    "    return sentence"
   ]
  },
  {
   "cell_type": "code",
   "execution_count": 8,
   "id": "f9a591c1",
   "metadata": {},
   "outputs": [],
   "source": [
    "def load_conversations():\n",
    "    inputs, outputs = [], []\n",
    "    for line in data:\n",
    "        sentence = preprocess_sentence(line)\n",
    "        sentence = sentence.split(',')\n",
    "        inputs.append(sentence[0])\n",
    "        outputs.append(sentence[1])\n",
    "        if len(inputs) >=MAX_SAMPLES:\n",
    "            return inputs,outputs\n",
    "    return inputs,outputs"
   ]
  },
  {
   "cell_type": "markdown",
   "id": "1c7506fb",
   "metadata": {},
   "source": [
    "* 해당 파일은 한줄에 ','를 기준으로 질문과 답변이 구분되어 있습니다."
   ]
  },
  {
   "cell_type": "code",
   "execution_count": 9,
   "id": "cbc0109b",
   "metadata": {},
   "outputs": [
    {
     "name": "stdout",
     "output_type": "stream",
     "text": [
      "11824\n",
      "11824\n"
     ]
    }
   ],
   "source": [
    "questions, answers = load_conversations()\n",
    "print(len(questions))\n",
    "print(len(answers))"
   ]
  },
  {
   "cell_type": "code",
   "execution_count": 10,
   "id": "0f10e008",
   "metadata": {},
   "outputs": [
    {
     "name": "stdout",
     "output_type": "stream",
     "text": [
      "전처리 후의 22번째 질문 샘플: 가스비 비싼데 감기 걸리겠어\n",
      "전처리 후의 22번째 답변 샘플: 따뜻하게 사세요 ! \n"
     ]
    }
   ],
   "source": [
    "print('전처리 후의 22번째 질문 샘플: {}'.format(questions[21]))\n",
    "print('전처리 후의 22번째 답변 샘플: {}'.format(answers[21]))"
   ]
  },
  {
   "cell_type": "markdown",
   "id": "6e1a0974",
   "metadata": {},
   "source": [
    "* 병렬 데이터 구축 완료!!"
   ]
  },
  {
   "cell_type": "markdown",
   "id": "bec71db8",
   "metadata": {},
   "source": [
    "## STEP 3. SubwordTextEncoder 사용하기\n",
    "* subwordTextEncoder를 이용해 문장을 토큰화합니다."
   ]
  },
  {
   "cell_type": "code",
   "execution_count": 11,
   "id": "9ac445a6",
   "metadata": {},
   "outputs": [],
   "source": [
    "tokenizer = tfds.deprecated.text.SubwordTextEncoder.build_from_corpus(questions + answers, target_vocab_size=2**13)"
   ]
  },
  {
   "cell_type": "code",
   "execution_count": 12,
   "id": "465fa9ee",
   "metadata": {},
   "outputs": [
    {
     "name": "stdout",
     "output_type": "stream",
     "text": [
      "START_TOKEN의 번호 : [8139]\n",
      "END_TOKEN의 번호 : [8140]\n"
     ]
    }
   ],
   "source": [
    "START_TOKEN, END_TOKEN = [tokenizer.vocab_size], [tokenizer.vocab_size + 1]\n",
    "print('START_TOKEN의 번호 :' ,[tokenizer.vocab_size])\n",
    "print('END_TOKEN의 번호 :' ,[tokenizer.vocab_size + 1])"
   ]
  },
  {
   "cell_type": "code",
   "execution_count": 13,
   "id": "995b8105",
   "metadata": {},
   "outputs": [],
   "source": [
    "VOCAB_SIZE = tokenizer.vocab_size + 2"
   ]
  },
  {
   "cell_type": "code",
   "execution_count": 14,
   "id": "93e800ea",
   "metadata": {},
   "outputs": [
    {
     "name": "stdout",
     "output_type": "stream",
     "text": [
      "정수 인코딩 후의 21번째 질문 샘플: [5740, 609, 3484, 140, 681, 3720, 845]\n",
      "정수 인코딩 후의 21번째 답변 샘플: [2327, 508, 38]\n"
     ]
    }
   ],
   "source": [
    "print('정수 인코딩 후의 21번째 질문 샘플: {}'.format(tokenizer.encode(questions[21])))\n",
    "print('정수 인코딩 후의 21번째 답변 샘플: {}'.format(tokenizer.encode(answers[21])))"
   ]
  },
  {
   "cell_type": "code",
   "execution_count": 15,
   "id": "e12675b2",
   "metadata": {},
   "outputs": [],
   "source": [
    "MAX_LENGTH = 20"
   ]
  },
  {
   "cell_type": "code",
   "execution_count": 16,
   "id": "11cd12c6",
   "metadata": {},
   "outputs": [],
   "source": [
    "# 정수 인코딩, 최대 길이를 초과하는 샘플 제거, 패딩\n",
    "def tokenize_and_filter(inputs, outputs):\n",
    "    tokenized_inputs, tokenized_outputs = [], []\n",
    "  \n",
    "    for (sentence1, sentence2) in zip(inputs, outputs):\n",
    "    # 정수 인코딩 과정에서 시작 토큰과 종료 토큰을 추가\n",
    "        sentence1 = START_TOKEN + tokenizer.encode(sentence1) + END_TOKEN\n",
    "        sentence2 = START_TOKEN + tokenizer.encode(sentence2) + END_TOKEN\n",
    "\n",
    "    # 최대 길이 20 이하인 경우에만 데이터셋으로 허용\n",
    "        if len(sentence1) <= MAX_LENGTH and len(sentence2) <= MAX_LENGTH:\n",
    "            tokenized_inputs.append(sentence1)\n",
    "            tokenized_outputs.append(sentence2)\n",
    "  \n",
    "  # 최대 길이 20으로 모든 데이터셋을 패딩\n",
    "    tokenized_inputs = tf.keras.preprocessing.sequence.pad_sequences(\n",
    "        tokenized_inputs, maxlen=MAX_LENGTH, padding='post')\n",
    "    tokenized_outputs = tf.keras.preprocessing.sequence.pad_sequences(\n",
    "        tokenized_outputs, maxlen=MAX_LENGTH, padding='post')\n",
    "  \n",
    "    return tokenized_inputs, tokenized_outputs"
   ]
  },
  {
   "cell_type": "code",
   "execution_count": 17,
   "id": "8b4e1421",
   "metadata": {},
   "outputs": [],
   "source": [
    "questions, answers = tokenize_and_filter(questions, answers)"
   ]
  },
  {
   "cell_type": "code",
   "execution_count": 18,
   "id": "0a2b1071",
   "metadata": {},
   "outputs": [
    {
     "name": "stdout",
     "output_type": "stream",
     "text": [
      "11797\n",
      "전처리 후의 22번째 질문 샘플: [8139 5740  609 3484  140  681 3720  845 8140    0    0    0    0    0\n",
      "    0    0    0    0    0    0]\n",
      "전처리 후의 22번째 답변 샘플: [8139 2327  508   38 8140    0    0    0    0    0    0    0    0    0\n",
      "    0    0    0    0    0    0]\n"
     ]
    }
   ],
   "source": [
    "print(len(questions))\n",
    "print('전처리 후의 22번째 질문 샘플: {}'.format(questions[21]))\n",
    "print('전처리 후의 22번째 답변 샘플: {}'.format(answers[21]))"
   ]
  },
  {
   "cell_type": "code",
   "execution_count": 19,
   "id": "349d6f54",
   "metadata": {},
   "outputs": [],
   "source": [
    "BATCH_SIZE = 64\n",
    "BUFFER_SIZE = 20000\n",
    "\n",
    "# 디코더는 이전의 target을 다음의 input으로 사용합니다.\n",
    "# 이에 따라 outputs에서는 START_TOKEN을 제거하겠습니다.\n",
    "dataset = tf.data.Dataset.from_tensor_slices((\n",
    "    {\n",
    "        'inputs': questions,\n",
    "        'dec_inputs': answers[:, :-1]\n",
    "    },\n",
    "    {\n",
    "        'outputs': answers[:, 1:]\n",
    "    },\n",
    "))\n",
    "\n",
    "dataset = dataset.cache()\n",
    "dataset = dataset.shuffle(BUFFER_SIZE)\n",
    "dataset = dataset.batch(BATCH_SIZE)\n",
    "dataset = dataset.prefetch(tf.data.experimental.AUTOTUNE)"
   ]
  },
  {
   "cell_type": "markdown",
   "id": "0d36f9d4",
   "metadata": {},
   "source": [
    "## STEP 4. 모델 구성하기"
   ]
  },
  {
   "cell_type": "code",
   "execution_count": 20,
   "id": "fe665cb2",
   "metadata": {},
   "outputs": [],
   "source": [
    "def transformer(vocab_size,num_layers,units,d_model,num_heads,dropout,name=\"transformer\"):\n",
    "    inputs = tf.keras.Input(shape=(None,), name=\"inputs\")\n",
    "    dec_inputs = tf.keras.Input(shape=(None,), name=\"dec_inputs\")\n",
    "\n",
    "  # 인코더에서 패딩을 위한 마스크\n",
    "    enc_padding_mask = tf.keras.layers.Lambda(\n",
    "      create_padding_mask, output_shape=(1, 1, None),\n",
    "      name='enc_padding_mask')(inputs)\n",
    "\n",
    "  # 디코더에서 미래의 토큰을 마스크 하기 위해서 사용합니다.\n",
    "  # 내부적으로 패딩 마스크도 포함되어져 있습니다.\n",
    "    look_ahead_mask = tf.keras.layers.Lambda(\n",
    "      create_look_ahead_mask,\n",
    "      output_shape=(1, None, None),\n",
    "      name='look_ahead_mask')(dec_inputs)\n",
    "\n",
    "  # 두 번째 어텐션 블록에서 인코더의 벡터들을 마스킹\n",
    "  # 디코더에서 패딩을 위한 마스크\n",
    "    dec_padding_mask = tf.keras.layers.Lambda(\n",
    "      create_padding_mask, output_shape=(1, 1, None),\n",
    "      name='dec_padding_mask')(inputs)\n",
    "\n",
    "  # 인코더\n",
    "    enc_outputs = encoder(\n",
    "      vocab_size=vocab_size,\n",
    "      num_layers=num_layers,\n",
    "      units=units,\n",
    "      d_model=d_model,\n",
    "      num_heads=num_heads,\n",
    "      dropout=dropout,\n",
    "    )(inputs=[inputs, enc_padding_mask])\n",
    "\n",
    "  # 디코더\n",
    "    dec_outputs = decoder(\n",
    "      vocab_size=vocab_size,\n",
    "      num_layers=num_layers,\n",
    "      units=units,\n",
    "      d_model=d_model,\n",
    "      num_heads=num_heads,\n",
    "      dropout=dropout,\n",
    "    )(inputs=[dec_inputs, enc_outputs, look_ahead_mask, dec_padding_mask])\n",
    "\n",
    "  # 완전연결층\n",
    "    outputs = tf.keras.layers.Dense(units=vocab_size, name=\"outputs\")(dec_outputs)\n",
    "\n",
    "    return tf.keras.Model(inputs=[inputs, dec_inputs], outputs=outputs, name=name)"
   ]
  },
  {
   "cell_type": "code",
   "execution_count": 21,
   "id": "161fd1dd",
   "metadata": {},
   "outputs": [
    {
     "name": "stdout",
     "output_type": "stream",
     "text": [
      "Model: \"transformer\"\n",
      "__________________________________________________________________________________________________\n",
      "Layer (type)                    Output Shape         Param #     Connected to                     \n",
      "==================================================================================================\n",
      "inputs (InputLayer)             [(None, None)]       0                                            \n",
      "__________________________________________________________________________________________________\n",
      "dec_inputs (InputLayer)         [(None, None)]       0                                            \n",
      "__________________________________________________________________________________________________\n",
      "enc_padding_mask (Lambda)       (None, 1, 1, None)   0           inputs[0][0]                     \n",
      "__________________________________________________________________________________________________\n",
      "encoder (Functional)            (None, None, 256)    3138304     inputs[0][0]                     \n",
      "                                                                 enc_padding_mask[0][0]           \n",
      "__________________________________________________________________________________________________\n",
      "look_ahead_mask (Lambda)        (None, 1, None, None 0           dec_inputs[0][0]                 \n",
      "__________________________________________________________________________________________________\n",
      "dec_padding_mask (Lambda)       (None, 1, 1, None)   0           inputs[0][0]                     \n",
      "__________________________________________________________________________________________________\n",
      "decoder (Functional)            (None, None, 256)    3665664     dec_inputs[0][0]                 \n",
      "                                                                 encoder[0][0]                    \n",
      "                                                                 look_ahead_mask[0][0]            \n",
      "                                                                 dec_padding_mask[0][0]           \n",
      "__________________________________________________________________________________________________\n",
      "outputs (Dense)                 (None, None, 8141)   2092237     decoder[0][0]                    \n",
      "==================================================================================================\n",
      "Total params: 8,896,205\n",
      "Trainable params: 8,896,205\n",
      "Non-trainable params: 0\n",
      "__________________________________________________________________________________________________\n"
     ]
    }
   ],
   "source": [
    "tf.keras.backend.clear_session()\n",
    "\n",
    "# 하이퍼파라미터\n",
    "NUM_LAYERS = 2 # 인코더와 디코더의 층의 개수\n",
    "D_MODEL = 256 # 인코더와 디코더 내부의 입, 출력의 고정 차원\n",
    "NUM_HEADS = 8 # 멀티 헤드 어텐션에서의 헤드 수 \n",
    "UNITS = 512 # 피드 포워드 신경망의 은닉층의 크기\n",
    "DROPOUT = 0.1 # 드롭아웃의 비율\n",
    "\n",
    "model = transformer(\n",
    "    vocab_size=VOCAB_SIZE,\n",
    "    num_layers=NUM_LAYERS,\n",
    "    units=UNITS,\n",
    "    d_model=D_MODEL,\n",
    "    num_heads=NUM_HEADS,\n",
    "    dropout=DROPOUT)\n",
    "\n",
    "model.summary()"
   ]
  },
  {
   "cell_type": "markdown",
   "id": "76f480e6",
   "metadata": {},
   "source": [
    "#### 학습에 필요한 함수 및 객체를 정의합니다."
   ]
  },
  {
   "cell_type": "code",
   "execution_count": 22,
   "id": "d88a858f",
   "metadata": {},
   "outputs": [],
   "source": [
    "def loss_function(y_true, y_pred):\n",
    "    y_true = tf.reshape(y_true, shape=(-1, MAX_LENGTH - 1))\n",
    "  \n",
    "    loss = tf.keras.losses.SparseCategoricalCrossentropy(\n",
    "      from_logits=True, reduction='none')(y_true, y_pred)\n",
    "\n",
    "    mask = tf.cast(tf.not_equal(y_true, 0), tf.float32)\n",
    "    loss = tf.multiply(loss, mask)\n",
    "\n",
    "    return tf.reduce_mean(loss)\n",
    "\n",
    "class CustomSchedule(tf.keras.optimizers.schedules.LearningRateSchedule):\n",
    "\n",
    "    def __init__(self, d_model, warmup_steps=4000):\n",
    "        super(CustomSchedule, self).__init__()\n",
    "\n",
    "        self.d_model = d_model\n",
    "        self.d_model = tf.cast(self.d_model, tf.float32)\n",
    "\n",
    "        self.warmup_steps = warmup_steps\n",
    "\n",
    "    def __call__(self, step):\n",
    "        arg1 = tf.math.rsqrt(step)\n",
    "        arg2 = step * (self.warmup_steps**-1.5)\n",
    "\n",
    "        return tf.math.rsqrt(self.d_model) * tf.math.minimum(arg1, arg2)"
   ]
  },
  {
   "cell_type": "code",
   "execution_count": 23,
   "id": "ee842aa0",
   "metadata": {},
   "outputs": [],
   "source": [
    "learning_rate = CustomSchedule(D_MODEL)\n",
    "\n",
    "optimizer = tf.keras.optimizers.Adam(\n",
    "    learning_rate, beta_1=0.9, beta_2=0.98, epsilon=1e-9)\n",
    "\n",
    "def accuracy(y_true, y_pred):\n",
    "    y_true = tf.reshape(y_true, shape=(-1, MAX_LENGTH - 1))\n",
    "    return tf.keras.metrics.sparse_categorical_accuracy(y_true, y_pred)\n",
    "\n",
    "model.compile(optimizer=optimizer, loss=loss_function, metrics=[accuracy])"
   ]
  },
  {
   "cell_type": "code",
   "execution_count": 24,
   "id": "c360778f",
   "metadata": {},
   "outputs": [
    {
     "name": "stdout",
     "output_type": "stream",
     "text": [
      "Epoch 1/100\n",
      "185/185 [==============================] - 13s 37ms/step - loss: 2.9510 - accuracy: 0.0604\n",
      "Epoch 2/100\n",
      "185/185 [==============================] - 7s 37ms/step - loss: 2.3846 - accuracy: 0.1024\n",
      "Epoch 3/100\n",
      "185/185 [==============================] - 7s 37ms/step - loss: 2.0276 - accuracy: 0.1052\n",
      "Epoch 4/100\n",
      "185/185 [==============================] - 7s 37ms/step - loss: 1.8847 - accuracy: 0.1122\n",
      "Epoch 5/100\n",
      "185/185 [==============================] - 7s 37ms/step - loss: 1.7676 - accuracy: 0.1188\n",
      "Epoch 6/100\n",
      "185/185 [==============================] - 7s 37ms/step - loss: 1.6484 - accuracy: 0.1268\n",
      "Epoch 7/100\n",
      "185/185 [==============================] - 7s 37ms/step - loss: 1.5136 - accuracy: 0.1389\n",
      "Epoch 8/100\n",
      "185/185 [==============================] - 7s 37ms/step - loss: 1.3682 - accuracy: 0.1545\n",
      "Epoch 9/100\n",
      "185/185 [==============================] - 7s 37ms/step - loss: 1.2087 - accuracy: 0.1721\n",
      "Epoch 10/100\n",
      "185/185 [==============================] - 7s 37ms/step - loss: 1.0402 - accuracy: 0.1916\n",
      "Epoch 11/100\n",
      "185/185 [==============================] - 7s 37ms/step - loss: 0.8698 - accuracy: 0.2126\n",
      "Epoch 12/100\n",
      "185/185 [==============================] - 7s 37ms/step - loss: 0.7060 - accuracy: 0.2340\n",
      "Epoch 13/100\n",
      "185/185 [==============================] - 7s 37ms/step - loss: 0.5536 - accuracy: 0.2564\n",
      "Epoch 14/100\n",
      "185/185 [==============================] - 7s 37ms/step - loss: 0.4226 - accuracy: 0.2764\n",
      "Epoch 15/100\n",
      "185/185 [==============================] - 7s 37ms/step - loss: 0.3089 - accuracy: 0.2965\n",
      "Epoch 16/100\n",
      "185/185 [==============================] - 7s 37ms/step - loss: 0.2244 - accuracy: 0.3114\n",
      "Epoch 17/100\n",
      "185/185 [==============================] - 7s 37ms/step - loss: 0.1624 - accuracy: 0.3229\n",
      "Epoch 18/100\n",
      "185/185 [==============================] - 7s 37ms/step - loss: 0.1274 - accuracy: 0.3287\n",
      "Epoch 19/100\n",
      "185/185 [==============================] - 7s 37ms/step - loss: 0.1055 - accuracy: 0.3325\n",
      "Epoch 20/100\n",
      "185/185 [==============================] - 7s 37ms/step - loss: 0.0923 - accuracy: 0.3350\n",
      "Epoch 21/100\n",
      "185/185 [==============================] - 7s 37ms/step - loss: 0.0860 - accuracy: 0.3358\n",
      "Epoch 22/100\n",
      "185/185 [==============================] - 7s 37ms/step - loss: 0.0827 - accuracy: 0.3359\n",
      "Epoch 23/100\n",
      "185/185 [==============================] - 7s 37ms/step - loss: 0.0760 - accuracy: 0.3376\n",
      "Epoch 24/100\n",
      "185/185 [==============================] - 7s 37ms/step - loss: 0.0639 - accuracy: 0.3404\n",
      "Epoch 25/100\n",
      "185/185 [==============================] - 7s 37ms/step - loss: 0.0556 - accuracy: 0.3424\n",
      "Epoch 26/100\n",
      "185/185 [==============================] - 7s 37ms/step - loss: 0.0502 - accuracy: 0.3439\n",
      "Epoch 27/100\n",
      "185/185 [==============================] - 7s 37ms/step - loss: 0.0456 - accuracy: 0.3448\n",
      "Epoch 28/100\n",
      "185/185 [==============================] - 7s 37ms/step - loss: 0.0416 - accuracy: 0.3458\n",
      "Epoch 29/100\n",
      "185/185 [==============================] - 7s 37ms/step - loss: 0.0381 - accuracy: 0.3468\n",
      "Epoch 30/100\n",
      "185/185 [==============================] - 7s 37ms/step - loss: 0.0336 - accuracy: 0.3481\n",
      "Epoch 31/100\n",
      "185/185 [==============================] - 7s 37ms/step - loss: 0.0316 - accuracy: 0.3487\n",
      "Epoch 32/100\n",
      "185/185 [==============================] - 7s 37ms/step - loss: 0.0287 - accuracy: 0.3492\n",
      "Epoch 33/100\n",
      "185/185 [==============================] - 7s 37ms/step - loss: 0.0258 - accuracy: 0.3499\n",
      "Epoch 34/100\n",
      "185/185 [==============================] - 7s 37ms/step - loss: 0.0247 - accuracy: 0.3503\n",
      "Epoch 35/100\n",
      "185/185 [==============================] - 7s 37ms/step - loss: 0.0235 - accuracy: 0.3505\n",
      "Epoch 36/100\n",
      "185/185 [==============================] - 7s 37ms/step - loss: 0.0211 - accuracy: 0.3511\n",
      "Epoch 37/100\n",
      "185/185 [==============================] - 7s 37ms/step - loss: 0.0209 - accuracy: 0.3510\n",
      "Epoch 38/100\n",
      "185/185 [==============================] - 7s 37ms/step - loss: 0.0194 - accuracy: 0.3515\n",
      "Epoch 39/100\n",
      "185/185 [==============================] - 7s 37ms/step - loss: 0.0187 - accuracy: 0.3516\n",
      "Epoch 40/100\n",
      "185/185 [==============================] - 7s 38ms/step - loss: 0.0176 - accuracy: 0.3517\n",
      "Epoch 41/100\n",
      "185/185 [==============================] - 7s 37ms/step - loss: 0.0170 - accuracy: 0.3521\n",
      "Epoch 42/100\n",
      "185/185 [==============================] - 7s 37ms/step - loss: 0.0161 - accuracy: 0.3524\n",
      "Epoch 43/100\n",
      "185/185 [==============================] - 7s 37ms/step - loss: 0.0157 - accuracy: 0.3524\n",
      "Epoch 44/100\n",
      "185/185 [==============================] - 7s 37ms/step - loss: 0.0148 - accuracy: 0.3527\n",
      "Epoch 45/100\n",
      "185/185 [==============================] - 7s 37ms/step - loss: 0.0137 - accuracy: 0.3530\n",
      "Epoch 46/100\n",
      "185/185 [==============================] - 7s 37ms/step - loss: 0.0135 - accuracy: 0.3529\n",
      "Epoch 47/100\n",
      "185/185 [==============================] - 7s 37ms/step - loss: 0.0129 - accuracy: 0.3530\n",
      "Epoch 48/100\n",
      "185/185 [==============================] - 7s 37ms/step - loss: 0.0126 - accuracy: 0.3532\n",
      "Epoch 49/100\n",
      "185/185 [==============================] - 7s 37ms/step - loss: 0.0116 - accuracy: 0.3535\n",
      "Epoch 50/100\n",
      "185/185 [==============================] - 7s 37ms/step - loss: 0.0113 - accuracy: 0.3534\n",
      "Epoch 51/100\n",
      "185/185 [==============================] - 7s 37ms/step - loss: 0.0111 - accuracy: 0.3535\n",
      "Epoch 52/100\n",
      "185/185 [==============================] - 7s 37ms/step - loss: 0.0106 - accuracy: 0.3536\n",
      "Epoch 53/100\n",
      "185/185 [==============================] - 7s 37ms/step - loss: 0.0103 - accuracy: 0.3538\n",
      "Epoch 54/100\n",
      "185/185 [==============================] - 7s 37ms/step - loss: 0.0101 - accuracy: 0.3538\n",
      "Epoch 55/100\n",
      "185/185 [==============================] - 7s 37ms/step - loss: 0.0098 - accuracy: 0.3537\n",
      "Epoch 56/100\n",
      "185/185 [==============================] - 7s 37ms/step - loss: 0.0095 - accuracy: 0.3537\n",
      "Epoch 57/100\n",
      "185/185 [==============================] - 7s 37ms/step - loss: 0.0094 - accuracy: 0.3539\n",
      "Epoch 58/100\n",
      "185/185 [==============================] - 7s 37ms/step - loss: 0.0094 - accuracy: 0.3539\n",
      "Epoch 59/100\n",
      "185/185 [==============================] - 7s 37ms/step - loss: 0.0084 - accuracy: 0.3542\n",
      "Epoch 60/100\n",
      "185/185 [==============================] - 7s 37ms/step - loss: 0.0080 - accuracy: 0.3543\n",
      "Epoch 61/100\n",
      "185/185 [==============================] - 7s 37ms/step - loss: 0.0086 - accuracy: 0.3541\n",
      "Epoch 62/100\n",
      "185/185 [==============================] - 7s 37ms/step - loss: 0.0078 - accuracy: 0.3543\n",
      "Epoch 63/100\n",
      "185/185 [==============================] - 7s 37ms/step - loss: 0.0077 - accuracy: 0.3543\n",
      "Epoch 64/100\n",
      "185/185 [==============================] - 7s 37ms/step - loss: 0.0080 - accuracy: 0.3542\n",
      "Epoch 65/100\n",
      "185/185 [==============================] - 7s 37ms/step - loss: 0.0072 - accuracy: 0.3544\n",
      "Epoch 66/100\n",
      "185/185 [==============================] - 7s 37ms/step - loss: 0.0080 - accuracy: 0.3543\n",
      "Epoch 67/100\n",
      "185/185 [==============================] - 7s 37ms/step - loss: 0.0070 - accuracy: 0.3544\n",
      "Epoch 68/100\n",
      "185/185 [==============================] - 7s 37ms/step - loss: 0.0070 - accuracy: 0.3545\n",
      "Epoch 69/100\n",
      "185/185 [==============================] - 7s 37ms/step - loss: 0.0068 - accuracy: 0.3544\n",
      "Epoch 70/100\n",
      "185/185 [==============================] - 7s 37ms/step - loss: 0.0066 - accuracy: 0.3545\n",
      "Epoch 71/100\n",
      "185/185 [==============================] - 7s 37ms/step - loss: 0.0064 - accuracy: 0.3546\n",
      "Epoch 72/100\n",
      "185/185 [==============================] - 7s 37ms/step - loss: 0.0068 - accuracy: 0.3545\n",
      "Epoch 73/100\n",
      "185/185 [==============================] - 7s 37ms/step - loss: 0.0066 - accuracy: 0.3545\n",
      "Epoch 74/100\n",
      "185/185 [==============================] - 7s 37ms/step - loss: 0.0065 - accuracy: 0.3545\n",
      "Epoch 75/100\n",
      "185/185 [==============================] - 7s 37ms/step - loss: 0.0062 - accuracy: 0.3546\n",
      "Epoch 76/100\n",
      "185/185 [==============================] - 7s 37ms/step - loss: 0.0060 - accuracy: 0.3545\n",
      "Epoch 77/100\n",
      "185/185 [==============================] - 7s 37ms/step - loss: 0.0056 - accuracy: 0.3547\n",
      "Epoch 78/100\n",
      "185/185 [==============================] - 7s 37ms/step - loss: 0.0058 - accuracy: 0.3546\n",
      "Epoch 79/100\n",
      "185/185 [==============================] - 7s 37ms/step - loss: 0.0055 - accuracy: 0.3546\n",
      "Epoch 80/100\n",
      "185/185 [==============================] - 7s 37ms/step - loss: 0.0055 - accuracy: 0.3547\n",
      "Epoch 81/100\n",
      "185/185 [==============================] - 7s 37ms/step - loss: 0.0055 - accuracy: 0.3546\n",
      "Epoch 82/100\n",
      "185/185 [==============================] - 7s 37ms/step - loss: 0.0060 - accuracy: 0.3545\n",
      "Epoch 83/100\n",
      "185/185 [==============================] - 7s 37ms/step - loss: 0.0050 - accuracy: 0.3547\n",
      "Epoch 84/100\n",
      "185/185 [==============================] - 7s 37ms/step - loss: 0.0051 - accuracy: 0.3548\n",
      "Epoch 85/100\n",
      "185/185 [==============================] - 7s 37ms/step - loss: 0.0050 - accuracy: 0.3548\n",
      "Epoch 86/100\n",
      "185/185 [==============================] - 7s 37ms/step - loss: 0.0049 - accuracy: 0.3548\n",
      "Epoch 87/100\n",
      "185/185 [==============================] - 7s 37ms/step - loss: 0.0046 - accuracy: 0.3548\n",
      "Epoch 88/100\n",
      "185/185 [==============================] - 7s 37ms/step - loss: 0.0048 - accuracy: 0.3547\n",
      "Epoch 89/100\n",
      "185/185 [==============================] - 7s 37ms/step - loss: 0.0050 - accuracy: 0.3547\n",
      "Epoch 90/100\n",
      "185/185 [==============================] - 7s 37ms/step - loss: 0.0050 - accuracy: 0.3548\n",
      "Epoch 91/100\n",
      "185/185 [==============================] - 7s 37ms/step - loss: 0.0043 - accuracy: 0.3549\n",
      "Epoch 92/100\n",
      "185/185 [==============================] - 7s 37ms/step - loss: 0.0047 - accuracy: 0.3548\n",
      "Epoch 93/100\n",
      "185/185 [==============================] - 7s 37ms/step - loss: 0.0045 - accuracy: 0.3548\n",
      "Epoch 94/100\n",
      "185/185 [==============================] - 7s 37ms/step - loss: 0.0042 - accuracy: 0.3549\n",
      "Epoch 95/100\n",
      "185/185 [==============================] - 7s 37ms/step - loss: 0.0043 - accuracy: 0.3548\n",
      "Epoch 96/100\n",
      "185/185 [==============================] - 7s 37ms/step - loss: 0.0042 - accuracy: 0.3549\n",
      "Epoch 97/100\n",
      "185/185 [==============================] - 7s 37ms/step - loss: 0.0040 - accuracy: 0.3548\n",
      "Epoch 98/100\n",
      "185/185 [==============================] - 7s 37ms/step - loss: 0.0043 - accuracy: 0.3548\n",
      "Epoch 99/100\n",
      "185/185 [==============================] - 7s 37ms/step - loss: 0.0039 - accuracy: 0.3549\n",
      "Epoch 100/100\n",
      "185/185 [==============================] - 7s 37ms/step - loss: 0.0040 - accuracy: 0.3548\n"
     ]
    }
   ],
   "source": [
    "EPOCHS = 100\n",
    "history = model.fit(dataset, epochs=EPOCHS, verbose=1)"
   ]
  },
  {
   "cell_type": "markdown",
   "id": "0ccd6fb9",
   "metadata": {},
   "source": [
    "#### 훈련과정을 시각화 해봅니다."
   ]
  },
  {
   "cell_type": "code",
   "execution_count": 25,
   "id": "2f195de6",
   "metadata": {},
   "outputs": [
    {
     "data": {
      "image/png": "[encoded data removed]",
      "text/plain": [
       "<Figure size 432x288 with 1 Axes>"
      ]
     },
     "metadata": {
      "needs_background": "light"
     },
     "output_type": "display_data"
    }
   ],
   "source": [
    "plt.plot(history.history['accuracy'])\n",
    "plt.title('Model accuracy')\n",
    "plt.xlabel('Epoch')\n",
    "plt.ylabel('Accuracy')\n",
    "plt.show()"
   ]
  },
  {
   "cell_type": "markdown",
   "id": "0767d45c",
   "metadata": {},
   "source": [
    "## STEP 5. 모델 평가하기\n",
    "* 질문에 맞는 답변을 적절히 하는지 확인합니다."
   ]
  },
  {
   "cell_type": "code",
   "execution_count": 26,
   "id": "473e69a1",
   "metadata": {},
   "outputs": [],
   "source": [
    "def decoder_inference(sentence):\n",
    "    sentence = preprocess_sentence(sentence)\n",
    "\n",
    "  # 입력된 문장을 정수 인코딩 후, 시작 토큰과 종료 토큰을 앞뒤로 추가.\n",
    "  # ex) Where have you been? → [[8331   86   30    5 1059    7 8332]]\n",
    "    sentence = tf.expand_dims(\n",
    "      START_TOKEN + tokenizer.encode(sentence) + END_TOKEN, axis=0)\n",
    "\n",
    "  # 디코더의 현재까지의 예측한 출력 시퀀스가 지속적으로 저장되는 변수.\n",
    "  # 처음에는 예측한 내용이 없음으로 시작 토큰만 별도 저장. ex) 8331\n",
    "    output_sequence = tf.expand_dims(START_TOKEN, 0)\n",
    "\n",
    "  # 디코더의 인퍼런스 단계\n",
    "    for i in range(MAX_LENGTH):\n",
    "    # 디코더는 최대 MAX_LENGTH의 길이만큼 다음 단어 예측을 반복합니다.\n",
    "        predictions = model(inputs=[sentence, output_sequence], training=False)\n",
    "        predictions = predictions[:, -1:, :]\n",
    "\n",
    "    # 현재 예측한 단어의 정수\n",
    "        predicted_id = tf.cast(tf.argmax(predictions, axis=-1), tf.int32)\n",
    "\n",
    "    # 만약 현재 예측한 단어가 종료 토큰이라면 for문을 종료\n",
    "        if tf.equal(predicted_id, END_TOKEN[0]):\n",
    "            break\n",
    "\n",
    "    # 예측한 단어들은 지속적으로 output_sequence에 추가됩니다.\n",
    "    # 이 output_sequence는 다시 디코더의 입력이 됩니다.\n",
    "        output_sequence = tf.concat([output_sequence, predicted_id], axis=-1)\n",
    "\n",
    "    return tf.squeeze(output_sequence, axis=0)\n",
    "\n",
    "def sentence_generation(sentence):\n",
    "  # 입력 문장에 대해서 디코더를 동작 시켜 예측된 정수 시퀀스를 리턴받습니다.\n",
    "    prediction = decoder_inference(sentence)\n",
    "\n",
    "  # 정수 시퀀스를 다시 텍스트 시퀀스로 변환합니다.\n",
    "    predicted_sentence = tokenizer.decode(\n",
    "      [i for i in prediction if i < tokenizer.vocab_size])\n",
    "\n",
    "    print('입력 : {}'.format(sentence))\n",
    "    print('출력 : {}'.format(predicted_sentence))\n",
    "\n",
    "    return predicted_sentence"
   ]
  },
  {
   "cell_type": "code",
   "execution_count": 27,
   "id": "e66e4bd2",
   "metadata": {},
   "outputs": [
    {
     "name": "stdout",
     "output_type": "stream",
     "text": [
      "입력 : 나 너무 힘들어\n",
      "출력 : 지금 무슨 말을 해도 와닿지 않겠지만 잘할 수 있을 거예요 . \n"
     ]
    },
    {
     "data": {
      "text/plain": [
       "'지금 무슨 말을 해도 와닿지 않겠지만 잘할 수 있을 거예요 . '"
      ]
     },
     "execution_count": 27,
     "metadata": {},
     "output_type": "execute_result"
    }
   ],
   "source": [
    "sentence_generation('나 너무 힘들어')"
   ]
  },
  {
   "cell_type": "code",
   "execution_count": 28,
   "id": "d5902472",
   "metadata": {},
   "outputs": [],
   "source": [
    "def chating(sentence):\n",
    "    if sentence==\"대화 종료\":\n",
    "        return False\n",
    "    else:\n",
    "        return True"
   ]
  },
  {
   "cell_type": "code",
   "execution_count": 29,
   "id": "b4482d04",
   "metadata": {},
   "outputs": [
    {
     "name": "stdout",
     "output_type": "stream",
     "text": [
      "잘지냈어?\n",
      "입력 : 잘지냈어?\n",
      "출력 : 안부를 물어주시다니 감사합니다 . \n",
      "나도 잘지내\n",
      "입력 : 나도 잘지내\n",
      "출력 : 잘 지낼 거예요 . \n",
      "이거 멋지지?\n",
      "입력 : 이거 멋지지?\n",
      "출력 : 멋진 분이군요 . \n",
      "요즘 힘드니?\n",
      "입력 : 요즘 힘드니?\n",
      "출력 : 그러게요 . 그만큼 사랑했다는거겠죠 . \n",
      "앞으로도 잘지내\n",
      "입력 : 앞으로도 잘지내\n",
      "출력 : 잘 지낼 수 있을 거예요 . \n",
      "잘있어 안녕!\n",
      "입력 : 잘있어 안녕!\n",
      "출력 : 이제 같은 실수 안 하면 돼요 . \n",
      "잘있어\n",
      "입력 : 잘있어\n",
      "출력 : 잘자요 . \n",
      "대화 종료\n"
     ]
    }
   ],
   "source": [
    "while True:\n",
    "    sentence = input()\n",
    "    if not chating(sentence):\n",
    "        break\n",
    "    sentence_generation(sentence)"
   ]
  },
  {
   "cell_type": "markdown",
   "id": "a3fd2a8c",
   "metadata": {},
   "source": [
    "* 완전 대화하는거같다"
   ]
  },
  {
   "cell_type": "markdown",
   "id": "cdbdeae5",
   "metadata": {},
   "source": [
    "# 회고합시다.\n",
    "* 형태소 분석기 없이도 상당히 괜찮은 모델이 나온것 같습니다.\n",
    "* 몇몇 입력에 대해선 조금 어색하지만 전체적으로 진짜 대화하는것같은 느낌입니다."
   ]
  }
 ],
 "metadata": {
  "kernelspec": {
   "display_name": "Python 3 (ipykernel)",
   "language": "python",
   "name": "python3"
  },
  "language_info": {
   "codemirror_mode": {
    "name": "ipython",
    "version": 3
   },
   "file_extension": ".py",
   "mimetype": "text/x-python",
   "name": "python",
   "nbconvert_exporter": "python",
   "pygments_lexer": "ipython3",
   "version": "3.9.7"
  }
 },
 "nbformat": 4,
 "nbformat_minor": 5
}
