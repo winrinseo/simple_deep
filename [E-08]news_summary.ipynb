{
 "cells": [
  {
   "cell_type": "markdown",
   "id": "84e2a64e",
   "metadata": {},
   "source": [
    "# 텍스트 요약하기"
   ]
  },
  {
   "cell_type": "code",
   "execution_count": 1,
   "id": "cb527aba",
   "metadata": {
    "scrolled": true
   },
   "outputs": [
    {
     "name": "stderr",
     "output_type": "stream",
     "text": [
      "[nltk_data] Downloading package stopwords to /aiffel/nltk_data...\n",
      "[nltk_data]   Package stopwords is already up-to-date!\n"
     ]
    }
   ],
   "source": [
    "import nltk\n",
    "nltk.download('stopwords')\n",
    "\n",
    "import numpy as np\n",
    "import pandas as pd\n",
    "import os\n",
    "import re\n",
    "import matplotlib.pyplot as plt\n",
    "from nltk.corpus import stopwords\n",
    "from bs4 import BeautifulSoup \n",
    "from tensorflow.keras.preprocessing.text import Tokenizer \n",
    "from tensorflow.keras.preprocessing.sequence import pad_sequences\n",
    "import urllib.request\n",
    "import warnings\n",
    "warnings.filterwarnings(\"ignore\", category=UserWarning, module='bs4')"
   ]
  },
  {
   "cell_type": "markdown",
   "id": "79b42308",
   "metadata": {},
   "source": [
    "### 데이터를 가져옵니다."
   ]
  },
  {
   "cell_type": "code",
   "execution_count": 2,
   "id": "51b1732f",
   "metadata": {
    "scrolled": true
   },
   "outputs": [
    {
     "data": {
      "text/html": [
       "<div>\n",
       "<style scoped>\n",
       "    .dataframe tbody tr th:only-of-type {\n",
       "        vertical-align: middle;\n",
       "    }\n",
       "\n",
       "    .dataframe tbody tr th {\n",
       "        vertical-align: top;\n",
       "    }\n",
       "\n",
       "    .dataframe thead th {\n",
       "        text-align: right;\n",
       "    }\n",
       "</style>\n",
       "<table border=\"1\" class=\"dataframe\">\n",
       "  <thead>\n",
       "    <tr style=\"text-align: right;\">\n",
       "      <th></th>\n",
       "      <th>Id</th>\n",
       "      <th>ProductId</th>\n",
       "      <th>UserId</th>\n",
       "      <th>ProfileName</th>\n",
       "      <th>HelpfulnessNumerator</th>\n",
       "      <th>HelpfulnessDenominator</th>\n",
       "      <th>Score</th>\n",
       "      <th>Time</th>\n",
       "      <th>Summary</th>\n",
       "      <th>Text</th>\n",
       "    </tr>\n",
       "  </thead>\n",
       "  <tbody>\n",
       "    <tr>\n",
       "      <th>58800</th>\n",
       "      <td>58801</td>\n",
       "      <td>B000MIFS3Y</td>\n",
       "      <td>A2WFGEBEO19WX9</td>\n",
       "      <td>DreadWolf</td>\n",
       "      <td>0</td>\n",
       "      <td>0</td>\n",
       "      <td>5</td>\n",
       "      <td>1204502400</td>\n",
       "      <td>As good as the cans</td>\n",
       "      <td>If you like the canned version, these are just...</td>\n",
       "    </tr>\n",
       "    <tr>\n",
       "      <th>51182</th>\n",
       "      <td>51183</td>\n",
       "      <td>B001J5QHYS</td>\n",
       "      <td>A1XII9T8QIGNK4</td>\n",
       "      <td>Honest Ade Junkie</td>\n",
       "      <td>0</td>\n",
       "      <td>0</td>\n",
       "      <td>5</td>\n",
       "      <td>1346284800</td>\n",
       "      <td>Best ever bottled drink</td>\n",
       "      <td>I have been buying this drink for a couple of ...</td>\n",
       "    </tr>\n",
       "    <tr>\n",
       "      <th>93731</th>\n",
       "      <td>93732</td>\n",
       "      <td>B001EO5S58</td>\n",
       "      <td>A32B402Z0ZZ7VH</td>\n",
       "      <td>Nakkun</td>\n",
       "      <td>0</td>\n",
       "      <td>0</td>\n",
       "      <td>5</td>\n",
       "      <td>1327968000</td>\n",
       "      <td>Kids love this</td>\n",
       "      <td>This is the most popular Glutino Breakfast Bar...</td>\n",
       "    </tr>\n",
       "    <tr>\n",
       "      <th>82438</th>\n",
       "      <td>82439</td>\n",
       "      <td>B000LKYOAG</td>\n",
       "      <td>A21YNHY2MN83CP</td>\n",
       "      <td>D Taylor</td>\n",
       "      <td>0</td>\n",
       "      <td>0</td>\n",
       "      <td>4</td>\n",
       "      <td>1295827200</td>\n",
       "      <td>Great Tea...But the Cost</td>\n",
       "      <td>This is a great tasting tea.  I use one bag fo...</td>\n",
       "    </tr>\n",
       "    <tr>\n",
       "      <th>28388</th>\n",
       "      <td>28389</td>\n",
       "      <td>B007OXJMD2</td>\n",
       "      <td>A1YNN51RNUCCUA</td>\n",
       "      <td>Jennilee R. Benda</td>\n",
       "      <td>0</td>\n",
       "      <td>0</td>\n",
       "      <td>2</td>\n",
       "      <td>1342915200</td>\n",
       "      <td>It's okay, but not really worth buying.</td>\n",
       "      <td>I had some of this in a sampler pack.  It real...</td>\n",
       "    </tr>\n",
       "  </tbody>\n",
       "</table>\n",
       "</div>"
      ],
      "text/plain": [
       "          Id   ProductId          UserId        ProfileName  \\\n",
       "58800  58801  B000MIFS3Y  A2WFGEBEO19WX9          DreadWolf   \n",
       "51182  51183  B001J5QHYS  A1XII9T8QIGNK4  Honest Ade Junkie   \n",
       "93731  93732  B001EO5S58  A32B402Z0ZZ7VH             Nakkun   \n",
       "82438  82439  B000LKYOAG  A21YNHY2MN83CP           D Taylor   \n",
       "28388  28389  B007OXJMD2  A1YNN51RNUCCUA  Jennilee R. Benda   \n",
       "\n",
       "       HelpfulnessNumerator  HelpfulnessDenominator  Score        Time  \\\n",
       "58800                     0                       0      5  1204502400   \n",
       "51182                     0                       0      5  1346284800   \n",
       "93731                     0                       0      5  1327968000   \n",
       "82438                     0                       0      4  1295827200   \n",
       "28388                     0                       0      2  1342915200   \n",
       "\n",
       "                                       Summary  \\\n",
       "58800                      As good as the cans   \n",
       "51182                  Best ever bottled drink   \n",
       "93731                           Kids love this   \n",
       "82438                 Great Tea...But the Cost   \n",
       "28388  It's okay, but not really worth buying.   \n",
       "\n",
       "                                                    Text  \n",
       "58800  If you like the canned version, these are just...  \n",
       "51182  I have been buying this drink for a couple of ...  \n",
       "93731  This is the most popular Glutino Breakfast Bar...  \n",
       "82438  This is a great tasting tea.  I use one bag fo...  \n",
       "28388  I had some of this in a sampler pack.  It real...  "
      ]
     },
     "execution_count": 2,
     "metadata": {},
     "output_type": "execute_result"
    }
   ],
   "source": [
    "data = pd.read_csv(os.getenv(\"HOME\")+\"/aiffel/news_summarization/data/Reviews.csv\", nrows=100000)\n",
    "data.sample(5)"
   ]
  },
  {
   "cell_type": "markdown",
   "id": "5b7bc7cf",
   "metadata": {},
   "source": [
    "### 필요한 데이터만을 남깁니다."
   ]
  },
  {
   "cell_type": "code",
   "execution_count": 3,
   "id": "6c5eee1c",
   "metadata": {},
   "outputs": [
    {
     "data": {
      "text/html": [
       "<div>\n",
       "<style scoped>\n",
       "    .dataframe tbody tr th:only-of-type {\n",
       "        vertical-align: middle;\n",
       "    }\n",
       "\n",
       "    .dataframe tbody tr th {\n",
       "        vertical-align: top;\n",
       "    }\n",
       "\n",
       "    .dataframe thead th {\n",
       "        text-align: right;\n",
       "    }\n",
       "</style>\n",
       "<table border=\"1\" class=\"dataframe\">\n",
       "  <thead>\n",
       "    <tr style=\"text-align: right;\">\n",
       "      <th></th>\n",
       "      <th>Text</th>\n",
       "      <th>Summary</th>\n",
       "    </tr>\n",
       "  </thead>\n",
       "  <tbody>\n",
       "    <tr>\n",
       "      <th>17506</th>\n",
       "      <td>I really like this blend.  I've had a hard tim...</td>\n",
       "      <td>Strong, but not bitter</td>\n",
       "    </tr>\n",
       "    <tr>\n",
       "      <th>67738</th>\n",
       "      <td>I buy mostly for vending, so the size of the b...</td>\n",
       "      <td>glad to find them in 1 oz size</td>\n",
       "    </tr>\n",
       "    <tr>\n",
       "      <th>53941</th>\n",
       "      <td>I have had trouble getting to sleep or staying...</td>\n",
       "      <td>Relaxxxxxx.........</td>\n",
       "    </tr>\n",
       "    <tr>\n",
       "      <th>7020</th>\n",
       "      <td>These cups work for the most part except for t...</td>\n",
       "      <td>Good Start but Could Be Better.</td>\n",
       "    </tr>\n",
       "    <tr>\n",
       "      <th>43003</th>\n",
       "      <td>The chocolate taste was good (not great), and ...</td>\n",
       "      <td>Fine, But Not Spectacular</td>\n",
       "    </tr>\n",
       "  </tbody>\n",
       "</table>\n",
       "</div>"
      ],
      "text/plain": [
       "                                                    Text  \\\n",
       "17506  I really like this blend.  I've had a hard tim...   \n",
       "67738  I buy mostly for vending, so the size of the b...   \n",
       "53941  I have had trouble getting to sleep or staying...   \n",
       "7020   These cups work for the most part except for t...   \n",
       "43003  The chocolate taste was good (not great), and ...   \n",
       "\n",
       "                               Summary  \n",
       "17506           Strong, but not bitter  \n",
       "67738   glad to find them in 1 oz size  \n",
       "53941              Relaxxxxxx.........  \n",
       "7020   Good Start but Could Be Better.  \n",
       "43003        Fine, But Not Spectacular  "
      ]
     },
     "execution_count": 3,
     "metadata": {},
     "output_type": "execute_result"
    }
   ],
   "source": [
    "data = data[['Text','Summary']]\n",
    "data.sample(5)"
   ]
  },
  {
   "cell_type": "markdown",
   "id": "16312536",
   "metadata": {},
   "source": [
    "## 데이터를 전처리합니다.\n",
    "* 중복을 제거합니다.\n",
    "* NULL값을 제거합니다.\n",
    "* 텍스트를 정규화 합니다.\n",
    "* 훈련 데이터와 테스트 데이터로 분리합니다.\n",
    "* 정수로 인코딩합니다.\n",
    "* 모든 문장의 길이를 통일시켜줍니다.(zero padding)"
   ]
  },
  {
   "cell_type": "code",
   "execution_count": 4,
   "id": "8bb5cc31",
   "metadata": {},
   "outputs": [
    {
     "name": "stdout",
     "output_type": "stream",
     "text": [
      "data의 샘플 수 : 100000\n",
      "Text 열에서 중복을 제외한 유일한 샘플 수 : 88426\n",
      "Summary 열에서 중복을 제외한 유일한 샘플 수 : 72348\n"
     ]
    }
   ],
   "source": [
    "#중복 제거\n",
    "print(\"data의 샘플 수 :\",data.shape[0])\n",
    "print(\"Text 열에서 중복을 제외한 유일한 샘플 수 :\",data['Text'].nunique())\n",
    "print(\"Summary 열에서 중복을 제외한 유일한 샘플 수 :\",data['Summary'].nunique())"
   ]
  },
  {
   "cell_type": "markdown",
   "id": "6d735387",
   "metadata": {},
   "source": [
    "* Summary의 중복은 있을 수 있지만 Text의 중복은 중복 샘플이므로 제거합니다."
   ]
  },
  {
   "cell_type": "code",
   "execution_count": 5,
   "id": "d7d90efc",
   "metadata": {},
   "outputs": [
    {
     "name": "stdout",
     "output_type": "stream",
     "text": [
      "data의 샘플 수 : 88426\n"
     ]
    }
   ],
   "source": [
    "data.drop_duplicates(subset = ['Text'],inplace = True)\n",
    "print(\"data의 샘플 수 :\",data.shape[0])"
   ]
  },
  {
   "cell_type": "code",
   "execution_count": 6,
   "id": "c7ffaf91",
   "metadata": {},
   "outputs": [
    {
     "name": "stdout",
     "output_type": "stream",
     "text": [
      "Text       0\n",
      "Summary    1\n",
      "dtype: int64\n"
     ]
    }
   ],
   "source": [
    "# 결측치 제거\n",
    "print(data.isnull().sum())"
   ]
  },
  {
   "cell_type": "code",
   "execution_count": 7,
   "id": "3e4145a5",
   "metadata": {},
   "outputs": [
    {
     "name": "stdout",
     "output_type": "stream",
     "text": [
      "data의 샘플 수 : 88425\n"
     ]
    }
   ],
   "source": [
    "data.dropna(axis=0,inplace = True)\n",
    "print(\"data의 샘플 수 :\",data.shape[0])"
   ]
  },
  {
   "cell_type": "markdown",
   "id": "3a8735f3",
   "metadata": {},
   "source": [
    "### 텍스트 정규화와 불용어 제거\n",
    "* 모델의 연산량을 줄이기 위해 정규화 시 같은 의미의 다른 표현들을 서로 통일 시켜줍니다.\n",
    "* 예를 들어 it'll은 it will과 같은 말이기 때문에 같은 표현으로 간주하도록 합니다."
   ]
  },
  {
   "cell_type": "code",
   "execution_count": 8,
   "id": "a5748b16",
   "metadata": {},
   "outputs": [
    {
     "name": "stdout",
     "output_type": "stream",
     "text": [
      "정규화 사전의 수:  120\n"
     ]
    }
   ],
   "source": [
    "# 표현을 통일시키기 위한 딕셔너리 정의\n",
    "contractions = {\"ain't\": \"is not\", \"aren't\": \"are not\",\"can't\": \"cannot\", \"'cause\": \"because\", \"could've\": \"could have\", \"couldn't\": \"could not\",\n",
    "                           \"didn't\": \"did not\",  \"doesn't\": \"does not\", \"don't\": \"do not\", \"hadn't\": \"had not\", \"hasn't\": \"has not\", \"haven't\": \"have not\",\n",
    "                           \"he'd\": \"he would\",\"he'll\": \"he will\", \"he's\": \"he is\", \"how'd\": \"how did\", \"how'd'y\": \"how do you\", \"how'll\": \"how will\", \"how's\": \"how is\",\n",
    "                           \"I'd\": \"I would\", \"I'd've\": \"I would have\", \"I'll\": \"I will\", \"I'll've\": \"I will have\",\"I'm\": \"I am\", \"I've\": \"I have\", \"i'd\": \"i would\",\n",
    "                           \"i'd've\": \"i would have\", \"i'll\": \"i will\",  \"i'll've\": \"i will have\",\"i'm\": \"i am\", \"i've\": \"i have\", \"isn't\": \"is not\", \"it'd\": \"it would\",\n",
    "                           \"it'd've\": \"it would have\", \"it'll\": \"it will\", \"it'll've\": \"it will have\",\"it's\": \"it is\", \"let's\": \"let us\", \"ma'am\": \"madam\",\n",
    "                           \"mayn't\": \"may not\", \"might've\": \"might have\",\"mightn't\": \"might not\",\"mightn't've\": \"might not have\", \"must've\": \"must have\",\n",
    "                           \"mustn't\": \"must not\", \"mustn't've\": \"must not have\", \"needn't\": \"need not\", \"needn't've\": \"need not have\",\"o'clock\": \"of the clock\",\n",
    "                           \"oughtn't\": \"ought not\", \"oughtn't've\": \"ought not have\", \"shan't\": \"shall not\", \"sha'n't\": \"shall not\", \"shan't've\": \"shall not have\",\n",
    "                           \"she'd\": \"she would\", \"she'd've\": \"she would have\", \"she'll\": \"she will\", \"she'll've\": \"she will have\", \"she's\": \"she is\",\n",
    "                           \"should've\": \"should have\", \"shouldn't\": \"should not\", \"shouldn't've\": \"should not have\", \"so've\": \"so have\",\"so's\": \"so as\",\n",
    "                           \"this's\": \"this is\",\"that'd\": \"that would\", \"that'd've\": \"that would have\", \"that's\": \"that is\", \"there'd\": \"there would\",\n",
    "                           \"there'd've\": \"there would have\", \"there's\": \"there is\", \"here's\": \"here is\",\"they'd\": \"they would\", \"they'd've\": \"they would have\",\n",
    "                           \"they'll\": \"they will\", \"they'll've\": \"they will have\", \"they're\": \"they are\", \"they've\": \"they have\", \"to've\": \"to have\",\n",
    "                           \"wasn't\": \"was not\", \"we'd\": \"we would\", \"we'd've\": \"we would have\", \"we'll\": \"we will\", \"we'll've\": \"we will have\", \"we're\": \"we are\",\n",
    "                           \"we've\": \"we have\", \"weren't\": \"were not\", \"what'll\": \"what will\", \"what'll've\": \"what will have\", \"what're\": \"what are\",\n",
    "                           \"what's\": \"what is\", \"what've\": \"what have\", \"when's\": \"when is\", \"when've\": \"when have\", \"where'd\": \"where did\", \"where's\": \"where is\",\n",
    "                           \"where've\": \"where have\", \"who'll\": \"who will\", \"who'll've\": \"who will have\", \"who's\": \"who is\", \"who've\": \"who have\",\n",
    "                           \"why's\": \"why is\", \"why've\": \"why have\", \"will've\": \"will have\", \"won't\": \"will not\", \"won't've\": \"will not have\",\n",
    "                           \"would've\": \"would have\", \"wouldn't\": \"would not\", \"wouldn't've\": \"would not have\", \"y'all\": \"you all\",\n",
    "                           \"y'all'd\": \"you all would\",\"y'all'd've\": \"you all would have\",\"y'all're\": \"you all are\",\"y'all've\": \"you all have\",\n",
    "                           \"you'd\": \"you would\", \"you'd've\": \"you would have\", \"you'll\": \"you will\", \"you'll've\": \"you will have\",\n",
    "                           \"you're\": \"you are\", \"you've\": \"you have\"}\n",
    "\n",
    "print(\"정규화 사전의 수: \", len(contractions))"
   ]
  },
  {
   "cell_type": "markdown",
   "id": "ce18bcbc",
   "metadata": {},
   "source": [
    "### 불용어를 제거합니다.\n",
    "* 텍스트에는 자주 등장하지만 자연어 처리를 할 때에는 실질적인 도움이 되지않는 언어를 불용어라고 합니다.\n",
    "* 아래에서 NLTK에서 제공하는 불용어 리스트를 참조해, 불용어를 제거합니다."
   ]
  },
  {
   "cell_type": "code",
   "execution_count": 9,
   "id": "f47f9ed4",
   "metadata": {
    "scrolled": true
   },
   "outputs": [
    {
     "name": "stdout",
     "output_type": "stream",
     "text": [
      "불용어 개수 : 179\n",
      "['i', 'me', 'my', 'myself', 'we', 'our', 'ours', 'ourselves', 'you', \"you're\", \"you've\", \"you'll\", \"you'd\", 'your', 'yours', 'yourself', 'yourselves', 'he', 'him', 'his']\n"
     ]
    }
   ],
   "source": [
    "# 사전에 정의된 불용어 리스트를 확인합니다.\n",
    "print('불용어 개수 :', len(stopwords.words('english') ))\n",
    "print(stopwords.words('english')[:20])"
   ]
  },
  {
   "cell_type": "code",
   "execution_count": 10,
   "id": "42945d68",
   "metadata": {},
   "outputs": [],
   "source": [
    "# 데이터 전처리를 위한 함수\n",
    "def preprocess_sentence(sentence, remove_stopwords=True):\n",
    "    sentence = sentence.lower()\n",
    "    sentence = BeautifulSoup(sentence, \"lxml\").text # <br />, <a href = ...> 등의 html 태그 제거\n",
    "    sentence = re.sub(r'\\([^)]*\\)', '', sentence) # 괄호로 닫힌 문자열 (...) 제거 Ex) my husband (and myself!) for => my husband for\n",
    "    sentence = re.sub('\"','', sentence) # 쌍따옴표 \" 제거\n",
    "    sentence = ' '.join([contractions[t] if t in contractions else t for t in sentence.split(\" \")]) # 약어 정규화\n",
    "    sentence = re.sub(r\"'s\\b\",\"\", sentence) # 소유격 제거. Ex) roland's -> roland\n",
    "    sentence = re.sub(\"[^a-zA-Z]\", \" \", sentence) # 영어 외 문자(숫자, 특수문자 등) 공백으로 변환\n",
    "    sentence = re.sub('[m]{2,}', 'mm', sentence) # m이 3개 이상이면 2개로 변경. Ex) ummmmmmm yeah -> umm yeah\n",
    "    \n",
    "    # 불용어 제거 (Text)\n",
    "    if remove_stopwords:\n",
    "        tokens = ' '.join(word for word in sentence.split() if not word in stopwords.words('english') if len(word) > 1)\n",
    "    # 불용어 미제거 (Summary)\n",
    "    else:\n",
    "        tokens = ' '.join(word for word in sentence.split() if len(word) > 1)\n",
    "    return tokens"
   ]
  },
  {
   "cell_type": "code",
   "execution_count": 11,
   "id": "020bc843",
   "metadata": {},
   "outputs": [],
   "source": [
    "clean_text = []\n",
    "for s in data['Text']:\n",
    "    clean_text.append(preprocess_sentence(s))"
   ]
  },
  {
   "cell_type": "code",
   "execution_count": 12,
   "id": "1909a020",
   "metadata": {},
   "outputs": [],
   "source": [
    "clean_summary = []\n",
    "for s in data['Summary']:\n",
    "    clean_summary.append(preprocess_sentence(s, False))"
   ]
  },
  {
   "cell_type": "markdown",
   "id": "9a0b5f1e",
   "metadata": {},
   "source": [
    "* 상대적으로 짧은 Summary에는 불용어가 남아있는것이 좋습니다."
   ]
  },
  {
   "cell_type": "code",
   "execution_count": 13,
   "id": "1807c984",
   "metadata": {},
   "outputs": [
    {
     "name": "stdout",
     "output_type": "stream",
     "text": [
      "Text 전처리 후 결과 : ['bought several vitality canned dog food products found good quality product looks like stew processed meat smells better labrador finicky appreciates product better', 'product arrived labeled jumbo salted peanuts peanuts actually small sized unsalted sure error vendor intended represent product jumbo', 'confection around centuries light pillowy citrus gelatin nuts case filberts cut tiny squares liberally coated powdered sugar tiny mouthful heaven chewy flavorful highly recommend yummy treat familiar story lewis lion witch wardrobe treat seduces edmund selling brother sisters witch']\n",
      "Summary 전처리 후 결과 : ['good quality dog food', 'not as advertised', 'delight says it all']\n"
     ]
    }
   ],
   "source": [
    "print(\"Text 전처리 후 결과 :\",clean_text[:3])\n",
    "print(\"Summary 전처리 후 결과 :\",clean_summary[:3])"
   ]
  },
  {
   "cell_type": "code",
   "execution_count": 14,
   "id": "723703b7",
   "metadata": {
    "scrolled": true
   },
   "outputs": [
    {
     "name": "stdout",
     "output_type": "stream",
     "text": [
      "전체 샘플 수 : 88355\n"
     ]
    }
   ],
   "source": [
    "#전처리된 데이터로 대체해줍니다.\n",
    "data['Text'] = clean_text\n",
    "data['Summary'] = clean_summary\n",
    "#비어있는 값을 NULL로 변환합니다.\n",
    "data.replace('',np.nan,inplace=True)\n",
    "#NULL값이 생겼는지 확인해보겠습니다.\n",
    "data.isnull().sum()\n",
    "#NULL을 제거합니다.\n",
    "data.dropna(axis=0,inplace=True)\n",
    "print('전체 샘플 수 :',data.shape[0])"
   ]
  },
  {
   "cell_type": "markdown",
   "id": "d90f2d7f",
   "metadata": {},
   "source": [
    "### 샘플의 최대 길이 결정하기\n",
    "* 데이터 시각화를 통해 최대길이를 어떻게 결정할지 생각해봅시다."
   ]
  },
  {
   "cell_type": "code",
   "execution_count": 15,
   "id": "9462b164",
   "metadata": {},
   "outputs": [
    {
     "name": "stdout",
     "output_type": "stream",
     "text": [
      "텍스트의 최소 길이 : 2\n",
      "텍스트의 최대 길이 : 1235\n",
      "텍스트의 평균 길이 : 38.792428272310566\n",
      "요약의 최소 길이 : 1\n",
      "요약의 최대 길이 : 28\n",
      "요약의 평균 길이 : 4.010729443721352\n"
     ]
    },
    {
     "data": {
      "image/png": "[encoded data removed]",
      "text/plain": [
       "<Figure size 432x288 with 2 Axes>"
      ]
     },
     "metadata": {
      "needs_background": "light"
     },
     "output_type": "display_data"
    },
    {
     "data": {
      "image/png": "[encoded data removed]",
      "text/plain": [
       "<Figure size 432x288 with 1 Axes>"
      ]
     },
     "metadata": {
      "needs_background": "light"
     },
     "output_type": "display_data"
    },
    {
     "data": {
      "image/png": "[encoded data removed]",
      "text/plain": [
       "<Figure size 432x288 with 1 Axes>"
      ]
     },
     "metadata": {
      "needs_background": "light"
     },
     "output_type": "display_data"
    }
   ],
   "source": [
    "# 길이 분포 시각화\n",
    "import matplotlib.pyplot as plt\n",
    "\n",
    "text_len = [len(s.split()) for s in data['Text']]\n",
    "summary_len = [len(s.split()) for s in data['Summary']]\n",
    "\n",
    "print('텍스트의 최소 길이 : {}'.format(np.min(text_len)))\n",
    "print('텍스트의 최대 길이 : {}'.format(np.max(text_len)))\n",
    "print('텍스트의 평균 길이 : {}'.format(np.mean(text_len)))\n",
    "print('요약의 최소 길이 : {}'.format(np.min(summary_len)))\n",
    "print('요약의 최대 길이 : {}'.format(np.max(summary_len)))\n",
    "print('요약의 평균 길이 : {}'.format(np.mean(summary_len)))\n",
    "\n",
    "plt.subplot(1,2,1)\n",
    "plt.boxplot(text_len)\n",
    "plt.title('Text')\n",
    "plt.subplot(1,2,2)\n",
    "plt.boxplot(summary_len)\n",
    "plt.title('Summary')\n",
    "plt.tight_layout()\n",
    "plt.show()\n",
    "\n",
    "plt.title('Text')\n",
    "plt.hist(text_len, bins = 40)\n",
    "plt.xlabel('length of samples')\n",
    "plt.ylabel('number of samples')\n",
    "plt.show()\n",
    "\n",
    "plt.title('Summary')\n",
    "plt.hist(summary_len, bins = 40)\n",
    "plt.xlabel('length of samples')\n",
    "plt.ylabel('number of samples')\n",
    "plt.show()"
   ]
  },
  {
   "cell_type": "markdown",
   "id": "85cf46ff",
   "metadata": {},
   "source": [
    "* Text의 최소길이는 2, 최대길이는 1235로 차이가 매우 크게 나지만 평균길이는 38이며 시각화된 그래프를 보면 대체적으로 100자 내외의 길이를 가집니다.\n",
    "* Summary의 최소길이는 1, 최대길이는 28이며 평균길이는 4로 상대적으로 길이가 짧습니다. 그래프를 보아도 대체적으로 길이가 10 이하인 것을 볼 수 있습니다."
   ]
  },
  {
   "cell_type": "code",
   "execution_count": 16,
   "id": "226c66e1",
   "metadata": {},
   "outputs": [],
   "source": [
    "# 적절한 최대 길이를 결정합니다.\n",
    "text_max_len = 50\n",
    "summary_max_len = 8"
   ]
  },
  {
   "cell_type": "code",
   "execution_count": 17,
   "id": "41703560",
   "metadata": {},
   "outputs": [],
   "source": [
    "#최대길이에 맞는 비율\n",
    "def below_threshold_len(max_len, nested_list):\n",
    "  cnt = 0\n",
    "  for s in nested_list:\n",
    "    if(len(s.split()) <= max_len):\n",
    "        cnt = cnt + 1\n",
    "  print('전체 샘플 중 길이가 %s 이하인 샘플의 비율: %s'%(max_len, (cnt / len(nested_list))))"
   ]
  },
  {
   "cell_type": "code",
   "execution_count": 18,
   "id": "0fb96e7a",
   "metadata": {},
   "outputs": [
    {
     "name": "stdout",
     "output_type": "stream",
     "text": [
      "전체 샘플 중 길이가 50 이하인 샘플의 비율: 0.7745119121724859\n",
      "전체 샘플 중 길이가 8 이하인 샘플의 비율: 0.9424593967517402\n"
     ]
    }
   ],
   "source": [
    "below_threshold_len(text_max_len,data['Text'])\n",
    "below_threshold_len(summary_max_len,data['Summary'])"
   ]
  },
  {
   "cell_type": "markdown",
   "id": "67eda39c",
   "metadata": {},
   "source": [
    "* 해당 길이보다 긴 샘플들은 내용이 잘리게 되는데, 이 대신 이 길이보다 길면 제외하는 방식으로 데이터를 정제하도록 합니다."
   ]
  },
  {
   "cell_type": "code",
   "execution_count": 19,
   "id": "55b7b3fb",
   "metadata": {},
   "outputs": [
    {
     "name": "stdout",
     "output_type": "stream",
     "text": [
      "전체 샘플수 : 65818\n"
     ]
    }
   ],
   "source": [
    "data = data[data['Text'].apply(lambda x: len(x.split()) <= text_max_len)]\n",
    "data = data[data['Summary'].apply(lambda x: len(x.split()) <= summary_max_len)]\n",
    "print('전체 샘플수 :', (len(data)))"
   ]
  },
  {
   "cell_type": "markdown",
   "id": "1c707cf0",
   "metadata": {},
   "source": [
    "### 시작 토큰과 종료 토큰 추가하기\n",
    "* seq2seq 훈련을 위해 디코더의 입력과 레이블에 시작 토큰과 종료 토큰을 추가할 필요가 있습니다.\n",
    "* 각각 decoder_input, decoder_target 컬럼을 Summary 컬럼으로부터 만들도록 합니다."
   ]
  },
  {
   "cell_type": "code",
   "execution_count": 20,
   "id": "1707242b",
   "metadata": {},
   "outputs": [
    {
     "data": {
      "text/html": [
       "<div>\n",
       "<style scoped>\n",
       "    .dataframe tbody tr th:only-of-type {\n",
       "        vertical-align: middle;\n",
       "    }\n",
       "\n",
       "    .dataframe tbody tr th {\n",
       "        vertical-align: top;\n",
       "    }\n",
       "\n",
       "    .dataframe thead th {\n",
       "        text-align: right;\n",
       "    }\n",
       "</style>\n",
       "<table border=\"1\" class=\"dataframe\">\n",
       "  <thead>\n",
       "    <tr style=\"text-align: right;\">\n",
       "      <th></th>\n",
       "      <th>Text</th>\n",
       "      <th>Summary</th>\n",
       "      <th>decoder_input</th>\n",
       "      <th>decoder_target</th>\n",
       "    </tr>\n",
       "  </thead>\n",
       "  <tbody>\n",
       "    <tr>\n",
       "      <th>0</th>\n",
       "      <td>bought several vitality canned dog food produc...</td>\n",
       "      <td>good quality dog food</td>\n",
       "      <td>sostoken good quality dog food</td>\n",
       "      <td>good quality dog food eostoken</td>\n",
       "    </tr>\n",
       "    <tr>\n",
       "      <th>1</th>\n",
       "      <td>product arrived labeled jumbo salted peanuts p...</td>\n",
       "      <td>not as advertised</td>\n",
       "      <td>sostoken not as advertised</td>\n",
       "      <td>not as advertised eostoken</td>\n",
       "    </tr>\n",
       "    <tr>\n",
       "      <th>2</th>\n",
       "      <td>confection around centuries light pillowy citr...</td>\n",
       "      <td>delight says it all</td>\n",
       "      <td>sostoken delight says it all</td>\n",
       "      <td>delight says it all eostoken</td>\n",
       "    </tr>\n",
       "    <tr>\n",
       "      <th>3</th>\n",
       "      <td>looking secret ingredient robitussin believe f...</td>\n",
       "      <td>cough medicine</td>\n",
       "      <td>sostoken cough medicine</td>\n",
       "      <td>cough medicine eostoken</td>\n",
       "    </tr>\n",
       "    <tr>\n",
       "      <th>4</th>\n",
       "      <td>great taffy great price wide assortment yummy ...</td>\n",
       "      <td>great taffy</td>\n",
       "      <td>sostoken great taffy</td>\n",
       "      <td>great taffy eostoken</td>\n",
       "    </tr>\n",
       "  </tbody>\n",
       "</table>\n",
       "</div>"
      ],
      "text/plain": [
       "                                                Text                Summary  \\\n",
       "0  bought several vitality canned dog food produc...  good quality dog food   \n",
       "1  product arrived labeled jumbo salted peanuts p...      not as advertised   \n",
       "2  confection around centuries light pillowy citr...    delight says it all   \n",
       "3  looking secret ingredient robitussin believe f...         cough medicine   \n",
       "4  great taffy great price wide assortment yummy ...            great taffy   \n",
       "\n",
       "                    decoder_input                  decoder_target  \n",
       "0  sostoken good quality dog food  good quality dog food eostoken  \n",
       "1      sostoken not as advertised      not as advertised eostoken  \n",
       "2    sostoken delight says it all    delight says it all eostoken  \n",
       "3         sostoken cough medicine         cough medicine eostoken  \n",
       "4            sostoken great taffy            great taffy eostoken  "
      ]
     },
     "execution_count": 20,
     "metadata": {},
     "output_type": "execute_result"
    }
   ],
   "source": [
    "data['decoder_input'] = data['Summary'].apply(lambda x : 'sostoken ' + x)\n",
    "data['decoder_target'] = data['Summary'].apply(lambda x : x + ' eostoken')\n",
    "data.head()"
   ]
  },
  {
   "cell_type": "code",
   "execution_count": 21,
   "id": "f5ce8c1e",
   "metadata": {},
   "outputs": [],
   "source": [
    "# 테스트데이터와 훈련데이터를 분리하는 함수를 정의합니다.\n",
    "def train_test_split(dt,ratio = 0.2):\n",
    "    #데이터프레임의 컬럼명을 리스트로 받는다.\n",
    "    col_list = list(dt.columns)\n",
    "    #인코더의 입력\n",
    "    encoder_input = np.array(dt[col_list[0]])# text\n",
    "    #디코더의 입력\n",
    "    decoder_input = np.array(dt[col_list[2]])# decoder_input\n",
    "    #디코더의 레이블\n",
    "    decoder_target = np.array(dt[col_list[3]])# decoder_target\n",
    "    \n",
    "    #데이터를 랜덤하게 섞어줍니다.\n",
    "    indices = np.arange(encoder_input.shape[0])\n",
    "    np.random.shuffle(indices)\n",
    "    \n",
    "    encoder_input = encoder_input[indices]\n",
    "    decoder_input = decoder_input[indices]\n",
    "    decoder_target = decoder_target[indices]\n",
    "    n_of_val = int(len(encoder_input)*ratio)\n",
    "    \n",
    "    encoder_input_train = encoder_input[:-n_of_val]\n",
    "    decoder_input_train = decoder_input[:-n_of_val]\n",
    "    decoder_target_train = decoder_target[:-n_of_val]\n",
    "    \n",
    "    encoder_input_test = encoder_input[-n_of_val:]\n",
    "    decoder_input_test = decoder_input[-n_of_val:]\n",
    "    decoder_target_test = decoder_target[-n_of_val:]\n",
    "    \n",
    "    return encoder_input_train,decoder_input_train,decoder_target_train,encoder_input_test,decoder_input_test,decoder_target_test"
   ]
  },
  {
   "cell_type": "code",
   "execution_count": 22,
   "id": "63078ee3",
   "metadata": {},
   "outputs": [],
   "source": [
    "#테스트 데이터와 훈련 데이터를 분리합니다.\n",
    "encoder_input_train,decoder_input_train,decoder_target_train,encoder_input_test,decoder_input_test,decoder_target_test = train_test_split(data)"
   ]
  },
  {
   "cell_type": "code",
   "execution_count": 23,
   "id": "c55c8648",
   "metadata": {},
   "outputs": [
    {
     "name": "stdout",
     "output_type": "stream",
     "text": [
      "훈련 데이터의 개수 : 52655\n",
      "훈련 레이블의 개수 : 52655\n",
      "테스트 데이터의 개수 : 13163\n",
      "테스트 레이블의 개수 : 13163\n"
     ]
    }
   ],
   "source": [
    "print('훈련 데이터의 개수 :', len(encoder_input_train))\n",
    "print('훈련 레이블의 개수 :', len(decoder_input_train))\n",
    "print('테스트 데이터의 개수 :', len(encoder_input_test))\n",
    "print('테스트 레이블의 개수 :', len(decoder_input_test))"
   ]
  },
  {
   "cell_type": "markdown",
   "id": "07a6a55e",
   "metadata": {},
   "source": [
    "### 정수 인코딩\n",
    "* 기계가 텍스트를 숫자로 처리할 수 있도록 모든 데이터를 정수로 바꿔주어야 합니다.\n",
    "* 이 과정을 단어 집합을 만든다고 표현합니다."
   ]
  },
  {
   "cell_type": "code",
   "execution_count": 24,
   "id": "10a31b58",
   "metadata": {},
   "outputs": [],
   "source": [
    "#희귀 단어 등장 비율을 계산하는 함수\n",
    "def rare_voca(token,threshold = 7):\n",
    "    #전체 단어의 수\n",
    "    total_cnt = len(token.word_index)\n",
    "    #희귀 단어의 수\n",
    "    rare_cnt = 0\n",
    "    #전체 단어 빈도 수\n",
    "    total_freq = 0\n",
    "    #희귀 단어 빈도 수\n",
    "    rare_freq = 0\n",
    "    \n",
    "    for key,value in token.word_counts.items():\n",
    "        total_freq = total_freq+value\n",
    "        \n",
    "        if(value < threshold):\n",
    "            rare_cnt = rare_cnt+1\n",
    "            rare_freq = rare_freq+value\n",
    "    print('단어 집합(vocabulary)의 크기 :', total_cnt)\n",
    "    print('등장 빈도가 %s번 이하인 희귀 단어의 수: %s'%(threshold - 1, rare_cnt))\n",
    "    print('단어 집합에서 희귀 단어를 제외시킬 경우의 단어 집합의 크기 %s'%(total_cnt - rare_cnt))\n",
    "    print(\"단어 집합에서 희귀 단어의 비율:\", (rare_cnt / total_cnt)*100)\n",
    "    print(\"전체 등장 빈도에서 희귀 단어 등장 빈도 비율:\", (rare_freq / total_freq)*100)"
   ]
  },
  {
   "cell_type": "code",
   "execution_count": 25,
   "id": "df912f65",
   "metadata": {},
   "outputs": [],
   "source": [
    "src_tokenizer = Tokenizer()\n",
    "src_tokenizer.fit_on_texts(encoder_input_train)"
   ]
  },
  {
   "cell_type": "code",
   "execution_count": 26,
   "id": "ec55312b",
   "metadata": {},
   "outputs": [
    {
     "name": "stdout",
     "output_type": "stream",
     "text": [
      "단어 집합(vocabulary)의 크기 : 31956\n",
      "등장 빈도가 6번 이하인 희귀 단어의 수: 23731\n",
      "단어 집합에서 희귀 단어를 제외시킬 경우의 단어 집합의 크기 8225\n",
      "단어 집합에서 희귀 단어의 비율: 74.26148454124422\n",
      "전체 등장 빈도에서 희귀 단어 등장 빈도 비율: 3.3800599039774477\n"
     ]
    }
   ],
   "source": [
    "rare_voca(src_tokenizer)"
   ]
  },
  {
   "cell_type": "markdown",
   "id": "7ff8531a",
   "metadata": {},
   "source": [
    "* 등장 빈도가 6회 이하인 단어의 비율이 약 74퍼센트나 됩니다.\n",
    "* 따라서 희귀 단어들은 훈련셋에서 제외하도록 하겠습니다.\n",
    "* 토큰화는 빈도순으로 결정되기에 약 8천개 이후의 데이터를 모두 잘라줍니다."
   ]
  },
  {
   "cell_type": "code",
   "execution_count": 27,
   "id": "cef07f4c",
   "metadata": {},
   "outputs": [],
   "source": [
    "src_vocab = 8000"
   ]
  },
  {
   "cell_type": "code",
   "execution_count": 28,
   "id": "22335d78",
   "metadata": {},
   "outputs": [],
   "source": [
    "#단어 사전의 크기를 제한\n",
    "src_tokenizer = Tokenizer(num_words = src_vocab)\n",
    "src_tokenizer.fit_on_texts(encoder_input_train)"
   ]
  },
  {
   "cell_type": "code",
   "execution_count": 29,
   "id": "e039d6d6",
   "metadata": {},
   "outputs": [],
   "source": [
    "#텍스트 데이터를 정수 시퀀스로 변환합니다.\n",
    "encoder_input_train = src_tokenizer.texts_to_sequences(encoder_input_train)\n",
    "encoder_input_test = src_tokenizer.texts_to_sequences(encoder_input_test)"
   ]
  },
  {
   "cell_type": "code",
   "execution_count": 30,
   "id": "183ef48c",
   "metadata": {
    "scrolled": true
   },
   "outputs": [
    {
     "name": "stdout",
     "output_type": "stream",
     "text": [
      "[[138, 619, 232, 57, 1504, 60, 1324, 212, 91, 2043, 143, 836, 611, 780, 205, 2069, 278, 551, 1471, 14, 203, 329, 3204, 205, 2069, 908, 117, 2344, 12, 1, 4, 20, 1504, 60, 23, 42, 455, 24, 42, 390, 63, 60, 203, 1430, 1, 265, 54], [1630, 106, 1272, 3152, 6, 54, 4, 22, 4, 332, 100, 501, 542], [7669, 924, 239, 1443, 6, 7185, 59, 7670, 69, 139, 16, 33, 24, 13, 108, 162, 51, 564, 514, 103, 222, 14, 1, 1137, 139, 57, 3153, 1085, 2442, 102, 495, 410, 4, 16]]\n",
      "[[6, 111, 16, 69, 70, 291, 88, 2126], [115, 333, 8, 535, 8, 747, 8, 6, 131, 8, 6, 194], [47, 1332, 12, 191, 269, 4, 179, 1665, 226, 110, 182, 210]]\n"
     ]
    }
   ],
   "source": [
    "#변환이 잘 되었는지 확인해봅니다.\n",
    "print(encoder_input_train[:3])\n",
    "print(encoder_input_test[:3])"
   ]
  },
  {
   "cell_type": "markdown",
   "id": "3138fdba",
   "metadata": {},
   "source": [
    "### 디코더 레이블 역시 똑같이 처리합니다."
   ]
  },
  {
   "cell_type": "code",
   "execution_count": 31,
   "id": "5cad23a6",
   "metadata": {},
   "outputs": [],
   "source": [
    "tar_tokenizer = Tokenizer()\n",
    "tar_tokenizer.fit_on_texts(decoder_input_train)"
   ]
  },
  {
   "cell_type": "code",
   "execution_count": 32,
   "id": "d1bc6051",
   "metadata": {},
   "outputs": [
    {
     "name": "stdout",
     "output_type": "stream",
     "text": [
      "단어 집합(vocabulary)의 크기 : 10450\n",
      "등장 빈도가 5번 이하인 희귀 단어의 수: 8067\n",
      "단어 집합에서 희귀 단어를 제외시킬 경우의 단어 집합의 크기 2383\n",
      "단어 집합에서 희귀 단어의 비율: 77.19617224880383\n",
      "전체 등장 빈도에서 희귀 단어 등장 빈도 비율: 5.857654096094467\n"
     ]
    }
   ],
   "source": [
    "rare_voca(tar_tokenizer,6)"
   ]
  },
  {
   "cell_type": "code",
   "execution_count": 33,
   "id": "2315b1bc",
   "metadata": {},
   "outputs": [],
   "source": [
    "tar_vocab = 2000"
   ]
  },
  {
   "cell_type": "code",
   "execution_count": 34,
   "id": "0f42f000",
   "metadata": {},
   "outputs": [],
   "source": [
    "tar_tokenizer = Tokenizer(num_words=tar_vocab) \n",
    "tar_tokenizer.fit_on_texts(decoder_input_train)\n",
    "tar_tokenizer.fit_on_texts(decoder_target_train)"
   ]
  },
  {
   "cell_type": "code",
   "execution_count": 35,
   "id": "d8ceb8b6",
   "metadata": {},
   "outputs": [],
   "source": [
    "decoder_input_train = tar_tokenizer.texts_to_sequences(decoder_input_train) \n",
    "decoder_target_train = tar_tokenizer.texts_to_sequences(decoder_target_train)\n",
    "decoder_input_test = tar_tokenizer.texts_to_sequences(decoder_input_test)\n",
    "decoder_target_test = tar_tokenizer.texts_to_sequences(decoder_target_test)"
   ]
  },
  {
   "cell_type": "code",
   "execution_count": 36,
   "id": "6d82a3cf",
   "metadata": {},
   "outputs": [
    {
     "name": "stdout",
     "output_type": "stream",
     "text": [
      "input\n",
      "input  [[1, 582, 250, 15, 45, 108], [1, 62, 4, 8, 1649], [1, 5, 7, 954, 32]]\n",
      "target\n",
      "decoder  [[582, 250, 15, 45, 108, 2], [62, 4, 8, 1649, 2], [5, 7, 954, 32, 2]]\n"
     ]
    }
   ],
   "source": [
    "#변환이 잘되었는지 확인합니다.\n",
    "print('input')\n",
    "print('input ',decoder_input_train[:3])\n",
    "print('target')\n",
    "print('decoder ',decoder_target_train[:3])"
   ]
  },
  {
   "cell_type": "markdown",
   "id": "ef767f73",
   "metadata": {},
   "source": [
    "* sostoken과 eostoken이 각각 1,2로 매핑되어있고 잘 문장의 앞 뒤로 추가가 되어있는 것 역시 볼 수 있습니다. "
   ]
  },
  {
   "cell_type": "markdown",
   "id": "813e59ed",
   "metadata": {},
   "source": [
    "### 한가지 점검할 점\n",
    "* 저희가 만든 단어사전에서 등장 빈도수가 낮은 단어들을 모두 삭제했습니다.\n",
    "* 만약 상대적으로 빈도수가 낮은 단어만으로 구성된 샘플의 경우 빈 샘플이 되었을 가능성이 있습니다.\n",
    "* 이 현상은 평균 길이가 작은 Summary에서 발생할 가능성이 높습니다.\n",
    "* 비어버린 문장들을 모두 제거하도록 합시다."
   ]
  },
  {
   "cell_type": "code",
   "execution_count": 37,
   "id": "936506f7",
   "metadata": {},
   "outputs": [
    {
     "name": "stdout",
     "output_type": "stream",
     "text": [
      "삭제할 훈련 데이터의 개수 : 1237\n",
      "삭제할 테스트 데이터의 개수 : 358\n",
      "훈련 데이터의 개수 : 51418\n",
      "훈련 레이블의 개수 : 51418\n",
      "테스트 데이터의 개수 : 12805\n",
      "테스트 레이블의 개수 : 12805\n"
     ]
    }
   ],
   "source": [
    "#비어버린 문장은 시작토큰만 남아있을 것입니다. 따라서 길이 1의 문장을 모두 제거하도록 합니다.\n",
    "drop_train = [index for index, sentence in enumerate(decoder_input_train) if len(sentence) == 1]\n",
    "drop_test = [index for index, sentence in enumerate(decoder_input_test) if len(sentence) == 1]\n",
    "\n",
    "print('삭제할 훈련 데이터의 개수 :', len(drop_train))\n",
    "print('삭제할 테스트 데이터의 개수 :', len(drop_test))\n",
    "\n",
    "encoder_input_train = [sentence for index, sentence in enumerate(encoder_input_train) if index not in drop_train]\n",
    "decoder_input_train = [sentence for index, sentence in enumerate(decoder_input_train) if index not in drop_train]\n",
    "decoder_target_train = [sentence for index, sentence in enumerate(decoder_target_train) if index not in drop_train]\n",
    "\n",
    "encoder_input_test = [sentence for index, sentence in enumerate(encoder_input_test) if index not in drop_test]\n",
    "decoder_input_test = [sentence for index, sentence in enumerate(decoder_input_test) if index not in drop_test]\n",
    "decoder_target_test = [sentence for index, sentence in enumerate(decoder_target_test) if index not in drop_test]\n",
    "\n",
    "print('훈련 데이터의 개수 :', len(encoder_input_train))\n",
    "print('훈련 레이블의 개수 :', len(decoder_input_train))\n",
    "print('테스트 데이터의 개수 :', len(encoder_input_test))\n",
    "print('테스트 레이블의 개수 :', len(decoder_input_test))"
   ]
  },
  {
   "cell_type": "markdown",
   "id": "00791021",
   "metadata": {},
   "source": [
    "### zero padding하기\n",
    "* 모든 문장의 길이를 통일시키기 위해 빈 공간에 숫자 0을 삽입합니다."
   ]
  },
  {
   "cell_type": "code",
   "execution_count": 38,
   "id": "2d663c0a",
   "metadata": {},
   "outputs": [],
   "source": [
    "encoder_input_train = pad_sequences(encoder_input_train, maxlen=text_max_len, padding='post')\n",
    "encoder_input_test = pad_sequences(encoder_input_test, maxlen=text_max_len, padding='post')\n",
    "decoder_input_train = pad_sequences(decoder_input_train, maxlen=summary_max_len, padding='post')\n",
    "decoder_target_train = pad_sequences(decoder_target_train, maxlen=summary_max_len, padding='post')\n",
    "decoder_input_test = pad_sequences(decoder_input_test, maxlen=summary_max_len, padding='post')\n",
    "decoder_target_test = pad_sequences(decoder_target_test, maxlen=summary_max_len, padding='post')"
   ]
  },
  {
   "cell_type": "markdown",
   "id": "5cab0142",
   "metadata": {},
   "source": [
    "#### 모든 전처리가 완료되었습니다."
   ]
  },
  {
   "cell_type": "markdown",
   "id": "dacb67d6",
   "metadata": {},
   "source": [
    "## 모델 설계"
   ]
  },
  {
   "cell_type": "markdown",
   "id": "0e61bd8f",
   "metadata": {},
   "source": [
    "### 모듈 호출"
   ]
  },
  {
   "cell_type": "code",
   "execution_count": 39,
   "id": "b9796259",
   "metadata": {},
   "outputs": [],
   "source": [
    "from tensorflow.keras.layers import Input, LSTM, Embedding, Dense, Concatenate, TimeDistributed\n",
    "from tensorflow.keras.models import Model\n",
    "from tensorflow.keras.callbacks import EarlyStopping, ModelCheckpoint\n",
    "from tensorflow.keras.layers import AdditiveAttention"
   ]
  },
  {
   "cell_type": "code",
   "execution_count": 40,
   "id": "5f577acc",
   "metadata": {},
   "outputs": [],
   "source": [
    "embedding_dim = 128\n",
    "hidden_size = 256"
   ]
  },
  {
   "cell_type": "markdown",
   "id": "f7871b79",
   "metadata": {},
   "source": [
    "### 인코더 설계"
   ]
  },
  {
   "cell_type": "code",
   "execution_count": 41,
   "id": "0214b36b",
   "metadata": {},
   "outputs": [
    {
     "name": "stdout",
     "output_type": "stream",
     "text": [
      "WARNING:tensorflow:Layer lstm will not use cuDNN kernels since it doesn't meet the criteria. It will use a generic GPU kernel as fallback when running on GPU.\n",
      "WARNING:tensorflow:Layer lstm_1 will not use cuDNN kernels since it doesn't meet the criteria. It will use a generic GPU kernel as fallback when running on GPU.\n",
      "WARNING:tensorflow:Layer lstm_2 will not use cuDNN kernels since it doesn't meet the criteria. It will use a generic GPU kernel as fallback when running on GPU.\n"
     ]
    }
   ],
   "source": [
    "# 인코더\n",
    "encoder_inputs = Input(shape=(text_max_len,))\n",
    "\n",
    "# 인코더의 임베딩 층\n",
    "enc_emb = Embedding(src_vocab, embedding_dim)(encoder_inputs)\n",
    "\n",
    "# 인코더의 LSTM 1\n",
    "encoder_lstm1 = LSTM(hidden_size, return_sequences=True, return_state=True ,dropout = 0.4, recurrent_dropout = 0.4)\n",
    "# 레이어를 선언하고 해당 레이어를 상위 레이어와 연결합니다.\n",
    "encoder_output1, state_h1, state_c1 = encoder_lstm1(enc_emb)\n",
    "\n",
    "# 인코더의 LSTM 2\n",
    "encoder_lstm2 = LSTM(hidden_size, return_sequences=True, return_state=True, dropout=0.4, recurrent_dropout=0.4)\n",
    "encoder_output2, state_h2, state_c2 = encoder_lstm2(encoder_output1)\n",
    "\n",
    "# 인코더의 LSTM 3\n",
    "encoder_lstm3 = LSTM(hidden_size, return_state=True, return_sequences=True, dropout=0.4, recurrent_dropout=0.4)\n",
    "encoder_outputs, state_h, state_c= encoder_lstm3(encoder_output2)"
   ]
  },
  {
   "cell_type": "markdown",
   "id": "e1e36308",
   "metadata": {},
   "source": [
    "* 레이어를 상위 레이어와 연결하는 동작이 있는데 Linked-List처럼 encoder_inputs만 있어도 인코더 전체를 가지고 다닐 수 있습니다.\n",
    "\n",
    "\n",
    "* 인코더의 LSTM은 3개의 층으로 구성하여 모델의 복잡도를 높였습니다. hidden state의 크기를 늘리는 것이 LSTM 하나의 용량을 늘리는 것이라면 3개의 층을 이용하는 것은 모델의 용량을 늘려주는 것으로 볼 수 있습니다.  \n",
    "최종적으로 출력된 벡터는 디코더로 보내지게 됩니다.\n",
    "\n",
    "\n",
    "* LSTM은 dropout 뿐 아니라 recurrent dropout까지 사용합니다.  \n",
    "일반적인 dropout은 레이어의 weight를 랜덤으로 생략해 모델의 과적합을 해결해주는 방법인 반면, recurrent dropout은 dropout을 레이어가 아닌 time step마다 수행합니다.  \n",
    "즉, time step의 입력을 랜덤으로 생략해주게 됩니다."
   ]
  },
  {
   "cell_type": "markdown",
   "id": "0b7a2338",
   "metadata": {},
   "source": [
    "### 디코더 설계"
   ]
  },
  {
   "cell_type": "code",
   "execution_count": 42,
   "id": "4b5ece56",
   "metadata": {},
   "outputs": [
    {
     "name": "stdout",
     "output_type": "stream",
     "text": [
      "WARNING:tensorflow:Layer lstm_3 will not use cuDNN kernels since it doesn't meet the criteria. It will use a generic GPU kernel as fallback when running on GPU.\n"
     ]
    }
   ],
   "source": [
    "# 디코더 설계\n",
    "decoder_inputs = Input(shape=(None,))\n",
    "\n",
    "# 디코더의 임베딩 층\n",
    "dec_emb_layer = Embedding(tar_vocab, embedding_dim)\n",
    "dec_emb = dec_emb_layer(decoder_inputs)\n",
    "\n",
    "# 디코더의 LSTM\n",
    "decoder_lstm = LSTM(hidden_size, return_sequences=True, return_state=True, dropout=0.4, recurrent_dropout=0.2)\n",
    "decoder_outputs, _, _ = decoder_lstm(dec_emb, initial_state=[state_h, state_c])"
   ]
  },
  {
   "cell_type": "markdown",
   "id": "172d8d0b",
   "metadata": {},
   "source": [
    "* 인코더와 거의 비슷하지만 디코더의 LSTM에서 initial_state의 인자값으로 인코더의 hidden state와 cell state를 넣어주어야 합니다."
   ]
  },
  {
   "cell_type": "code",
   "execution_count": 43,
   "id": "af003e28",
   "metadata": {},
   "outputs": [],
   "source": [
    "#디코더의 출력층 정의\n",
    "decoder_softmax_layer = Dense(tar_vocab, activation='softmax')\n",
    "decoder_softmax_outputs = decoder_softmax_layer(decoder_outputs)"
   ]
  },
  {
   "cell_type": "code",
   "execution_count": 44,
   "id": "ca98d7a9",
   "metadata": {
    "scrolled": true
   },
   "outputs": [
    {
     "name": "stdout",
     "output_type": "stream",
     "text": [
      "Model: \"model\"\n",
      "__________________________________________________________________________________________________\n",
      "Layer (type)                    Output Shape         Param #     Connected to                     \n",
      "==================================================================================================\n",
      "input_1 (InputLayer)            [(None, 50)]         0                                            \n",
      "__________________________________________________________________________________________________\n",
      "embedding (Embedding)           (None, 50, 128)      1024000     input_1[0][0]                    \n",
      "__________________________________________________________________________________________________\n",
      "lstm (LSTM)                     [(None, 50, 256), (N 394240      embedding[0][0]                  \n",
      "__________________________________________________________________________________________________\n",
      "input_2 (InputLayer)            [(None, None)]       0                                            \n",
      "__________________________________________________________________________________________________\n",
      "lstm_1 (LSTM)                   [(None, 50, 256), (N 525312      lstm[0][0]                       \n",
      "__________________________________________________________________________________________________\n",
      "embedding_1 (Embedding)         (None, None, 128)    256000      input_2[0][0]                    \n",
      "__________________________________________________________________________________________________\n",
      "lstm_2 (LSTM)                   [(None, 50, 256), (N 525312      lstm_1[0][0]                     \n",
      "__________________________________________________________________________________________________\n",
      "lstm_3 (LSTM)                   [(None, None, 256),  394240      embedding_1[0][0]                \n",
      "                                                                 lstm_2[0][1]                     \n",
      "                                                                 lstm_2[0][2]                     \n",
      "__________________________________________________________________________________________________\n",
      "dense (Dense)                   (None, None, 2000)   514000      lstm_3[0][0]                     \n",
      "==================================================================================================\n",
      "Total params: 3,633,104\n",
      "Trainable params: 3,633,104\n",
      "Non-trainable params: 0\n",
      "__________________________________________________________________________________________________\n"
     ]
    }
   ],
   "source": [
    "#모델 정의\n",
    "model = Model([encoder_inputs, decoder_inputs], decoder_softmax_outputs)\n",
    "model.summary()"
   ]
  },
  {
   "cell_type": "markdown",
   "id": "30394f70",
   "metadata": {},
   "source": [
    "* 디코더의 출력층에서는 tar_vocab의 선택지중 하나의 단어를 선택하는 다중 클래스 분류문제를 풀어야해 Dense의 인자로 tar_vocab을 주고, activation으로 softmax를 사용합니다."
   ]
  },
  {
   "cell_type": "markdown",
   "id": "a2421373",
   "metadata": {},
   "source": [
    "### 어텐션 매커니즘\n",
    "* 현재 모델의 디코더의 출력층의 설계를 살짝 바꿔서 성능을 높힐 수 있는 방법입니다.\n",
    "* tf에 이미 구현된 어텐션 함수를 가져와 디코더를 새로 설계합시다."
   ]
  },
  {
   "cell_type": "code",
   "execution_count": 45,
   "id": "6718957f",
   "metadata": {},
   "outputs": [],
   "source": [
    "from tensorflow.keras.layers import AdditiveAttention"
   ]
  },
  {
   "cell_type": "code",
   "execution_count": 46,
   "id": "6dda46d0",
   "metadata": {},
   "outputs": [
    {
     "name": "stdout",
     "output_type": "stream",
     "text": [
      "Model: \"model_1\"\n",
      "__________________________________________________________________________________________________\n",
      "Layer (type)                    Output Shape         Param #     Connected to                     \n",
      "==================================================================================================\n",
      "input_1 (InputLayer)            [(None, 50)]         0                                            \n",
      "__________________________________________________________________________________________________\n",
      "embedding (Embedding)           (None, 50, 128)      1024000     input_1[0][0]                    \n",
      "__________________________________________________________________________________________________\n",
      "lstm (LSTM)                     [(None, 50, 256), (N 394240      embedding[0][0]                  \n",
      "__________________________________________________________________________________________________\n",
      "input_2 (InputLayer)            [(None, None)]       0                                            \n",
      "__________________________________________________________________________________________________\n",
      "lstm_1 (LSTM)                   [(None, 50, 256), (N 525312      lstm[0][0]                       \n",
      "__________________________________________________________________________________________________\n",
      "embedding_1 (Embedding)         (None, None, 128)    256000      input_2[0][0]                    \n",
      "__________________________________________________________________________________________________\n",
      "lstm_2 (LSTM)                   [(None, 50, 256), (N 525312      lstm_1[0][0]                     \n",
      "__________________________________________________________________________________________________\n",
      "lstm_3 (LSTM)                   [(None, None, 256),  394240      embedding_1[0][0]                \n",
      "                                                                 lstm_2[0][1]                     \n",
      "                                                                 lstm_2[0][2]                     \n",
      "__________________________________________________________________________________________________\n",
      "attention_layer (AdditiveAttent (None, None, 256)    256         lstm_3[0][0]                     \n",
      "                                                                 lstm_2[0][0]                     \n",
      "__________________________________________________________________________________________________\n",
      "concat_layer (Concatenate)      (None, None, 512)    0           lstm_3[0][0]                     \n",
      "                                                                 attention_layer[0][0]            \n",
      "__________________________________________________________________________________________________\n",
      "dense_1 (Dense)                 (None, None, 2000)   1026000     concat_layer[0][0]               \n",
      "==================================================================================================\n",
      "Total params: 4,145,360\n",
      "Trainable params: 4,145,360\n",
      "Non-trainable params: 0\n",
      "__________________________________________________________________________________________________\n"
     ]
    }
   ],
   "source": [
    "# 어텐션 층(어텐션 함수)\n",
    "attn_layer = AdditiveAttention(name='attention_layer')\n",
    "\n",
    "# 인코더와 디코더의 모든 time step의 hidden state를 어텐션 층에 전달하고 결과를 리턴\n",
    "attn_out = attn_layer([decoder_outputs, encoder_outputs])\n",
    "\n",
    "\n",
    "# 어텐션의 결과와 디코더의 hidden state들을 연결\n",
    "decoder_concat_input = Concatenate(axis=-1, name='concat_layer')([decoder_outputs, attn_out])\n",
    "\n",
    "# 디코더의 출력층\n",
    "decoder_softmax_layer = Dense(tar_vocab, activation='softmax')\n",
    "decoder_softmax_outputs = decoder_softmax_layer(decoder_concat_input)\n",
    "\n",
    "# 모델을 새로 정의\n",
    "model = Model([encoder_inputs, decoder_inputs], decoder_softmax_outputs)\n",
    "model.summary()"
   ]
  },
  {
   "cell_type": "markdown",
   "id": "e27ee781",
   "metadata": {},
   "source": [
    "## 모델 훈련\n",
    "* EarlyStopping을 이용해 모델 훈련을 최적점에서 종료되도록 합니다.\n",
    "* 그 후, 훈련과정을 시각화 해보도록 합시다."
   ]
  },
  {
   "cell_type": "code",
   "execution_count": 47,
   "id": "e318eeb8",
   "metadata": {},
   "outputs": [],
   "source": [
    "model.compile(optimizer='rmsprop', loss='sparse_categorical_crossentropy')\n",
    "es = EarlyStopping(monitor='val_loss', patience=2, verbose=1)"
   ]
  },
  {
   "cell_type": "code",
   "execution_count": 48,
   "id": "57c7fe4b",
   "metadata": {},
   "outputs": [
    {
     "name": "stdout",
     "output_type": "stream",
     "text": [
      "Epoch 1/50\n",
      "201/201 [==============================] - 140s 655ms/step - loss: 2.7071 - val_loss: 2.4260\n",
      "Epoch 2/50\n",
      "201/201 [==============================] - 130s 648ms/step - loss: 2.3801 - val_loss: 2.2887\n",
      "Epoch 3/50\n",
      "201/201 [==============================] - 130s 646ms/step - loss: 2.2210 - val_loss: 2.1353\n",
      "Epoch 4/50\n",
      "201/201 [==============================] - 130s 645ms/step - loss: 2.0980 - val_loss: 2.0550\n",
      "Epoch 5/50\n",
      "201/201 [==============================] - 129s 642ms/step - loss: 2.0142 - val_loss: 2.0010\n",
      "Epoch 6/50\n",
      "201/201 [==============================] - 131s 650ms/step - loss: 1.9501 - val_loss: 1.9617\n",
      "Epoch 7/50\n",
      "201/201 [==============================] - 130s 649ms/step - loss: 1.8984 - val_loss: 1.9354\n",
      "Epoch 8/50\n",
      "201/201 [==============================] - 130s 648ms/step - loss: 1.8541 - val_loss: 1.9096\n",
      "Epoch 9/50\n",
      "201/201 [==============================] - 130s 645ms/step - loss: 1.8157 - val_loss: 1.8976\n",
      "Epoch 10/50\n",
      "201/201 [==============================] - 130s 644ms/step - loss: 1.7804 - val_loss: 1.8813\n",
      "Epoch 11/50\n",
      "201/201 [==============================] - 129s 642ms/step - loss: 1.7486 - val_loss: 1.8722\n",
      "Epoch 12/50\n",
      "201/201 [==============================] - 129s 643ms/step - loss: 1.7193 - val_loss: 1.8663\n",
      "Epoch 13/50\n",
      "201/201 [==============================] - 129s 643ms/step - loss: 1.6911 - val_loss: 1.8571\n",
      "Epoch 14/50\n",
      "201/201 [==============================] - 129s 641ms/step - loss: 1.6643 - val_loss: 1.8536\n",
      "Epoch 15/50\n",
      "201/201 [==============================] - 129s 644ms/step - loss: 1.6391 - val_loss: 1.8505\n",
      "Epoch 16/50\n",
      "201/201 [==============================] - 129s 643ms/step - loss: 1.6151 - val_loss: 1.8485\n",
      "Epoch 17/50\n",
      "201/201 [==============================] - 130s 648ms/step - loss: 1.5926 - val_loss: 1.8470\n",
      "Epoch 18/50\n",
      "201/201 [==============================] - 129s 641ms/step - loss: 1.5708 - val_loss: 1.8523\n",
      "Epoch 19/50\n",
      "201/201 [==============================] - 129s 642ms/step - loss: 1.5503 - val_loss: 1.8480\n",
      "Epoch 00019: early stopping\n"
     ]
    }
   ],
   "source": [
    "history = model.fit(x=[encoder_input_train, decoder_input_train], y=decoder_target_train, \\\n",
    "          validation_data=([encoder_input_test, decoder_input_test], decoder_target_test), \\\n",
    "          batch_size=256, callbacks=[es], epochs=50)"
   ]
  },
  {
   "cell_type": "code",
   "execution_count": 49,
   "id": "af7e6f28",
   "metadata": {},
   "outputs": [
    {
     "data": {
      "image/png": "[encoded data removed]",
      "text/plain": [
       "<Figure size 432x288 with 1 Axes>"
      ]
     },
     "metadata": {
      "needs_background": "light"
     },
     "output_type": "display_data"
    }
   ],
   "source": [
    "plt.plot(history.history['loss'], label='train')\n",
    "plt.plot(history.history['val_loss'], label='test')\n",
    "plt.legend()\n",
    "plt.show()"
   ]
  },
  {
   "cell_type": "markdown",
   "id": "1dd53204",
   "metadata": {},
   "source": [
    "### 인퍼런스 모델 구현\n",
    "* 테스트 단계에서는 정수 인덱스로 구성된 행렬을 실제 데이터로 복원해야하므로, 필요한 사전 3개를 아래와 같이 정의합니다.\n",
    "\n",
    "\n",
    "* seq2seq는 훈련과 실제 동작(인퍼런스)의 방식이 다르므로 모델 설계를 별개로 진행해야 합니다.  \n",
    "훈련 단계에서는 디코더의 입력부에 정답이 되는 문장을 넣고 출력과 비교할 수 있으므로, 인코더와 디코더를 엮은 모델 하나만 준비하면 됩니다.  \n",
    "그러나 인퍼런스 단계에서는 정답 문장이 없기에 만들어야할 문장의 길이만큼 디코더가 반복적으로 동작해야 하기 때문에 어쩔 수 없이 인퍼런스를 위한 모델을 따로 설계해 주어야 합니다."
   ]
  },
  {
   "cell_type": "code",
   "execution_count": 50,
   "id": "bb9743ab",
   "metadata": {},
   "outputs": [],
   "source": [
    "src_index_to_word = src_tokenizer.index_word # 원문 단어 집합에서 정수 -> 단어를 얻음\n",
    "tar_word_to_index = tar_tokenizer.word_index # 요약 단어 집합에서 단어 -> 정수를 얻음\n",
    "tar_index_to_word = tar_tokenizer.index_word # 요약 단어 집합에서 정수 -> 단어를 얻음"
   ]
  },
  {
   "cell_type": "code",
   "execution_count": 51,
   "id": "e0ffc8d0",
   "metadata": {},
   "outputs": [],
   "source": [
    "# 인코더 설계\n",
    "encoder_model = Model(inputs=encoder_inputs, outputs=[encoder_outputs, state_h, state_c])\n",
    "\n",
    "# 이전 시점의 상태들을 저장하는 텐서\n",
    "decoder_state_input_h = Input(shape=(hidden_size,))\n",
    "decoder_state_input_c = Input(shape=(hidden_size,))\n",
    "\n",
    "dec_emb2 = dec_emb_layer(decoder_inputs)\n",
    "\n",
    "# 문장의 다음 단어를 예측하기 위해서 초기 상태(initial_state)를 이전 시점의 상태로 사용. 이는 뒤의 함수 decode_sequence()에 구현\n",
    "# 훈련 과정에서와 달리 LSTM의 리턴하는 은닉 상태와 셀 상태인 state_h와 state_c를 버리지 않음.\n",
    "decoder_outputs2, state_h2, state_c2 = decoder_lstm(dec_emb2, initial_state=[decoder_state_input_h, decoder_state_input_c])"
   ]
  },
  {
   "cell_type": "code",
   "execution_count": 52,
   "id": "ac478550",
   "metadata": {},
   "outputs": [],
   "source": [
    "# 어텐션 함수\n",
    "decoder_hidden_state_input = Input(shape=(text_max_len, hidden_size))\n",
    "attn_out_inf = attn_layer([decoder_outputs2, decoder_hidden_state_input])\n",
    "decoder_inf_concat = Concatenate(axis=-1, name='concat')([decoder_outputs2, attn_out_inf])\n",
    "\n",
    "# 디코더의 출력층\n",
    "decoder_outputs2 = decoder_softmax_layer(decoder_inf_concat) \n",
    "\n",
    "# 최종 디코더 모델\n",
    "decoder_model = Model(\n",
    "    [decoder_inputs] + [decoder_hidden_state_input,decoder_state_input_h, decoder_state_input_c],\n",
    "    [decoder_outputs2] + [state_h2, state_c2])"
   ]
  },
  {
   "cell_type": "code",
   "execution_count": 53,
   "id": "78a514eb",
   "metadata": {},
   "outputs": [],
   "source": [
    "def decode_sequence(input_seq):\n",
    "    # 입력으로부터 인코더의 상태를 얻음\n",
    "    e_out, e_h, e_c = encoder_model.predict(input_seq)\n",
    "\n",
    "     # <SOS>에 해당하는 토큰 생성\n",
    "    target_seq = np.zeros((1,1))\n",
    "    target_seq[0, 0] = tar_word_to_index['sostoken']\n",
    "\n",
    "    stop_condition = False\n",
    "    decoded_sentence = ''\n",
    "    while not stop_condition: # stop_condition이 True가 될 때까지 루프 반복\n",
    "\n",
    "        output_tokens, h, c = decoder_model.predict([target_seq] + [e_out, e_h, e_c])\n",
    "        sampled_token_index = np.argmax(output_tokens[0, -1, :])\n",
    "        sampled_token = tar_index_to_word[sampled_token_index]\n",
    "\n",
    "        if (sampled_token!='eostoken'):\n",
    "            decoded_sentence += ' '+sampled_token\n",
    "\n",
    "        #  <eos>에 도달하거나 최대 길이를 넘으면 중단.\n",
    "        if (sampled_token == 'eostoken'  or len(decoded_sentence.split()) >= (summary_max_len-1)):\n",
    "            stop_condition = True\n",
    "\n",
    "        # 길이가 1인 타겟 시퀀스를 업데이트\n",
    "        target_seq = np.zeros((1,1))\n",
    "        target_seq[0, 0] = sampled_token_index\n",
    "\n",
    "        # 상태를 업데이트 합니다.\n",
    "        e_h, e_c = h, c\n",
    "\n",
    "    return decoded_sentence\n",
    "\n",
    "# 원문의 정수 시퀀스를 텍스트 시퀀스로 변환\n",
    "def seq2text(input_seq):\n",
    "    temp=''\n",
    "    for i in input_seq:\n",
    "        if (i!=0):\n",
    "            temp = temp + src_index_to_word[i]+' '\n",
    "    return temp\n",
    "\n",
    "# 요약문의 정수 시퀀스를 텍스트 시퀀스로 변환\n",
    "def seq2summary(input_seq):\n",
    "    temp=''\n",
    "    for i in input_seq:\n",
    "        if ((i!=0 and i!=tar_word_to_index['sostoken']) and i!=tar_word_to_index['eostoken']):\n",
    "            temp = temp + tar_index_to_word[i] + ' '\n",
    "    return temp"
   ]
  },
  {
   "cell_type": "code",
   "execution_count": 54,
   "id": "32813310",
   "metadata": {},
   "outputs": [
    {
     "name": "stdout",
     "output_type": "stream",
     "text": [
      "원문 : peanut butter lover keep house disappears way fast found powdered peanut butter heaven mix yogurt ice cream make peanut butter pie feel quite guilty totally enjoying flavor daughter law big fan peanut butter also peanut butter lovers highly recommend powdered peanut butter \n",
      "실제 요약 : powdered peanut butter \n",
      "예측 요약 :  pb is the best\n",
      "\n",
      "\n",
      "원문 : little silver pouches ginger lover dream whether served hot cold crystals dissolve instantly slight hint lies store first sip ginger back throat make known overwhelming hint lemon drink strength ginger something people either enjoy taste like tea long adjust relative strength adding less water mix \n",
      "실제 요약 : all ginger \n",
      "예측 요약 :  strong taste\n",
      "\n",
      "\n",
      "원문 : special needs pet searched right food since amazon five star resource chose pot pie shipped many cans dented toss return big hassle would ever feed dented beloved boy best purchase pet store evidently \n",
      "실제 요약 : caution dented cans \n",
      "예측 요약 :  dented cans\n",
      "\n",
      "\n",
      "원문 : dogs loved recommend anyone small dogs small dogs look larger treats next purchase \n",
      "실제 요약 : great treats but truly small \n",
      "예측 요약 :  dogs love them\n",
      "\n",
      "\n",
      "원문 : like stash tea find consistently delivers good quality great tasting tea fusion green white tea exception smooth aromatic great tasting one favorite teas drink time \n",
      "실제 요약 : great tasting tea \n",
      "예측 요약 :  great tea\n",
      "\n",
      "\n",
      "원문 : best tasted beats cadbury hershey brand number different funny labels check link see real sense time making great chocolate \n",
      "실제 요약 : yum yum yum \n",
      "예측 요약 :  delicious\n",
      "\n",
      "\n",
      "원문 : might little pricey however taste great satisfy sweet craving get dieting love definately keep buying \n",
      "실제 요약 : great snack \n",
      "예측 요약 :  great taste\n",
      "\n",
      "\n",
      "원문 : product good rd time purchased packets tasty like movie theatre \n",
      "실제 요약 : popcorn \n",
      "예측 요약 :  yummy\n",
      "\n",
      "\n",
      "원문 : expiration date says oct smells like rancid oil upon opening second container purchased two different stores tells bad batch must huge bad batch going look another cereal baby \n",
      "실제 요약 : smells rancid \n",
      "예측 요약 :  expired\n",
      "\n",
      "\n",
      "원문 : pancakes best whole grain healthier enriched pancakes need add water good deal price buy \n",
      "실제 요약 : best pancakes \n",
      "예측 요약 :  great product\n",
      "\n",
      "\n",
      "원문 : small dog bad teeth runs tooth brush rely every day break half give half every morning even bad teeth trouble chewing loves \n",
      "실제 요약 : ginger and love this product \n",
      "예측 요약 :  my dog loves these\n",
      "\n",
      "\n",
      "원문 : need snack know fruit would better chips easier eat discovered easy eat much better \n",
      "실제 요약 : better than chips \n",
      "예측 요약 :  great snack\n",
      "\n",
      "\n",
      "원문 : tea weak good six boxes tea one family likes \n",
      "실제 요약 : waste of money \n",
      "예측 요약 :  tea\n",
      "\n",
      "\n",
      "원문 : tried find local candy stores told hard time guys many types candy hard find received product earlier expected perfect condition \n",
      "실제 요약 : love those \n",
      "예측 요약 :  great candy\n",
      "\n",
      "\n",
      "원문 : awesome simply put totally perfect wonderful cup coffee mild smooth reason coffee prices high people switching coffee method many reasons retailers know prices way product made saves money everyone designed fit cup dispensers rating please raise price one people get hooked \n",
      "실제 요약 : awesome \n",
      "예측 요약 :  great coffee\n",
      "\n",
      "\n",
      "원문 : italian greyhounds loves greenies teeth used several years prone cavities years old \n",
      "실제 요약 : greenies teenie for clean dog teeth \n",
      "예측 요약 :  greenies\n",
      "\n",
      "\n",
      "원문 : title says cookies arrived chocolate melted others stuck together wafer separated stuck chocolate top cookie appears box little around somewhere along way package delivered \n",
      "실제 요약 : arrived melted together \n",
      "예측 요약 :  not so good\n",
      "\n",
      "\n",
      "원문 : unbelievably fantastic share many simply best put leftover pods sugar smells amazing \n",
      "실제 요약 : amazing \n",
      "예측 요약 :  best ever\n",
      "\n",
      "\n",
      "원문 : arrived within time frame stated dog loves chews given day reminds time vet cleaner teeth always owner supervision eating though prevent choking good business \n",
      "실제 요약 : enjoy but as needed \n",
      "예측 요약 :  greenies\n",
      "\n",
      "\n",
      "원문 : cookies first taste good follows interesting taste also little dry whole glass milk overall bad \n",
      "실제 요약 : tastes little dry \n",
      "예측 요약 :  not good\n",
      "\n",
      "\n",
      "원문 : nearby fresh easy neighborhood market stocks number gourmet imported products enjoy trying one variety soups canada today butternut squash red pepper soup quite good smooth mellow mild taste delicious goes real easy comes calories per serving alas sodium content bit higher like otherwise good gary \n",
      "실제 요약 : mild taste but delicious \n",
      "예측 요약 :  delicious\n",
      "\n",
      "\n",
      "원문 : bought last year threw would buy cent amazon selling inferior product \n",
      "실제 요약 : pumpkin \n",
      "예측 요약 :  not bad\n",
      "\n",
      "\n",
      "원문 : make chicken noodle soup cannot made without noodles even grandmother made noodles scratch loved version \n",
      "실제 요약 : just like grandma \n",
      "예측 요약 :  great soup\n",
      "\n",
      "\n",
      "원문 : got drinking first cup tea smells wonderfully taste delicious minty refreshing time warming read supporting immune system ordered tea means prevent getting sick hoping job highly recommended \n",
      "실제 요약 : yogi tea support \n",
      "예측 요약 :  great tea\n",
      "\n",
      "\n",
      "원문 : like use honey lot sometimes difficult use liquid gooey honey honey produce negative effects system sugar use granulated honey many foods need sweetened even coffee great tasting works great \n",
      "실제 요약 : fabulous unique product \n",
      "예측 요약 :  good honey\n",
      "\n",
      "\n",
      "원문 : gum delicious since first pack hooked love mint chocolate chip meals key lime pie delectable times pack amazon really deal though considering pack target price pack drops might consider buying online pure premium really worth \n",
      "실제 요약 : delicious dessert replacement for dieters \n",
      "예측 요약 :  best chocolate ever\n",
      "\n",
      "\n",
      "원문 : ordered spotted dick eating felt little strange went bathroom realized horrible disease luckily gallon whole milk cleared \n",
      "실제 요약 : this product is dangerous \n",
      "예측 요약 :  yuck\n",
      "\n",
      "\n",
      "원문 : plant healthy received didnt even gift intended bad looked \n",
      "실제 요약 : disappointed \n",
      "예측 요약 :  not as advertised\n",
      "\n",
      "\n",
      "원문 : far best keurig coffee coffee connoisseur enjoy nice bold coffee first keurig coffee actually give time europe bravo tully job well done \n",
      "실제 요약 : to my home away from home \n",
      "예측 요약 :  great coffee\n",
      "\n",
      "\n",
      "원문 : broccoli fan yet liked probably says something amount broccoli daughter loves broccoli mac cheese got turned kinda liked whereas thought great added suggested crumbled ritz crackers top followed directions thought meal tasty really sprinkling broccoli bit flavor definitely full serving would still need add vegetable meal \n",
      "실제 요약 : it made me eat my broccoli \n",
      "예측 요약 :  tastes good but not great\n",
      "\n",
      "\n",
      "원문 : coconut water somewhat sour tasting probably due fact expiration date close cancel subscription continue buy product supermarket \n",
      "실제 요약 : not fresh \n",
      "예측 요약 :  not bad\n",
      "\n",
      "\n",
      "원문 : stash premium mint green iced tea powder count packets light mint taste easy mix powdered tea great ice \n",
      "실제 요약 : powdered tea \n",
      "예측 요약 :  great tea\n",
      "\n",
      "\n",
      "원문 : well packaged alot beans price using make home made vanilla extract flavor buy \n",
      "실제 요약 : beans \n",
      "예측 요약 :  great beans\n",
      "\n",
      "\n",
      "원문 : dont know anyone complain product pricey walk store prepared pay size xanthan gum also barry farms best selection every food product gluten free good prices happy ordered previously little bag xanthan gum lasted year bake alot \n",
      "실제 요약 : best deal \n",
      "예측 요약 :  great product\n",
      "\n",
      "\n",
      "원문 : born argentina top line dulce de leche eat add cakes note noticed dulce de leche acquired taste unless grew eating may consider dulce de leche little sweet \n",
      "실제 요약 : yummy milk spread \n",
      "예측 요약 :  great product\n",
      "\n",
      "\n",
      "원문 : excellent product nicely made fits great hand easy stuff olives get cheap looking stuffers get one \n",
      "실제 요약 : excellent \n",
      "예측 요약 :  great product\n",
      "\n",
      "\n",
      "원문 : cookies satisfy sweet tooth attack healthy calm nausea upset stomach strong ginger flavor sugary although adults really like lot kids probably crazy \n",
      "실제 요약 : great cookies for adults \n",
      "예측 요약 :  not good\n",
      "\n",
      "\n",
      "원문 : really like product always fresh taste great especially like lid easy use secure like brands flip lid tears easily leak \n",
      "실제 요약 : it is great \n",
      "예측 요약 :  great product\n",
      "\n",
      "\n",
      "원문 : refreshing carbonated juice drink aftertaste love flavor fact added sugar subtle orange really kills thirst size perfect times really want ounce drink \n",
      "실제 요약 : great taste not overly sweet \n",
      "예측 요약 :  refreshing\n",
      "\n",
      "\n",
      "원문 : stash teas one favorites green white tea healthy delicious hot cold enjoy cup hot tea morning day relaxing evening keep jug iced green white tea refrigerator year round \n",
      "실제 요약 : fabulous everything \n",
      "예측 요약 :  best tea ever\n",
      "\n",
      "\n",
      "원문 : daughter husband gluten intolerant found wow gluten free cookies local store bought try cookie brownie particular hits husband tried since never found gluten free sweets likes thought excellent stocking daughter amazon since lives state want wait next visit \n",
      "실제 요약 : wonderful cookie also try the brownies \n",
      "예측 요약 :  gluten free cookie\n",
      "\n",
      "\n",
      "원문 : really like pamela baking mix tried bread mix far made pizza crust turn well rise well made really dense crust husband found hard digest left us feeling bloated hesitant try \n",
      "실제 요약 : not the best \n",
      "예측 요약 :  best gluten free bread mix\n",
      "\n",
      "\n",
      "원문 : nearby fresh easy market variety english fruit spreads enjoying trying one latest son ginger preserve oh stuff delicious always liked ginger spread fantastic nice flavor breakfast toast hardly wait try folks could give jar gifts sure would appreciated gary \n",
      "실제 요약 : oh my this stuff is delicious \n",
      "예측 요약 :  love this stuff\n",
      "\n",
      "\n",
      "원문 : tastes smells nothing like pineapple stong bitter chemical taste total waste money \n",
      "실제 요약 : nothing like pineapple \n",
      "예측 요약 :  terrible\n",
      "\n",
      "\n",
      "원문 : far delicious cereal ever eaten eat snack given choice potato chips cereal would choose cereal says lot think literally ate entire box two days good \n",
      "실제 요약 : can eat an box in day \n",
      "예측 요약 :  delicious\n",
      "\n",
      "\n",
      "원문 : needed use finely ground coffees works well none fine ground coffee prefer using solo fill cups easier use six time problem except using fine ground coffee \n",
      "실제 요약 : fine ground \n",
      "예측 요약 :  good coffee\n",
      "\n",
      "\n",
      "원문 : four dogs varying sizes difficult find bone enjoy biggest smallest bones hit keep mind bigger dogs wolfed little dogs took time substantial expected easy digest center wrapped raw hide shell though great quality product would recommend particular size anything larger cocker spaniel served good time killer babies \n",
      "실제 요약 : another great product \n",
      "예측 요약 :  dogs love it\n",
      "\n",
      "\n",
      "원문 : best gluten free brownie mix found makes soft chewy brownies entire family loves even teenager made sent celiac non celiac kids service could tell difference regular ones use make \n",
      "실제 요약 : gluten free chocolate truffle brownie mix \n",
      "예측 요약 :  delicious brownies\n",
      "\n",
      "\n",
      "원문 : living central california get ripe avocados year round especially stores town regularly import produce mexico however find kind expensive oil gives fresh avocado flavour whenever want right matter season \n",
      "실제 요약 : love this product \n",
      "예측 요약 :  best chili ever\n",
      "\n",
      "\n",
      "원문 : friend mine gave first bottle hooked take chicken stick several times rub meat put pack ziplock bags wait put grill mini kitchen grill wow great \n",
      "실제 요약 : bad run \n",
      "예측 요약 :  great for\n",
      "\n",
      "\n"
     ]
    }
   ],
   "source": [
    "for i in range(50, 100):\n",
    "    print(\"원문 :\", seq2text(encoder_input_test[i]))\n",
    "    print(\"실제 요약 :\", seq2summary(decoder_input_test[i]))\n",
    "    print(\"예측 요약 :\", decode_sequence(encoder_input_test[i].reshape(1, text_max_len)))\n",
    "    print(\"\\n\")"
   ]
  },
  {
   "cell_type": "markdown",
   "id": "968fd7b0",
   "metadata": {},
   "source": [
    "## 추출적 요약 해보기\n",
    "* 앞서 seq2seq를 통해 추상적 요약을 진행했습니다.\n",
    "* 이번엔 추상적 요약이 아닌 이미 본문에 존재하는 단어구, 문장을 뽑아 요약하는 추출적 요약을 사용해 볼 것입니다.  \n",
    "\n",
    "* 패키지 summa에서는 추출적 요약을 위한 모듈인 summarize를 제공해 간단히 진행해 볼 수 있습니다.\n",
    "\n",
    "* summarize 모듈을 사용해 매트릭스 시놉시스를 요약해보겠습니다."
   ]
  },
  {
   "cell_type": "code",
   "execution_count": 55,
   "id": "f3a084c8",
   "metadata": {},
   "outputs": [],
   "source": [
    "import requests\n",
    "from summa.summarizer import summarize"
   ]
  },
  {
   "cell_type": "markdown",
   "id": "80d5e0cf",
   "metadata": {},
   "source": [
    "### 원문을 가져옵니다."
   ]
  },
  {
   "cell_type": "code",
   "execution_count": 56,
   "id": "d6a93893",
   "metadata": {},
   "outputs": [],
   "source": [
    "text = requests.get('http://rare-technologies.com/the_matrix_synopsis.txt').text"
   ]
  },
  {
   "cell_type": "code",
   "execution_count": 57,
   "id": "24b816fd",
   "metadata": {
    "scrolled": true
   },
   "outputs": [
    {
     "name": "stdout",
     "output_type": "stream",
     "text": [
      "The screen is filled with green, cascading code which gives way to the title, The Matrix.\r\n",
      "\r\n",
      "A phone rings and text appears on the screen: \"Call trans opt: received. 2-19-98 13:24:18 REC: Log>\" As a conversation takes place between Trinity (Carrie-Anne Moss) and Cypher (Joe Pantoliano), two free humans, a table of random green numbers are being scanned and individual numbers selected, creating a series of digits not unlike an ordinary phone number, as if a code is being deciphered or a call is being traced.\r\n",
      "\r\n",
      "Trinity discusses some unknown person. Cypher taunts Trinity, suggesting she enjoys watching him. Trinity counters that \"Morpheus (Laurence Fishburne) says he may be 'the One',\" just as the sound of a number being selected alerts Trinity that someone may be tracing their call. She ends the call.\r\n",
      "\r\n",
      "Armed policemen move down a darkened, decrepit hallway in the Heart O' the City Hotel, their flashlight beam bouncing just ahead of them. They come to room 303, kick down the door and \n"
     ]
    }
   ],
   "source": [
    "print(text[:1000])"
   ]
  },
  {
   "cell_type": "markdown",
   "id": "70c6197e",
   "metadata": {},
   "source": [
    "### summarize를 사용하여 원문을 요약합니다.\n",
    "#### summarize에 사용되는 인자는 다음과 같습니다.\n",
    "* text : 원문\n",
    "* ratio : 요약문에서 원문에서 선택되는 문장 비율\n",
    "* words : 출력에 포함할 단어 수\n",
    "* split : 요약문을 리스트로 반환할지 문자열로 반환할지 결정"
   ]
  },
  {
   "cell_type": "code",
   "execution_count": 58,
   "id": "3f6d438a",
   "metadata": {
    "scrolled": false
   },
   "outputs": [
    {
     "name": "stdout",
     "output_type": "stream",
     "text": [
      "Summary:\n",
      "Morpheus, Trinity, Neo, Apoc, Switch, Mouse and Cypher are jacked into the Matrix.\n",
      "Trinity brings the helicopter down to the floor that Morpheus is on and Neo opens fire on the three Agents.\n",
      "['Morpheus, Trinity, Neo, Apoc, Switch, Mouse and Cypher are jacked into the Matrix.', 'Trinity brings the helicopter down to the floor that Morpheus is on and Neo opens fire on the three Agents.']\n",
      "Trinity takes Neo to Morpheus.\n",
      "Morpheus, Trinity, Neo, Apoc, Switch, Mouse and Cypher are jacked into the Matrix.\n",
      "Trinity brings the helicopter down to the floor that Morpheus is on and Neo opens fire on the three Agents.\n"
     ]
    }
   ],
   "source": [
    "print('Summary:')\n",
    "print(summarize(text, ratio=0.005))\n",
    "print(summarize(text, ratio=0.005,split = True))\n",
    "print(summarize(text, words = 50))"
   ]
  },
  {
   "cell_type": "markdown",
   "id": "ebab7258",
   "metadata": {},
   "source": [
    "-----------------------------------------------------------------------------------"
   ]
  },
  {
   "cell_type": "markdown",
   "id": "7e11c1f2",
   "metadata": {},
   "source": [
    "# 프로젝트 : 뉴스 기사 요약하기\n",
    "* 새로운 데이터셋에 대해 추상적 요약과 추출적 요약을 모두 해보도록 합시다."
   ]
  },
  {
   "cell_type": "markdown",
   "id": "6519eac3",
   "metadata": {},
   "source": [
    "## STEP 1. 데이터 수집하기"
   ]
  },
  {
   "cell_type": "code",
   "execution_count": 59,
   "id": "6497d1a9",
   "metadata": {},
   "outputs": [],
   "source": [
    "import urllib.request\n",
    "urllib.request.urlretrieve(\"https://raw.githubusercontent.com/sunnysai12345/News_Summary/master/news_summary_more.csv\", filename=\"news_summary_more.csv\")\n",
    "data = pd.read_csv('news_summary_more.csv', encoding='iso-8859-1')"
   ]
  },
  {
   "cell_type": "code",
   "execution_count": 60,
   "id": "7de9aa3d",
   "metadata": {},
   "outputs": [
    {
     "data": {
      "text/html": [
       "<div>\n",
       "<style scoped>\n",
       "    .dataframe tbody tr th:only-of-type {\n",
       "        vertical-align: middle;\n",
       "    }\n",
       "\n",
       "    .dataframe tbody tr th {\n",
       "        vertical-align: top;\n",
       "    }\n",
       "\n",
       "    .dataframe thead th {\n",
       "        text-align: right;\n",
       "    }\n",
       "</style>\n",
       "<table border=\"1\" class=\"dataframe\">\n",
       "  <thead>\n",
       "    <tr style=\"text-align: right;\">\n",
       "      <th></th>\n",
       "      <th>headlines</th>\n",
       "      <th>text</th>\n",
       "    </tr>\n",
       "  </thead>\n",
       "  <tbody>\n",
       "    <tr>\n",
       "      <th>0</th>\n",
       "      <td>upGrad learner switches to career in ML &amp; Al w...</td>\n",
       "      <td>Saurav Kant, an alumnus of upGrad and IIIT-B's...</td>\n",
       "    </tr>\n",
       "    <tr>\n",
       "      <th>1</th>\n",
       "      <td>Delhi techie wins free food from Swiggy for on...</td>\n",
       "      <td>Kunal Shah's credit card bill payment platform...</td>\n",
       "    </tr>\n",
       "    <tr>\n",
       "      <th>2</th>\n",
       "      <td>New Zealand end Rohit Sharma-led India's 12-ma...</td>\n",
       "      <td>New Zealand defeated India by 8 wickets in the...</td>\n",
       "    </tr>\n",
       "    <tr>\n",
       "      <th>3</th>\n",
       "      <td>Aegon life iTerm insurance plan helps customer...</td>\n",
       "      <td>With Aegon Life iTerm Insurance plan, customer...</td>\n",
       "    </tr>\n",
       "    <tr>\n",
       "      <th>4</th>\n",
       "      <td>Have known Hirani for yrs, what if MeToo claim...</td>\n",
       "      <td>Speaking about the sexual harassment allegatio...</td>\n",
       "    </tr>\n",
       "  </tbody>\n",
       "</table>\n",
       "</div>"
      ],
      "text/plain": [
       "                                           headlines  \\\n",
       "0  upGrad learner switches to career in ML & Al w...   \n",
       "1  Delhi techie wins free food from Swiggy for on...   \n",
       "2  New Zealand end Rohit Sharma-led India's 12-ma...   \n",
       "3  Aegon life iTerm insurance plan helps customer...   \n",
       "4  Have known Hirani for yrs, what if MeToo claim...   \n",
       "\n",
       "                                                text  \n",
       "0  Saurav Kant, an alumnus of upGrad and IIIT-B's...  \n",
       "1  Kunal Shah's credit card bill payment platform...  \n",
       "2  New Zealand defeated India by 8 wickets in the...  \n",
       "3  With Aegon Life iTerm Insurance plan, customer...  \n",
       "4  Speaking about the sexual harassment allegatio...  "
      ]
     },
     "execution_count": 60,
     "metadata": {},
     "output_type": "execute_result"
    }
   ],
   "source": [
    "data.head()"
   ]
  },
  {
   "cell_type": "markdown",
   "id": "7357f6a6",
   "metadata": {},
   "source": [
    "## STEP 2. 데이터 전처리하기\n",
    "* 위에서 정의한 전처리용 함수를 활용합니다."
   ]
  },
  {
   "cell_type": "code",
   "execution_count": 61,
   "id": "7441106c",
   "metadata": {},
   "outputs": [
    {
     "data": {
      "text/html": [
       "<div>\n",
       "<style scoped>\n",
       "    .dataframe tbody tr th:only-of-type {\n",
       "        vertical-align: middle;\n",
       "    }\n",
       "\n",
       "    .dataframe tbody tr th {\n",
       "        vertical-align: top;\n",
       "    }\n",
       "\n",
       "    .dataframe thead th {\n",
       "        text-align: right;\n",
       "    }\n",
       "</style>\n",
       "<table border=\"1\" class=\"dataframe\">\n",
       "  <thead>\n",
       "    <tr style=\"text-align: right;\">\n",
       "      <th></th>\n",
       "      <th>text</th>\n",
       "      <th>headlines</th>\n",
       "    </tr>\n",
       "  </thead>\n",
       "  <tbody>\n",
       "    <tr>\n",
       "      <th>0</th>\n",
       "      <td>Saurav Kant, an alumnus of upGrad and IIIT-B's...</td>\n",
       "      <td>upGrad learner switches to career in ML &amp; Al w...</td>\n",
       "    </tr>\n",
       "    <tr>\n",
       "      <th>1</th>\n",
       "      <td>Kunal Shah's credit card bill payment platform...</td>\n",
       "      <td>Delhi techie wins free food from Swiggy for on...</td>\n",
       "    </tr>\n",
       "    <tr>\n",
       "      <th>2</th>\n",
       "      <td>New Zealand defeated India by 8 wickets in the...</td>\n",
       "      <td>New Zealand end Rohit Sharma-led India's 12-ma...</td>\n",
       "    </tr>\n",
       "    <tr>\n",
       "      <th>3</th>\n",
       "      <td>With Aegon Life iTerm Insurance plan, customer...</td>\n",
       "      <td>Aegon life iTerm insurance plan helps customer...</td>\n",
       "    </tr>\n",
       "    <tr>\n",
       "      <th>4</th>\n",
       "      <td>Speaking about the sexual harassment allegatio...</td>\n",
       "      <td>Have known Hirani for yrs, what if MeToo claim...</td>\n",
       "    </tr>\n",
       "  </tbody>\n",
       "</table>\n",
       "</div>"
      ],
      "text/plain": [
       "                                                text  \\\n",
       "0  Saurav Kant, an alumnus of upGrad and IIIT-B's...   \n",
       "1  Kunal Shah's credit card bill payment platform...   \n",
       "2  New Zealand defeated India by 8 wickets in the...   \n",
       "3  With Aegon Life iTerm Insurance plan, customer...   \n",
       "4  Speaking about the sexual harassment allegatio...   \n",
       "\n",
       "                                           headlines  \n",
       "0  upGrad learner switches to career in ML & Al w...  \n",
       "1  Delhi techie wins free food from Swiggy for on...  \n",
       "2  New Zealand end Rohit Sharma-led India's 12-ma...  \n",
       "3  Aegon life iTerm insurance plan helps customer...  \n",
       "4  Have known Hirani for yrs, what if MeToo claim...  "
      ]
     },
     "execution_count": 61,
     "metadata": {},
     "output_type": "execute_result"
    }
   ],
   "source": [
    "# 텍스트 , 요약문 순으로 컬럼을 다시 정의합니다.\n",
    "data = data[['text','headlines']]\n",
    "data.head()"
   ]
  },
  {
   "cell_type": "markdown",
   "id": "453e109e",
   "metadata": {},
   "source": [
    "### 중복 데이터와 NULL을 제거합니다."
   ]
  },
  {
   "cell_type": "code",
   "execution_count": 62,
   "id": "482c7d38",
   "metadata": {},
   "outputs": [
    {
     "name": "stdout",
     "output_type": "stream",
     "text": [
      "전체 데이터의 개수 :  98401\n",
      "중복된 text 데이터의 개수 : 98360\n"
     ]
    }
   ],
   "source": [
    "# 중복 데이터 개수 확인\n",
    "print(\"전체 데이터의 개수 : \",data.shape[0])\n",
    "print(\"중복된 text 데이터의 개수 :\", data.nunique().text)"
   ]
  },
  {
   "cell_type": "code",
   "execution_count": 63,
   "id": "c7634c40",
   "metadata": {},
   "outputs": [
    {
     "name": "stdout",
     "output_type": "stream",
     "text": [
      "전체 데이터의 개수 : 98360\n"
     ]
    }
   ],
   "source": [
    "# 중복 데이터 제거\n",
    "data.drop_duplicates(subset = ['text'],inplace = True)\n",
    "print(\"전체 데이터의 개수 :\",data.shape[0])"
   ]
  },
  {
   "cell_type": "code",
   "execution_count": 64,
   "id": "1b0259ce",
   "metadata": {},
   "outputs": [
    {
     "name": "stdout",
     "output_type": "stream",
     "text": [
      "text         0\n",
      "headlines    0\n",
      "dtype: int64\n"
     ]
    }
   ],
   "source": [
    "# NULL 개수 확인\n",
    "print(data.isnull().sum())"
   ]
  },
  {
   "cell_type": "markdown",
   "id": "19c49d23",
   "metadata": {},
   "source": [
    "* 널값은 없네용 ㅎㅎ;;"
   ]
  },
  {
   "cell_type": "code",
   "execution_count": 65,
   "id": "6fd452e9",
   "metadata": {},
   "outputs": [],
   "source": [
    "clean_text = []\n",
    "for s in data['text']:\n",
    "    clean_text.append(preprocess_sentence(s))"
   ]
  },
  {
   "cell_type": "code",
   "execution_count": 66,
   "id": "76a81361",
   "metadata": {},
   "outputs": [],
   "source": [
    "clean_summary = []\n",
    "for s in data['headlines']:\n",
    "    clean_summary.append(preprocess_sentence(s,False))"
   ]
  },
  {
   "cell_type": "code",
   "execution_count": 67,
   "id": "cda8e50a",
   "metadata": {},
   "outputs": [
    {
     "name": "stdout",
     "output_type": "stream",
     "text": [
      "98360\n",
      "['saurav kant alumnus upgrad iiit pg program machine learning artificial intelligence sr systems engineer infosys almost years work experience program upgrad degree career support helped transition data scientist tech mahindra salary hike upgrad online power learning powered lakh careers', 'kunal shah credit card bill payment platform cred gave users chance win free food swiggy one year pranav kaushik delhi techie bagged reward spending cred coins users get one cred coin per rupee bill paid used avail rewards brands like ixigo bookmyshow ubereats cult fit', 'new zealand defeated india wickets fourth odi hamilton thursday win first match five match odi series india lost international match rohit sharma captaincy consecutive victories dating back march match witnessed india getting seventh lowest total odi cricket history']\n",
      "['upgrad learner switches to career in ml al with salary hike', 'delhi techie wins free food from swiggy for one year on cred', 'new zealand end rohit sharma led india match winning streak']\n"
     ]
    }
   ],
   "source": [
    "# 정규화가 잘 되었는지 확인합니다.\n",
    "print(len(clean_text))\n",
    "print(clean_text[:3])\n",
    "print(clean_summary[:3])"
   ]
  },
  {
   "cell_type": "code",
   "execution_count": 68,
   "id": "857676f5",
   "metadata": {},
   "outputs": [],
   "source": [
    "data['text'] = clean_text\n",
    "data['headlines'] = clean_summary"
   ]
  },
  {
   "cell_type": "code",
   "execution_count": 69,
   "id": "05125c2e",
   "metadata": {},
   "outputs": [
    {
     "name": "stdout",
     "output_type": "stream",
     "text": [
      "text         0\n",
      "headlines    0\n",
      "dtype: int64\n"
     ]
    }
   ],
   "source": [
    "# 정규화 후 null값이 생겼는지 확인합니다.\n",
    "data.replace('',np.nan,inplace = True)\n",
    "print(data.isnull().sum())"
   ]
  },
  {
   "cell_type": "markdown",
   "id": "4f50c6eb",
   "metadata": {},
   "source": [
    "### 샘플의 최대 길이를 결정합니다."
   ]
  },
  {
   "cell_type": "code",
   "execution_count": 70,
   "id": "2233cff6",
   "metadata": {
    "scrolled": true
   },
   "outputs": [
    {
     "name": "stdout",
     "output_type": "stream",
     "text": [
      "텍스트의 최소 길이 : 1\n",
      "텍스트의 최대 길이 : 60\n",
      "텍스트의 평균 길이 : 35.09968483123221\n",
      "요약의 최소 길이 : 1\n",
      "요약의 최대 길이 : 16\n",
      "요약의 평균 길이 : 9.299532330215534\n"
     ]
    },
    {
     "data": {
      "image/png": "[encoded data removed]",
      "text/plain": [
       "<Figure size 432x288 with 2 Axes>"
      ]
     },
     "metadata": {
      "needs_background": "light"
     },
     "output_type": "display_data"
    },
    {
     "data": {
      "image/png": "[encoded data removed]",
      "text/plain": [
       "<Figure size 432x288 with 1 Axes>"
      ]
     },
     "metadata": {
      "needs_background": "light"
     },
     "output_type": "display_data"
    },
    {
     "data": {
      "image/png": "[encoded data removed]",
      "text/plain": [
       "<Figure size 432x288 with 1 Axes>"
      ]
     },
     "metadata": {
      "needs_background": "light"
     },
     "output_type": "display_data"
    }
   ],
   "source": [
    "text_len = [len(s.split()) for s in data['text']]\n",
    "summary_len = [len(s.split()) for s in data['headlines']]\n",
    "\n",
    "print('텍스트의 최소 길이 : {}'.format(np.min(text_len)))\n",
    "print('텍스트의 최대 길이 : {}'.format(np.max(text_len)))\n",
    "print('텍스트의 평균 길이 : {}'.format(np.mean(text_len)))\n",
    "print('요약의 최소 길이 : {}'.format(np.min(summary_len)))\n",
    "print('요약의 최대 길이 : {}'.format(np.max(summary_len)))\n",
    "print('요약의 평균 길이 : {}'.format(np.mean(summary_len)))\n",
    "\n",
    "plt.subplot(1,2,1)\n",
    "plt.boxplot(text_len)\n",
    "plt.title('text')\n",
    "plt.subplot(1,2,2)\n",
    "plt.boxplot(summary_len)\n",
    "plt.title('headlines')\n",
    "plt.tight_layout()\n",
    "plt.show()\n",
    "\n",
    "plt.title('text')\n",
    "plt.hist(text_len, bins = 40)\n",
    "plt.xlabel('length of samples')\n",
    "plt.ylabel('number of samples')\n",
    "plt.show()\n",
    "\n",
    "plt.title('headlines')\n",
    "plt.hist(summary_len, bins = 40)\n",
    "plt.xlabel('length of samples')\n",
    "plt.ylabel('number of samples')\n",
    "plt.show()"
   ]
  },
  {
   "cell_type": "code",
   "execution_count": 71,
   "id": "052b32e6",
   "metadata": {},
   "outputs": [
    {
     "name": "stdout",
     "output_type": "stream",
     "text": [
      "전체 샘플 중 길이가 40 이하인 샘플의 비율: 0.9238714924766165\n",
      "전체 샘플 중 길이가 10 이하인 샘플의 비율: 0.8162972753151687\n"
     ]
    }
   ],
   "source": [
    "text_max_len = 40\n",
    "summary_max_len = 10\n",
    "below_threshold_len(text_max_len,data['text'])\n",
    "below_threshold_len(summary_max_len,data['headlines'])"
   ]
  },
  {
   "cell_type": "code",
   "execution_count": 72,
   "id": "03931dec",
   "metadata": {
    "scrolled": true
   },
   "outputs": [
    {
     "name": "stdout",
     "output_type": "stream",
     "text": [
      "전체 샘플수 : 74102\n"
     ]
    }
   ],
   "source": [
    "data = data[data['text'].apply(lambda x: len(x.split()) <= text_max_len)]\n",
    "data = data[data['headlines'].apply(lambda x: len(x.split()) <= summary_max_len)]\n",
    "print('전체 샘플수 :', (len(data)))"
   ]
  },
  {
   "cell_type": "markdown",
   "id": "51b463b1",
   "metadata": {},
   "source": [
    "### 요약본을 기반으로 시작 토큰과 끝 토큰을 추가합니다."
   ]
  },
  {
   "cell_type": "code",
   "execution_count": 73,
   "id": "9f2c7c41",
   "metadata": {
    "scrolled": false
   },
   "outputs": [
    {
     "data": {
      "text/html": [
       "<div>\n",
       "<style scoped>\n",
       "    .dataframe tbody tr th:only-of-type {\n",
       "        vertical-align: middle;\n",
       "    }\n",
       "\n",
       "    .dataframe tbody tr th {\n",
       "        vertical-align: top;\n",
       "    }\n",
       "\n",
       "    .dataframe thead th {\n",
       "        text-align: right;\n",
       "    }\n",
       "</style>\n",
       "<table border=\"1\" class=\"dataframe\">\n",
       "  <thead>\n",
       "    <tr style=\"text-align: right;\">\n",
       "      <th></th>\n",
       "      <th>text</th>\n",
       "      <th>headlines</th>\n",
       "      <th>decoder_input</th>\n",
       "      <th>decoder_target</th>\n",
       "    </tr>\n",
       "  </thead>\n",
       "  <tbody>\n",
       "    <tr>\n",
       "      <th>2</th>\n",
       "      <td>new zealand defeated india wickets fourth odi ...</td>\n",
       "      <td>new zealand end rohit sharma led india match w...</td>\n",
       "      <td>sostoken new zealand end rohit sharma led indi...</td>\n",
       "      <td>new zealand end rohit sharma led india match w...</td>\n",
       "    </tr>\n",
       "    <tr>\n",
       "      <th>3</th>\n",
       "      <td>aegon life iterm insurance plan customers enjo...</td>\n",
       "      <td>aegon life iterm insurance plan helps customer...</td>\n",
       "      <td>sostoken aegon life iterm insurance plan helps...</td>\n",
       "      <td>aegon life iterm insurance plan helps customer...</td>\n",
       "    </tr>\n",
       "    <tr>\n",
       "      <th>5</th>\n",
       "      <td>pakistani singer rahat fateh ali khan denied r...</td>\n",
       "      <td>rahat fateh ali khan denies getting notice for...</td>\n",
       "      <td>sostoken rahat fateh ali khan denies getting n...</td>\n",
       "      <td>rahat fateh ali khan denies getting notice for...</td>\n",
       "    </tr>\n",
       "    <tr>\n",
       "      <th>9</th>\n",
       "      <td>congress candidate shafia zubair ramgarh assem...</td>\n",
       "      <td>cong wins ramgarh bypoll in rajasthan takes to...</td>\n",
       "      <td>sostoken cong wins ramgarh bypoll in rajasthan...</td>\n",
       "      <td>cong wins ramgarh bypoll in rajasthan takes to...</td>\n",
       "    </tr>\n",
       "    <tr>\n",
       "      <th>10</th>\n",
       "      <td>two minor cousins uttar pradesh gorakhpur alle...</td>\n",
       "      <td>up cousins fed human excreta for friendship wi...</td>\n",
       "      <td>sostoken up cousins fed human excreta for frie...</td>\n",
       "      <td>up cousins fed human excreta for friendship wi...</td>\n",
       "    </tr>\n",
       "  </tbody>\n",
       "</table>\n",
       "</div>"
      ],
      "text/plain": [
       "                                                 text  \\\n",
       "2   new zealand defeated india wickets fourth odi ...   \n",
       "3   aegon life iterm insurance plan customers enjo...   \n",
       "5   pakistani singer rahat fateh ali khan denied r...   \n",
       "9   congress candidate shafia zubair ramgarh assem...   \n",
       "10  two minor cousins uttar pradesh gorakhpur alle...   \n",
       "\n",
       "                                            headlines  \\\n",
       "2   new zealand end rohit sharma led india match w...   \n",
       "3   aegon life iterm insurance plan helps customer...   \n",
       "5   rahat fateh ali khan denies getting notice for...   \n",
       "9   cong wins ramgarh bypoll in rajasthan takes to...   \n",
       "10  up cousins fed human excreta for friendship wi...   \n",
       "\n",
       "                                        decoder_input  \\\n",
       "2   sostoken new zealand end rohit sharma led indi...   \n",
       "3   sostoken aegon life iterm insurance plan helps...   \n",
       "5   sostoken rahat fateh ali khan denies getting n...   \n",
       "9   sostoken cong wins ramgarh bypoll in rajasthan...   \n",
       "10  sostoken up cousins fed human excreta for frie...   \n",
       "\n",
       "                                       decoder_target  \n",
       "2   new zealand end rohit sharma led india match w...  \n",
       "3   aegon life iterm insurance plan helps customer...  \n",
       "5   rahat fateh ali khan denies getting notice for...  \n",
       "9   cong wins ramgarh bypoll in rajasthan takes to...  \n",
       "10  up cousins fed human excreta for friendship wi...  "
      ]
     },
     "execution_count": 73,
     "metadata": {},
     "output_type": "execute_result"
    }
   ],
   "source": [
    "data['decoder_input'] = data['headlines'].apply(lambda x : 'sostoken ' + x)\n",
    "data['decoder_target'] = data['headlines'].apply(lambda x : x + ' eostoken')\n",
    "data.head()"
   ]
  },
  {
   "cell_type": "code",
   "execution_count": 74,
   "id": "a52f1062",
   "metadata": {},
   "outputs": [],
   "source": [
    "# 훈련데이터와 테스트 데이터를 분리합니다.\n",
    "encoder_input_train,decoder_input_train,decoder_target_train,encoder_input_test,decoder_input_test,decoder_target_test = train_test_split(data)"
   ]
  },
  {
   "cell_type": "code",
   "execution_count": 75,
   "id": "9d9e522c",
   "metadata": {},
   "outputs": [
    {
     "name": "stdout",
     "output_type": "stream",
     "text": [
      "훈련 데이터의 개수 : 59282\n",
      "훈련 레이블의 개수 : 59282\n",
      "테스트 데이터의 개수 : 14820\n",
      "테스트 레이블의 개수 : 14820\n"
     ]
    }
   ],
   "source": [
    "print('훈련 데이터의 개수 :', len(encoder_input_train))\n",
    "print('훈련 레이블의 개수 :', len(decoder_input_train))\n",
    "print('테스트 데이터의 개수 :', len(encoder_input_test))\n",
    "print('테스트 레이블의 개수 :', len(decoder_input_test))"
   ]
  },
  {
   "cell_type": "code",
   "execution_count": 76,
   "id": "7343cf60",
   "metadata": {},
   "outputs": [],
   "source": [
    "src_tokenizer = Tokenizer()\n",
    "src_tokenizer.fit_on_texts(encoder_input_train)"
   ]
  },
  {
   "cell_type": "code",
   "execution_count": 77,
   "id": "109a55a2",
   "metadata": {},
   "outputs": [
    {
     "name": "stdout",
     "output_type": "stream",
     "text": [
      "단어 집합(vocabulary)의 크기 : 61609\n",
      "등장 빈도가 6번 이하인 희귀 단어의 수: 42289\n",
      "단어 집합에서 희귀 단어를 제외시킬 경우의 단어 집합의 크기 19320\n",
      "단어 집합에서 희귀 단어의 비율: 68.64094531643104\n",
      "전체 등장 빈도에서 희귀 단어 등장 빈도 비율: 4.191887349676271\n"
     ]
    }
   ],
   "source": [
    "rare_voca(src_tokenizer,7)"
   ]
  },
  {
   "cell_type": "code",
   "execution_count": 78,
   "id": "9566d855",
   "metadata": {},
   "outputs": [],
   "source": [
    "src_vocab = 16000"
   ]
  },
  {
   "cell_type": "code",
   "execution_count": 79,
   "id": "0f3040a2",
   "metadata": {},
   "outputs": [],
   "source": [
    "src_tokenizer = Tokenizer(num_words = src_vocab)\n",
    "src_tokenizer.fit_on_texts(encoder_input_train)"
   ]
  },
  {
   "cell_type": "code",
   "execution_count": 80,
   "id": "ed24ba5e",
   "metadata": {},
   "outputs": [],
   "source": [
    "encoder_input_train = src_tokenizer.texts_to_sequences(encoder_input_train)\n",
    "encoder_input_test = src_tokenizer.texts_to_sequences(encoder_input_test)"
   ]
  },
  {
   "cell_type": "code",
   "execution_count": 81,
   "id": "97774512",
   "metadata": {},
   "outputs": [
    {
     "name": "stdout",
     "output_type": "stream",
     "text": [
      "[[258, 802, 42, 243, 916, 5890, 4162, 334, 842, 201, 2589, 1578, 1044, 258, 268, 42, 554, 3653, 1217, 42, 1386, 961, 176, 23, 280, 1325, 258, 107, 243], [5891, 15083, 143, 56, 815, 9230, 101, 15084, 6986, 10324, 41, 2444, 3654, 3232, 101, 1932, 183, 3, 330, 1, 10324, 4852, 943, 5891, 15083, 26, 816, 11, 11342, 157, 5663, 2120], [1089, 1121, 722, 165, 375, 5453, 2844, 223, 164, 236, 121, 862, 4201, 1260, 1089, 10, 164, 186, 10644, 722, 409, 68, 1, 1089, 6234, 5966, 845, 58, 6626, 2109, 7, 1375]]\n",
      "[[12, 237, 520, 8218, 6558, 6941, 611, 236, 4922, 2818, 2863, 6570, 273, 481, 1648, 539, 3711, 25, 1, 237, 5, 274, 1431, 328, 698, 3089, 1445, 1814, 701, 1177, 3256, 4371, 913], [8020, 35, 116, 3798, 349, 154, 16, 3780, 1828, 1398, 2571, 2102, 530, 507, 131, 13689, 256, 2461, 1302, 714, 73, 2658, 90, 201, 2658, 33, 2, 3798, 1647, 586, 9482, 1114, 243], [2092, 77, 2047, 465, 82, 1, 1204, 541, 533, 4168, 1320, 803, 2582, 4443, 1270, 13566, 64, 465, 1, 803, 69, 566, 640, 89, 4, 1397, 4168, 1193, 538, 6223]]\n"
     ]
    }
   ],
   "source": [
    "print(encoder_input_train[:3])\n",
    "print(encoder_input_test[:3])"
   ]
  },
  {
   "cell_type": "code",
   "execution_count": 82,
   "id": "11ec702e",
   "metadata": {},
   "outputs": [],
   "source": [
    "tar_tokenizer = Tokenizer()\n",
    "tar_tokenizer.fit_on_texts(decoder_input_train)"
   ]
  },
  {
   "cell_type": "code",
   "execution_count": 83,
   "id": "fbb66837",
   "metadata": {},
   "outputs": [
    {
     "name": "stdout",
     "output_type": "stream",
     "text": [
      "단어 집합(vocabulary)의 크기 : 27312\n",
      "등장 빈도가 6번 이하인 희귀 단어의 수: 19060\n",
      "단어 집합에서 희귀 단어를 제외시킬 경우의 단어 집합의 크기 8252\n",
      "단어 집합에서 희귀 단어의 비율: 69.78617457527827\n",
      "전체 등장 빈도에서 희귀 단어 등장 빈도 비율: 6.8196129501612\n"
     ]
    }
   ],
   "source": [
    "rare_voca(tar_tokenizer,5)"
   ]
  },
  {
   "cell_type": "code",
   "execution_count": 84,
   "id": "2a89db47",
   "metadata": {},
   "outputs": [],
   "source": [
    "tar_vocab = 7000"
   ]
  },
  {
   "cell_type": "code",
   "execution_count": 85,
   "id": "17ea14ef",
   "metadata": {},
   "outputs": [],
   "source": [
    "tar_tokenizer = Tokenizer(num_words=tar_vocab) \n",
    "tar_tokenizer.fit_on_texts(decoder_input_train)\n",
    "tar_tokenizer.fit_on_texts(decoder_target_train)"
   ]
  },
  {
   "cell_type": "code",
   "execution_count": 86,
   "id": "e2e02b7d",
   "metadata": {},
   "outputs": [],
   "source": [
    "decoder_input_train = tar_tokenizer.texts_to_sequences(decoder_input_train) \n",
    "decoder_target_train = tar_tokenizer.texts_to_sequences(decoder_target_train)\n",
    "decoder_input_test = tar_tokenizer.texts_to_sequences(decoder_input_test)\n",
    "decoder_target_test = tar_tokenizer.texts_to_sequences(decoder_target_test)"
   ]
  },
  {
   "cell_type": "code",
   "execution_count": 87,
   "id": "892354b6",
   "metadata": {
    "scrolled": true
   },
   "outputs": [
    {
     "name": "stdout",
     "output_type": "stream",
     "text": [
      "input\n",
      "input  [[1, 120, 963, 148, 3, 5, 67, 434, 515, 349], [1, 5393, 107, 2400, 4, 2796, 2401, 1890], [1, 892, 155, 244, 2865, 1025, 18, 510]]\n",
      "target\n",
      "decoder  [[120, 963, 148, 3, 5, 67, 434, 515, 349, 2], [5393, 107, 2400, 4, 2796, 2401, 1890, 2], [892, 155, 244, 2865, 1025, 18, 510, 2]]\n"
     ]
    }
   ],
   "source": [
    "print('input')\n",
    "print('input ',decoder_input_train[:3])\n",
    "print('target')\n",
    "print('decoder ',decoder_target_train[:3])"
   ]
  },
  {
   "cell_type": "code",
   "execution_count": 88,
   "id": "b8539f4e",
   "metadata": {
    "scrolled": true
   },
   "outputs": [
    {
     "name": "stdout",
     "output_type": "stream",
     "text": [
      "삭제할 훈련 데이터의 개수 : 0\n",
      "삭제할 테스트 데이터의 개수 : 1\n",
      "훈련 데이터의 개수 : 59282\n",
      "훈련 레이블의 개수 : 59282\n",
      "테스트 데이터의 개수 : 14819\n",
      "테스트 레이블의 개수 : 14819\n"
     ]
    }
   ],
   "source": [
    "#비어버린 문장은 시작토큰만 남아있을 것입니다. 따라서 길이 1의 문장을 모두 제거하도록 합니다.\n",
    "drop_train = [index for index, sentence in enumerate(decoder_input_train) if len(sentence) == 1]\n",
    "drop_test = [index for index, sentence in enumerate(decoder_input_test) if len(sentence) == 1]\n",
    "\n",
    "print('삭제할 훈련 데이터의 개수 :', len(drop_train))\n",
    "print('삭제할 테스트 데이터의 개수 :', len(drop_test))\n",
    "\n",
    "encoder_input_train = [sentence for index, sentence in enumerate(encoder_input_train) if index not in drop_train]\n",
    "decoder_input_train = [sentence for index, sentence in enumerate(decoder_input_train) if index not in drop_train]\n",
    "decoder_target_train = [sentence for index, sentence in enumerate(decoder_target_train) if index not in drop_train]\n",
    "\n",
    "encoder_input_test = [sentence for index, sentence in enumerate(encoder_input_test) if index not in drop_test]\n",
    "decoder_input_test = [sentence for index, sentence in enumerate(decoder_input_test) if index not in drop_test]\n",
    "decoder_target_test = [sentence for index, sentence in enumerate(decoder_target_test) if index not in drop_test]\n",
    "\n",
    "print('훈련 데이터의 개수 :', len(encoder_input_train))\n",
    "print('훈련 레이블의 개수 :', len(decoder_input_train))\n",
    "print('테스트 데이터의 개수 :', len(encoder_input_test))\n",
    "print('테스트 레이블의 개수 :', len(decoder_input_test))"
   ]
  },
  {
   "cell_type": "markdown",
   "id": "17be048b",
   "metadata": {},
   "source": [
    "### Zero padding하기\n",
    "* 이번엔 pre padding을 사용해봅시다."
   ]
  },
  {
   "cell_type": "code",
   "execution_count": 89,
   "id": "bc423c72",
   "metadata": {},
   "outputs": [],
   "source": [
    "encoder_input_train = pad_sequences(encoder_input_train, maxlen=text_max_len, padding='pre')\n",
    "encoder_input_test = pad_sequences(encoder_input_test, maxlen=text_max_len, padding='pre')\n",
    "decoder_input_train = pad_sequences(decoder_input_train, maxlen=summary_max_len, padding='pre')\n",
    "decoder_target_train = pad_sequences(decoder_target_train, maxlen=summary_max_len, padding='pre')\n",
    "decoder_input_test = pad_sequences(decoder_input_test, maxlen=summary_max_len, padding='pre')\n",
    "decoder_target_test = pad_sequences(decoder_target_test, maxlen=summary_max_len, padding='pre')"
   ]
  },
  {
   "cell_type": "markdown",
   "id": "618d1be7",
   "metadata": {},
   "source": [
    "## STEP 3. 어텐션 메커니즘 사용하기\n",
    "* 어텐션 메커니즘을 적용한 모델을 설계합니다.\n",
    "* 인퍼런스 모델은 훈련된 모델의 출력 레이어를 교체해 사용합니다. "
   ]
  },
  {
   "cell_type": "code",
   "execution_count": 90,
   "id": "7484c4a6",
   "metadata": {},
   "outputs": [],
   "source": [
    "embedding_dim = 128\n",
    "hidden_size = 256"
   ]
  },
  {
   "cell_type": "code",
   "execution_count": 91,
   "id": "1686b1dc",
   "metadata": {},
   "outputs": [
    {
     "name": "stdout",
     "output_type": "stream",
     "text": [
      "WARNING:tensorflow:Layer lstm_4 will not use cuDNN kernels since it doesn't meet the criteria. It will use a generic GPU kernel as fallback when running on GPU.\n",
      "WARNING:tensorflow:Layer lstm_5 will not use cuDNN kernels since it doesn't meet the criteria. It will use a generic GPU kernel as fallback when running on GPU.\n",
      "WARNING:tensorflow:Layer lstm_6 will not use cuDNN kernels since it doesn't meet the criteria. It will use a generic GPU kernel as fallback when running on GPU.\n"
     ]
    }
   ],
   "source": [
    "# 인코더\n",
    "encoder_inputs = Input(shape=(text_max_len,))\n",
    "\n",
    "# 인코더의 임베딩 층\n",
    "enc_emb = Embedding(src_vocab, embedding_dim)(encoder_inputs)\n",
    "\n",
    "# 인코더의 LSTM 1\n",
    "encoder_lstm1 = LSTM(hidden_size, return_sequences=True, return_state=True ,dropout = 0.4, recurrent_dropout = 0.4)\n",
    "# 레이어를 선언하고 해당 레이어를 상위 레이어와 연결합니다.\n",
    "encoder_output1, state_h1, state_c1 = encoder_lstm1(enc_emb)\n",
    "\n",
    "# 인코더의 LSTM 2\n",
    "encoder_lstm2 = LSTM(hidden_size, return_sequences=True, return_state=True, dropout=0.4, recurrent_dropout=0.4)\n",
    "encoder_output2, state_h2, state_c2 = encoder_lstm2(encoder_output1)\n",
    "\n",
    "# 인코더의 LSTM 3\n",
    "encoder_lstm3 = LSTM(hidden_size, return_state=True, return_sequences=True, dropout=0.4, recurrent_dropout=0.4)\n",
    "encoder_outputs, state_h, state_c= encoder_lstm3(encoder_output2)"
   ]
  },
  {
   "cell_type": "code",
   "execution_count": 92,
   "id": "0a408b8b",
   "metadata": {},
   "outputs": [
    {
     "name": "stdout",
     "output_type": "stream",
     "text": [
      "WARNING:tensorflow:Layer lstm_7 will not use cuDNN kernels since it doesn't meet the criteria. It will use a generic GPU kernel as fallback when running on GPU.\n"
     ]
    }
   ],
   "source": [
    "# 디코더 설계\n",
    "decoder_inputs = Input(shape=(None,))\n",
    "\n",
    "# 디코더의 임베딩 층\n",
    "dec_emb_layer = Embedding(tar_vocab, embedding_dim)\n",
    "dec_emb = dec_emb_layer(decoder_inputs)\n",
    "\n",
    "# 디코더의 LSTM\n",
    "decoder_lstm = LSTM(hidden_size, return_sequences=True, return_state=True, dropout=0.4, recurrent_dropout=0.2)\n",
    "decoder_outputs, _, _ = decoder_lstm(dec_emb, initial_state=[state_h, state_c])"
   ]
  },
  {
   "cell_type": "code",
   "execution_count": 93,
   "id": "90aeee83",
   "metadata": {
    "scrolled": true
   },
   "outputs": [
    {
     "name": "stdout",
     "output_type": "stream",
     "text": [
      "Model: \"model_4\"\n",
      "__________________________________________________________________________________________________\n",
      "Layer (type)                    Output Shape         Param #     Connected to                     \n",
      "==================================================================================================\n",
      "input_6 (InputLayer)            [(None, 40)]         0                                            \n",
      "__________________________________________________________________________________________________\n",
      "embedding_2 (Embedding)         (None, 40, 128)      2048000     input_6[0][0]                    \n",
      "__________________________________________________________________________________________________\n",
      "lstm_4 (LSTM)                   [(None, 40, 256), (N 394240      embedding_2[0][0]                \n",
      "__________________________________________________________________________________________________\n",
      "input_7 (InputLayer)            [(None, None)]       0                                            \n",
      "__________________________________________________________________________________________________\n",
      "lstm_5 (LSTM)                   [(None, 40, 256), (N 525312      lstm_4[0][0]                     \n",
      "__________________________________________________________________________________________________\n",
      "embedding_3 (Embedding)         (None, None, 128)    896000      input_7[0][0]                    \n",
      "__________________________________________________________________________________________________\n",
      "lstm_6 (LSTM)                   [(None, 40, 256), (N 525312      lstm_5[0][0]                     \n",
      "__________________________________________________________________________________________________\n",
      "lstm_7 (LSTM)                   [(None, None, 256),  394240      embedding_3[0][0]                \n",
      "                                                                 lstm_6[0][1]                     \n",
      "                                                                 lstm_6[0][2]                     \n",
      "__________________________________________________________________________________________________\n",
      "attention_layer (AdditiveAttent (None, None, 256)    256         lstm_7[0][0]                     \n",
      "                                                                 lstm_6[0][0]                     \n",
      "__________________________________________________________________________________________________\n",
      "concat_layer (Concatenate)      (None, None, 512)    0           lstm_7[0][0]                     \n",
      "                                                                 attention_layer[0][0]            \n",
      "__________________________________________________________________________________________________\n",
      "dense_2 (Dense)                 (None, None, 7000)   3591000     concat_layer[0][0]               \n",
      "==================================================================================================\n",
      "Total params: 8,374,360\n",
      "Trainable params: 8,374,360\n",
      "Non-trainable params: 0\n",
      "__________________________________________________________________________________________________\n"
     ]
    }
   ],
   "source": [
    "# 어텐션 층(어텐션 함수)\n",
    "attn_layer = AdditiveAttention(name='attention_layer')\n",
    "\n",
    "# 인코더와 디코더의 모든 time step의 hidden state를 어텐션 층에 전달하고 결과를 리턴\n",
    "attn_out = attn_layer([decoder_outputs, encoder_outputs])\n",
    "\n",
    "\n",
    "# 어텐션의 결과와 디코더의 hidden state들을 연결\n",
    "decoder_concat_input = Concatenate(axis=-1, name='concat_layer')([decoder_outputs, attn_out])\n",
    "\n",
    "# 디코더의 출력층\n",
    "decoder_softmax_layer = Dense(tar_vocab, activation='softmax')\n",
    "decoder_softmax_outputs = decoder_softmax_layer(decoder_concat_input)\n",
    "\n",
    "# 모델을 새로 정의\n",
    "model = Model([encoder_inputs, decoder_inputs], decoder_softmax_outputs)\n",
    "model.summary()"
   ]
  },
  {
   "cell_type": "code",
   "execution_count": 94,
   "id": "5b2b3c41",
   "metadata": {},
   "outputs": [],
   "source": [
    "model.compile(optimizer='rmsprop', loss='sparse_categorical_crossentropy')\n",
    "es = EarlyStopping(monitor='val_loss', patience=2, verbose=1)"
   ]
  },
  {
   "cell_type": "code",
   "execution_count": 95,
   "id": "ea68c9ea",
   "metadata": {},
   "outputs": [
    {
     "name": "stdout",
     "output_type": "stream",
     "text": [
      "Epoch 1/50\n",
      "232/232 [==============================] - 133s 541ms/step - loss: 5.9924 - val_loss: 5.6374\n",
      "Epoch 2/50\n",
      "232/232 [==============================] - 124s 535ms/step - loss: 5.6467 - val_loss: 5.5202\n",
      "Epoch 3/50\n",
      "232/232 [==============================] - 125s 537ms/step - loss: 5.4716 - val_loss: 5.5429\n",
      "Epoch 4/50\n",
      "232/232 [==============================] - 124s 535ms/step - loss: 5.2045 - val_loss: 5.2388\n",
      "Epoch 5/50\n",
      "232/232 [==============================] - 124s 536ms/step - loss: 4.9363 - val_loss: 4.8284\n",
      "Epoch 6/50\n",
      "232/232 [==============================] - 125s 537ms/step - loss: 4.7064 - val_loss: 4.6467\n",
      "Epoch 7/50\n",
      "232/232 [==============================] - 125s 537ms/step - loss: 4.5166 - val_loss: 4.5175\n",
      "Epoch 8/50\n",
      "232/232 [==============================] - 124s 534ms/step - loss: 4.3428 - val_loss: 4.4027\n",
      "Epoch 9/50\n",
      "232/232 [==============================] - 125s 538ms/step - loss: 4.1896 - val_loss: 4.5122\n",
      "Epoch 10/50\n",
      "232/232 [==============================] - 126s 544ms/step - loss: 4.0550 - val_loss: 4.2395\n",
      "Epoch 11/50\n",
      "232/232 [==============================] - 126s 544ms/step - loss: 3.9370 - val_loss: 4.1655\n",
      "Epoch 12/50\n",
      "232/232 [==============================] - 125s 539ms/step - loss: 3.8257 - val_loss: 4.1175\n",
      "Epoch 13/50\n",
      "232/232 [==============================] - 125s 538ms/step - loss: 3.7253 - val_loss: 4.0771\n",
      "Epoch 14/50\n",
      "232/232 [==============================] - 125s 540ms/step - loss: 3.6310 - val_loss: 4.0373\n",
      "Epoch 15/50\n",
      "232/232 [==============================] - 125s 540ms/step - loss: 3.5457 - val_loss: 4.0044\n",
      "Epoch 16/50\n",
      "232/232 [==============================] - 125s 538ms/step - loss: 3.4660 - val_loss: 3.9769\n",
      "Epoch 17/50\n",
      "232/232 [==============================] - 124s 535ms/step - loss: 3.3892 - val_loss: 3.9618\n",
      "Epoch 18/50\n",
      "232/232 [==============================] - 124s 536ms/step - loss: 3.3211 - val_loss: 3.9350\n",
      "Epoch 19/50\n",
      "232/232 [==============================] - 124s 535ms/step - loss: 3.2581 - val_loss: 3.9201\n",
      "Epoch 20/50\n",
      "232/232 [==============================] - 124s 536ms/step - loss: 3.1962 - val_loss: 3.9194\n",
      "Epoch 21/50\n",
      "232/232 [==============================] - 124s 536ms/step - loss: 3.1384 - val_loss: 3.8947\n",
      "Epoch 22/50\n",
      "232/232 [==============================] - 124s 536ms/step - loss: 3.0846 - val_loss: 3.8949\n",
      "Epoch 23/50\n",
      "232/232 [==============================] - 124s 537ms/step - loss: 3.0330 - val_loss: 3.8786\n",
      "Epoch 24/50\n",
      "232/232 [==============================] - 125s 540ms/step - loss: 2.9835 - val_loss: 3.8758\n",
      "Epoch 25/50\n",
      "232/232 [==============================] - 125s 539ms/step - loss: 2.9392 - val_loss: 3.8681\n",
      "Epoch 26/50\n",
      "232/232 [==============================] - 125s 540ms/step - loss: 2.8934 - val_loss: 3.8696\n",
      "Epoch 27/50\n",
      "232/232 [==============================] - 126s 541ms/step - loss: 2.8520 - val_loss: 3.8711\n",
      "Epoch 00027: early stopping\n"
     ]
    }
   ],
   "source": [
    "history = model.fit(x=[encoder_input_train, decoder_input_train], y=decoder_target_train, \\\n",
    "          validation_data=([encoder_input_test, decoder_input_test], decoder_target_test), \\\n",
    "          batch_size=256, callbacks=[es], epochs=50)"
   ]
  },
  {
   "cell_type": "code",
   "execution_count": 105,
   "id": "f560125f",
   "metadata": {},
   "outputs": [
    {
     "data": {
      "image/png": "[encoded data removed]",
      "text/plain": [
       "<Figure size 432x288 with 1 Axes>"
      ]
     },
     "metadata": {
      "needs_background": "light"
     },
     "output_type": "display_data"
    }
   ],
   "source": [
    "plt.plot(history.history['loss'], label='train')\n",
    "plt.plot(history.history['val_loss'], label='test')\n",
    "plt.legend()\n",
    "plt.show()"
   ]
  },
  {
   "cell_type": "markdown",
   "id": "bba93274",
   "metadata": {},
   "source": [
    "### 인퍼런스 모델 설계하기"
   ]
  },
  {
   "cell_type": "code",
   "execution_count": 96,
   "id": "d0c27bfc",
   "metadata": {},
   "outputs": [],
   "source": [
    "src_index_to_word = src_tokenizer.index_word # 원문 단어 집합에서 정수 -> 단어를 얻음\n",
    "tar_word_to_index = tar_tokenizer.word_index # 요약 단어 집합에서 단어 -> 정수를 얻음\n",
    "tar_index_to_word = tar_tokenizer.index_word # 요약 단어 집합에서 정수 -> 단어를 얻음"
   ]
  },
  {
   "cell_type": "code",
   "execution_count": 97,
   "id": "a087b14e",
   "metadata": {},
   "outputs": [],
   "source": [
    "# 인코더 설계\n",
    "encoder_model = Model(inputs=encoder_inputs, outputs=[encoder_outputs, state_h, state_c])\n",
    "\n",
    "# 이전 시점의 상태들을 저장하는 텐서\n",
    "decoder_state_input_h = Input(shape=(hidden_size,))\n",
    "decoder_state_input_c = Input(shape=(hidden_size,))\n",
    "\n",
    "dec_emb2 = dec_emb_layer(decoder_inputs)\n",
    "\n",
    "# 문장의 다음 단어를 예측하기 위해서 초기 상태(initial_state)를 이전 시점의 상태로 사용. 이는 뒤의 함수 decode_sequence()에 구현\n",
    "# 훈련 과정에서와 달리 LSTM의 리턴하는 은닉 상태와 셀 상태인 state_h와 state_c를 버리지 않음.\n",
    "decoder_outputs2, state_h2, state_c2 = decoder_lstm(dec_emb2, initial_state=[decoder_state_input_h, decoder_state_input_c])"
   ]
  },
  {
   "cell_type": "code",
   "execution_count": 98,
   "id": "c407b79b",
   "metadata": {},
   "outputs": [],
   "source": [
    "# 어텐션 함수\n",
    "decoder_hidden_state_input = Input(shape=(text_max_len, hidden_size))\n",
    "attn_out_inf = attn_layer([decoder_outputs2, decoder_hidden_state_input])\n",
    "decoder_inf_concat = Concatenate(axis=-1, name='concat')([decoder_outputs2, attn_out_inf])\n",
    "\n",
    "# 디코더의 출력층\n",
    "decoder_outputs2 = decoder_softmax_layer(decoder_inf_concat) \n",
    "\n",
    "# 최종 디코더 모델\n",
    "decoder_model = Model(\n",
    "    [decoder_inputs] + [decoder_hidden_state_input,decoder_state_input_h, decoder_state_input_c],\n",
    "    [decoder_outputs2] + [state_h2, state_c2])"
   ]
  },
  {
   "cell_type": "markdown",
   "id": "01422ade",
   "metadata": {},
   "source": [
    "## STEP 4. 실제 결과와 요약문 비교\n",
    "* 대충 아무거나 뽑아서 비교해봅시다."
   ]
  },
  {
   "cell_type": "code",
   "execution_count": 99,
   "id": "bafd7308",
   "metadata": {
    "scrolled": true
   },
   "outputs": [
    {
     "name": "stdout",
     "output_type": "stream",
     "text": [
      "원문 : women child development ministry summoned air india cmd pradeep singh next week explain delay completing probe sexual harassment case complaint lodged air hostess senior airline executive describing predator air hostess alleged executive harassed last six years \n",
      "실제 요약 : govt summons air india over delay in harassment probe \n",
      "예측 요약 :  air india to air india harassment case against harassment\n",
      "\n",
      "\n",
      "원문 : supreme court banned sale firecrackers delhi ncr till november city witnessed cleanest diwali thursday three years according central pollution control board data air quality index diwali year poor \n",
      "실제 요약 : delhi records diwali in yrs after sale ban \n",
      "예측 요약 :  ngt stays ngt stays of firecrackers in delhi ncr\n",
      "\n",
      "\n",
      "원문 : west bengal government extended summer vacation government aided government sponsored schools june due heat wave hit several parts state state education minister partha chatterjee also appealed private schools avoid extreme heat \n",
      "실제 요약 : summer vacation extended in west bengal due to heat wave \n",
      "예측 요약 :  odisha to build liquor in bihar schools amid highways\n",
      "\n",
      "\n",
      "원문 : australian rugby player nick called idiot apologising urinating bar sydney hotel dressed cow suit removed captain australian team new south wales said going crime definitely pay time \n",
      "실제 요약 : australian rugby player in cow dress on bar \n",
      "예측 요약 :  footballer posts photo of his own footballer from instagram\n",
      "\n",
      "\n",
      "원문 : international credit rating agency moody investors service friday said withdrawn credit rating reliance communications comes moody considered telecom operator default missing interest payment bonds due last week notably rcom debt around crore \n",
      "실제 요약 : moody withdraws rcom credit rating after missed payment \n",
      "예측 요약 :  sebi imposes trading on trading trading for trading dispute\n",
      "\n",
      "\n",
      "원문 : chinese scientists claimed developed several types rice grown cultivation may boost china rice production nearly able feed two crore people according research leader yuan known china father hybrid rice \n",
      "실제 요약 : china claims it can now grow rice in water \n",
      "예측 요약 :  china bans sale of using water from liquor waste\n",
      "\n",
      "\n",
      "원문 : online restaurant discovery food delivery platform zomato thursday said appointed sameer chief financial officer joining gurugram based startup july ge india currently serves cfo commenting development said really excited looking forward joining zomato team \n",
      "실제 요약 : zomato appoints former exec as cfo \n",
      "예측 요약 :  swiggy swiggy appoints new zomato as ceo as cfo\n",
      "\n",
      "\n",
      "원문 : big revolution transport sector also revolutionary dream people india union minister road transport highways nitin gadkari said tuesday said within three months government formulate rules regulations start transport different states \n",
      "실제 요약 : big in transport sector gadkari \n",
      "예측 요약 :  india may be to be in india says govt\n",
      "\n",
      "\n",
      "원문 : pakistan former interior minister rehman malik fell april fools day prank reacted fake news naming islamabad new airport chinese president xi jinping malik expressed serious reservations renaming airport originally named benazir bhutto warned government party would take issue extreme level \n",
      "실제 요약 : pak ex minister falls for april fools prank warns govt \n",
      "예측 요약 :  pakistan to host pakistan as political party on day\n",
      "\n",
      "\n",
      "원문 : shares tech giant ibm dropped friday around wiping billion market capitalisation came billionaire warren buffett announced berkshire hathaway ibm largest shareholder shed third stake company value ibm way six years ago buffett said \n",
      "실제 요약 : ibm loses crore in valuation as buffett drops stake \n",
      "예측 요약 :  amazon market value firm shares bn as shares day\n",
      "\n",
      "\n"
     ]
    }
   ],
   "source": [
    "ran = np.arange(encoder_input_test.shape[0])\n",
    "np.random.shuffle(ran)\n",
    "for i in ran[:10]:\n",
    "    print(\"원문 :\", seq2text(encoder_input_test[i]))\n",
    "    print(\"실제 요약 :\", seq2summary(decoder_input_test[i]))\n",
    "    print(\"예측 요약 :\", decode_sequence(encoder_input_test[i].reshape(1, text_max_len)))\n",
    "    print(\"\\n\")"
   ]
  },
  {
   "cell_type": "markdown",
   "id": "b101c064",
   "metadata": {},
   "source": [
    "## STEP 5. Summa를 이용해서 추출적 요약 해보기\n",
    "* Summa의 summarize 함수는 전처리와 토큰화까지 자체적으로 제공해줍니다.\n",
    "* 따라서, 전처리 되지 않은 data를 다시 가져와 사용합니다.\n",
    "* 또한, summarize는 정답 레이블이 필요없으므로 data에서 text만을 사용해 요약합니다."
   ]
  },
  {
   "cell_type": "code",
   "execution_count": 100,
   "id": "8531ea8c",
   "metadata": {},
   "outputs": [],
   "source": [
    "data = pd.read_csv('news_summary_more.csv', encoding='iso-8859-1')\n",
    "#text열만을 남깁니다.\n",
    "data_x = data['text'].apply(str)\n",
    "#요약과 비교\n",
    "data_y = data['headlines']"
   ]
  },
  {
   "cell_type": "code",
   "execution_count": 101,
   "id": "a57e99ac",
   "metadata": {},
   "outputs": [
    {
     "name": "stdout",
     "output_type": "stream",
     "text": [
      "original:\n",
      "Clarifying who he was appearing for in the Ayodhya dispute, senior advocate Kapil Sibal said, \"I was appearing for petitioner Mohammad Hashmi's son Iqbal Hashmi, which is clearly stated in the order by the CJI.\" He further questioned, \"Does PM think CJI order was wrong?\" This comes amid reports that Sibal was representing the Sunni Waqf Board in the case.  \n",
      "\n",
      "using summarize:\n",
      " \n",
      "\n",
      "original summary:\n",
      "Sibal clarifies who he was appearing for in Ayodhya case \n",
      "\n",
      "original:\n",
      "UK-based ACWorldwide has developed a speaker based on Terminator films powered by Amazon's digital assistant Alexa. Priced at Ã¢ÂÂ¹32,000, the speaker is 18 inches tall and connects via Bluetooth, Wi-Fi, and AUX cable. It also lets users answer phone calls using internal microphone. The left eye of the skull is a high-definition camera which streams videos to the user's smartphone.  \n",
      "\n",
      "using summarize:\n",
      "Priced at Ã¢ÂÂ¹32,000, the speaker is 18 inches tall and connects via Bluetooth, Wi-Fi, and AUX cable. \n",
      "\n",
      "original summary:\n",
      "Company makes Terminator-themed smart speaker \n",
      "\n",
      "original:\n",
      "Calling for the reconvening of the SAARC Summit, Nepal's Foreign Minister Pradeep Kumar Gyawali asked that if US President Donald Trump and North Korean leader Kim Jong-un can meet, then why not leaders of other countries. He urged nations to resolve differences through dialogue. Several member states followed India in boycotting the 2016 SAARC Summit after the Uri terror attack.   \n",
      "\n",
      "using summarize:\n",
      " \n",
      "\n",
      "original summary:\n",
      "If Trump and Kim can meet, why not others? Nepal on SAARC Summit \n",
      "\n",
      "original:\n",
      "Zareen Khan was mobbed in Aurangabad where she had gone for a store launch on Saturday. The police had to resort to lathi charge to control the mob. Zareen's car was reportedly stuck between the crowd and they didn't let the car pass through. A video shows a lady asking the mob to leave and not ruin the positive environment.  \n",
      "\n",
      "using summarize:\n",
      "Zareen Khan was mobbed in Aurangabad where she had gone for a store launch on Saturday. \n",
      "\n",
      "original summary:\n",
      "Zareen mobbed in Aurangabad, police resorts to lathi charge \n",
      "\n",
      "original:\n",
      "Floods and landslides in Sri Lanka have killed at least 91 people while dozens remained missing after torrential rain, officials said on Friday. The early rainy season downpours have forced hundreds of people from their homes across the country. Around 400 military personnel have been deployed with boats and helicopters to help the police and civilian agencies. \n",
      "\n",
      "using summarize:\n",
      "Floods and landslides in Sri Lanka have killed at least 91 people while dozens remained missing after torrential rain, officials said on Friday. \n",
      "\n",
      "original summary:\n",
      "Floods, landslides kill 91 in Sri Lanka \n",
      "\n",
      "original:\n",
      "A police officer from Britain's West Midlands Police was paid approximately Ã¢ÂÂ¹10 lakh in damages after he was bitten by a flea while at work. The claim was one of several workplace injury claims to the force which have resulted in West Midlands Police paying out over Ã¢ÂÂ¹50 lakh in compensation between April 1, 2016, and March 31, 2017. \n",
      "\n",
      "using summarize:\n",
      "A police officer from Britain's West Midlands Police was paid approximately Ã¢ÂÂ¹10 lakh in damages after he was bitten by a flea while at work. \n",
      "\n",
      "original summary:\n",
      "Police officer bitten by flea at work paid Ã¢ÂÂ¹10L in damages \n",
      "\n",
      "original:\n",
      "The completion of Bengaluru's Baiyappanahalli to Whitefield Metro Corridor may get delayed as two firms, unwilling to part with their land, approached the High Court to challenge Bangalore Metro Rail Corporation's land acquisition move. The court has stayed the acquisition of the land which the BMRC requires to construct the Visvesvaraya Industrial Area Metro station. \n",
      "\n",
      "using summarize:\n",
      " \n",
      "\n",
      "original summary:\n",
      "Firms move to court against land acquisition by B'luru Metro \n",
      "\n",
      "original:\n",
      "The border guarding forces in India and Pakistan exchanged sweets along the Line of Control (LoC) and the International Border (IB) to mark the occasion of Eid on Monday. \"The guns are silent today. There is no report of any firing and shelling by the Pakistani Army along the LoC,\" a senior army officer said. \n",
      "\n",
      "using summarize:\n",
      "The border guarding forces in India and Pakistan exchanged sweets along the Line of Control (LoC) and the International Border (IB) to mark the occasion of Eid on Monday. \n",
      "\n",
      "original summary:\n",
      "Forces exchange sweets along LoC, Int'l Border on Eid \n",
      "\n",
      "original:\n",
      "China and UK-based researchers undertook the largest study looking for components of dietÃ¢ÂÂfat, carbohydrates or proteinÃ¢ÂÂthat caused weight gain in mice. The mice were fed 30 different diets for three months, equivalent to nine years in humans. Based on similarities in metabolism, researchers concluded fat consumption could be the sole cause of weight gain in humans too. \n",
      "\n",
      "using summarize:\n",
      "Based on similarities in metabolism, researchers concluded fat consumption could be the sole cause of weight gain in humans too. \n",
      "\n",
      "original summary:\n",
      "Fat consumption is the only cause of weight gain, study finds \n",
      "\n",
      "original:\n",
      "According to the government's chief policy think-tank NITI Aayog, imported components for electric vehicles (EV) could make India vulnerable to cyber-security breaches. NITI Aayog member VK Saraswat said India should manufacture the majority of the parts as equipment shipped from overseas could be compromised. All software and at least 55% components need to be made domestically, Saraswat added. \n",
      "\n",
      "using summarize:\n",
      "NITI Aayog member VK Saraswat said India should manufacture the majority of the parts as equipment shipped from overseas could be compromised. \n",
      "\n",
      "original summary:\n",
      "Imported EV parts could increase risk of hack: NITI Aayog \n",
      "\n"
     ]
    }
   ],
   "source": [
    "ran = np.arange(data_x.shape[0])\n",
    "np.random.shuffle(ran)\n",
    "\n",
    "for i in ran[:10]:\n",
    "    print(\"original:\")\n",
    "    print(data_x[i],\"\\n\")\n",
    "    print(\"using summarize:\")\n",
    "    print(summarize(data_x[i], words = 15),\"\\n\")\n",
    "    print(\"original summary:\")\n",
    "    print(data_y[i],'\\n') "
   ]
  },
  {
   "cell_type": "markdown",
   "id": "869a8ea1",
   "metadata": {},
   "source": [
    "# 회고합시다.\n",
    "* 모델 설계에서 조금 헷갈렸지만 연결리스트와 비슷하다고 생각하니 이해가 쉬웠졌습니다.\n",
    "* 프로젝트 모델에서 원문 자체가 상대적으로 짧다보니 요약문의 길이를 맞추기 위해 중복된 단어들이 들어가는 현상이 있었습니다.\n",
    "* 비슷한 문제로 원문의 길이가 짧아 summarize 사용 시 요약문이 만들어지지 않았습니다.  이걸 해결하기위해 비율을 올리거나 고정된 words로 요약을 진행합니다.\n",
    "\n",
    "\n",
    "* 종합적으로 추상적 요약이나 추출적 요약이나 양질의 요약문을 얻기 위해선 원문 데이터의 길이가 긴것이 좋다고 여겨집니다."
   ]
  }
 ],
 "metadata": {
  "kernelspec": {
   "display_name": "Python 3 (ipykernel)",
   "language": "python",
   "name": "python3"
  },
  "language_info": {
   "codemirror_mode": {
    "name": "ipython",
    "version": 3
   },
   "file_extension": ".py",
   "mimetype": "text/x-python",
   "name": "python",
   "nbconvert_exporter": "python",
   "pygments_lexer": "ipython3",
   "version": "3.9.7"
  }
 },
 "nbformat": 4,
 "nbformat_minor": 5
}
