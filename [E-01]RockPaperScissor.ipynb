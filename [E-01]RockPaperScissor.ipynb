{
 "cells": [
  {
   "cell_type": "code",
   "execution_count": 1,
   "id": "bd3f54b3",
   "metadata": {},
   "outputs": [],
   "source": [
    "#모듈 임포트\n",
    "import tensorflow as tf\n",
    "from tensorflow import keras\n",
    "import numpy as np\n",
    "import matplotlib.pyplot as plt\n",
    "import glob\n",
    "import os\n",
    "from matplotlib import pyplot as plt\n",
    "from PIL import Image\n",
    "from sklearn.model_selection import KFold\n",
    "#이미지 사이즈\n",
    "size = 28\n",
    "h = os.getenv('HOME')+'/aiffel/'\n",
    "file_name = 'rock_scissor_paper_model.h5'"
   ]
  },
  {
   "cell_type": "code",
   "execution_count": 2,
   "id": "96200cdb",
   "metadata": {},
   "outputs": [],
   "source": [
    "#모델 생성\n",
    "def make_your_models():\n",
    "    model=keras.models.Sequential()\n",
    "    model.add(keras.layers.Conv2D(64, (3,3), activation='relu', input_shape=(size,size,3)))\n",
    "    model.add(keras.layers.MaxPool2D(2,2))\n",
    "    model.add(keras.layers.Conv2D(128, (3,3), activation='relu'))\n",
    "    model.add(keras.layers.MaxPooling2D((2,2)))\n",
    "    model.add(keras.layers.Flatten())\n",
    "    model.add(keras.layers.Dense(64, activation='relu'))\n",
    "    model.add(keras.layers.Dense(3, activation='softmax'))\n",
    "    return model"
   ]
  },
  {
   "cell_type": "code",
   "execution_count": 3,
   "id": "a6ba1b4e",
   "metadata": {},
   "outputs": [],
   "source": [
    "# 이미지 리사이즈\n",
    "def resize_img(img_path):\n",
    "    for path in img_path:\n",
    "        images = glob.glob(path + \"/*.jpg\")\n",
    "        target_size = (size,size)\n",
    "        for img in images:\n",
    "            old_img = Image.open(img)\n",
    "            new_img = old_img.resize(target_size,Image.ANTIALIAS)\n",
    "            new_img.save(img,\"JPEG\")\n",
    "    print(\"all of images are resized\")"
   ]
  },
  {
   "cell_type": "code",
   "execution_count": 4,
   "id": "219729a3",
   "metadata": {},
   "outputs": [],
   "source": [
    "# 리사이즈 된 이미지를 행렬화\n",
    "def load_data(path,number_of_data=6012,f = 'jpg'):\n",
    "    # 바위 : 0 가위 : 1 보 : 2\n",
    "    img_size = size\n",
    "    color = 3\n",
    "    total = number_of_data*img_size*img_size*color\n",
    "    imgs = np.zeros(total,dtype = np.int32).reshape(number_of_data,img_size,img_size,color)\n",
    "    labels = np.zeros(number_of_data,dtype = np.int32)\n",
    "    idx = 0\n",
    "    \n",
    "    for file in glob.iglob(path+'/rock/*.'+ f):\n",
    "        img = np.array(Image.open(file),dtype=np.int32)\n",
    "        imgs[idx,:,:,:] = img\n",
    "        labels[idx] = 0\n",
    "        idx+=1\n",
    "        \n",
    "    for file in glob.iglob(path+'/scissor/*.'+ f):\n",
    "        img = np.array(Image.open(file),dtype=np.int32)\n",
    "        imgs[idx,:,:,:] = img\n",
    "        labels[idx] = 1\n",
    "        idx+=1\n",
    "        \n",
    "    for file in glob.iglob(path+'/paper/*.'+ f):\n",
    "        img = np.array(Image.open(file),dtype=np.int32)\n",
    "        imgs[idx,:,:,:] = img\n",
    "        labels[idx] = 2\n",
    "        idx+=1\n",
    "    \n",
    "    return imgs,labels"
   ]
  },
  {
   "cell_type": "code",
   "execution_count": 5,
   "id": "7ff64e36",
   "metadata": {},
   "outputs": [
    {
     "name": "stdout",
     "output_type": "stream",
     "text": [
      "all of images are resized\n"
     ]
    }
   ],
   "source": [
    "#이미지 리사이즈\n",
    "p = os.getenv('HOME')+'/aiffel/rock_scissor_paper/'\n",
    "image_dir_path = [p+'scissor',p+'rock',p+'paper']\n",
    "resize_img(image_dir_path)"
   ]
  },
  {
   "cell_type": "code",
   "execution_count": 6,
   "id": "8293cf20",
   "metadata": {},
   "outputs": [],
   "source": [
    "#교차 검증을 위해 trian data에서 test셋을 나눈다 \n",
    "kf = KFold(n_splits = 5,shuffle = True)"
   ]
  },
  {
   "cell_type": "code",
   "execution_count": 7,
   "id": "14895f81",
   "metadata": {},
   "outputs": [],
   "source": [
    "images_dir_path = os.getenv('HOME')+'/aiffel/rock_scissor_paper'\n",
    "(x_train,y_train) = load_data(images_dir_path)\n",
    "#이미지 정규화\n",
    "x_train_norm = x_train/255.0\n",
    "x_train_reshaped = x_train_norm.reshape(-1,size,size,3)"
   ]
  },
  {
   "cell_type": "code",
   "execution_count": 8,
   "id": "321627ce",
   "metadata": {},
   "outputs": [
    {
     "name": "stdout",
     "output_type": "stream",
     "text": [
      "Epoch 1/5\n",
      "188/188 [==============================] - 4s 5ms/step - loss: 0.8104 - accuracy: 0.6164 - val_loss: 0.3749 - val_accuracy: 0.8512\n",
      "Epoch 2/5\n",
      "188/188 [==============================] - 1s 3ms/step - loss: 0.2676 - accuracy: 0.9004 - val_loss: 0.2098 - val_accuracy: 0.9285\n",
      "Epoch 3/5\n",
      "188/188 [==============================] - 1s 3ms/step - loss: 0.1446 - accuracy: 0.9536 - val_loss: 0.1027 - val_accuracy: 0.9684\n",
      "Epoch 4/5\n",
      "188/188 [==============================] - 1s 4ms/step - loss: 0.0814 - accuracy: 0.9759 - val_loss: 0.0618 - val_accuracy: 0.9809\n",
      "Epoch 5/5\n",
      "188/188 [==============================] - 1s 3ms/step - loss: 0.0540 - accuracy: 0.9837 - val_loss: 0.0360 - val_accuracy: 0.9909\n",
      "38/38 [==============================] - 0s 2ms/step - loss: 0.0360 - accuracy: 0.9909\n",
      "test_loss: 0.03596573695540428 \n",
      "test_accuracy: 0.9908561706542969\n",
      "Epoch 1/5\n",
      "188/188 [==============================] - 1s 4ms/step - loss: 0.0415 - accuracy: 0.9859 - val_loss: 0.0464 - val_accuracy: 0.9850\n",
      "Epoch 2/5\n",
      "188/188 [==============================] - 1s 4ms/step - loss: 0.0318 - accuracy: 0.9887 - val_loss: 0.0184 - val_accuracy: 0.9942\n",
      "Epoch 3/5\n",
      "188/188 [==============================] - 1s 3ms/step - loss: 0.0172 - accuracy: 0.9948 - val_loss: 0.0151 - val_accuracy: 0.9933\n",
      "Epoch 4/5\n",
      "188/188 [==============================] - 1s 3ms/step - loss: 0.0147 - accuracy: 0.9958 - val_loss: 0.0226 - val_accuracy: 0.9925\n",
      "Epoch 5/5\n",
      "188/188 [==============================] - 1s 3ms/step - loss: 0.0202 - accuracy: 0.9937 - val_loss: 0.0789 - val_accuracy: 0.9701\n",
      "38/38 [==============================] - 0s 2ms/step - loss: 0.0789 - accuracy: 0.9701\n",
      "test_loss: 0.07893330603837967 \n",
      "test_accuracy: 0.9700748324394226\n",
      "Epoch 1/5\n",
      "188/188 [==============================] - 1s 4ms/step - loss: 0.0190 - accuracy: 0.9932 - val_loss: 0.0195 - val_accuracy: 0.9950\n",
      "Epoch 2/5\n",
      "188/188 [==============================] - 1s 4ms/step - loss: 0.0105 - accuracy: 0.9968 - val_loss: 0.0033 - val_accuracy: 1.0000\n",
      "Epoch 3/5\n",
      "188/188 [==============================] - 1s 3ms/step - loss: 0.0078 - accuracy: 0.9982 - val_loss: 0.0022 - val_accuracy: 1.0000\n",
      "Epoch 4/5\n",
      "188/188 [==============================] - 1s 4ms/step - loss: 0.0033 - accuracy: 0.9992 - val_loss: 0.0048 - val_accuracy: 0.9983\n",
      "Epoch 5/5\n",
      "188/188 [==============================] - 1s 3ms/step - loss: 0.0039 - accuracy: 0.9988 - val_loss: 0.0017 - val_accuracy: 0.9992\n",
      "38/38 [==============================] - 0s 2ms/step - loss: 0.0017 - accuracy: 0.9992\n",
      "test_loss: 0.0017406942788511515 \n",
      "test_accuracy: 0.9991680383682251\n",
      "Epoch 1/5\n",
      "188/188 [==============================] - 1s 4ms/step - loss: 0.0158 - accuracy: 0.9947 - val_loss: 0.0159 - val_accuracy: 0.9942\n",
      "Epoch 2/5\n",
      "188/188 [==============================] - 1s 3ms/step - loss: 0.0043 - accuracy: 0.9987 - val_loss: 0.0016 - val_accuracy: 1.0000\n",
      "Epoch 3/5\n",
      "188/188 [==============================] - 1s 4ms/step - loss: 0.0010 - accuracy: 1.0000 - val_loss: 5.0536e-04 - val_accuracy: 1.0000\n",
      "Epoch 4/5\n",
      "188/188 [==============================] - 1s 3ms/step - loss: 5.1514e-04 - accuracy: 1.0000 - val_loss: 4.9290e-04 - val_accuracy: 1.0000\n",
      "Epoch 5/5\n",
      "188/188 [==============================] - 1s 4ms/step - loss: 3.6797e-04 - accuracy: 1.0000 - val_loss: 2.9040e-04 - val_accuracy: 1.0000\n",
      "38/38 [==============================] - 0s 2ms/step - loss: 2.9040e-04 - accuracy: 1.0000\n",
      "test_loss: 0.0002904018328990787 \n",
      "test_accuracy: 1.0\n",
      "Epoch 1/5\n",
      "188/188 [==============================] - 1s 4ms/step - loss: 0.0057 - accuracy: 0.9985 - val_loss: 0.0011 - val_accuracy: 1.0000\n",
      "Epoch 2/5\n",
      "188/188 [==============================] - 1s 3ms/step - loss: 0.0011 - accuracy: 1.0000 - val_loss: 1.8836e-04 - val_accuracy: 1.0000\n",
      "Epoch 3/5\n",
      "188/188 [==============================] - 1s 3ms/step - loss: 4.3871e-04 - accuracy: 1.0000 - val_loss: 7.9346e-05 - val_accuracy: 1.0000\n",
      "Epoch 4/5\n",
      "188/188 [==============================] - 1s 3ms/step - loss: 2.0672e-04 - accuracy: 1.0000 - val_loss: 4.8661e-05 - val_accuracy: 1.0000\n",
      "Epoch 5/5\n",
      "188/188 [==============================] - 1s 3ms/step - loss: 1.1369e-04 - accuracy: 1.0000 - val_loss: 3.0731e-05 - val_accuracy: 1.0000\n",
      "38/38 [==============================] - 0s 2ms/step - loss: 3.0731e-05 - accuracy: 1.0000\n",
      "test_loss: 3.073059633607045e-05 \n",
      "test_accuracy: 1.0\n"
     ]
    }
   ],
   "source": [
    "#교차검증 모델 학습\n",
    "model = make_your_models()\n",
    "for train_idx, test_idx in kf.split(x_train_reshaped):\n",
    "    X_train,X_test = x_train_reshaped[train_idx,:,:,:],x_train_reshaped[test_idx,:,:,:]\n",
    "    Y_train,Y_test = y_train[train_idx],y_train[test_idx]\n",
    "    model.compile(optimizer='adam',loss='sparse_categorical_crossentropy'\n",
    "            ,metrics=['accuracy'])\n",
    "    model.fit(x_train_reshaped,y_train,epochs = 5,validation_data=(X_test,Y_test))\n",
    "    score = model.evaluate(X_test,Y_test)\n",
    "    print(\"test_loss: {} \".format(score[0]))\n",
    "    print(\"test_accuracy: {}\".format(score[1]))"
   ]
  },
  {
   "cell_type": "code",
   "execution_count": 9,
   "id": "30dc88b1",
   "metadata": {},
   "outputs": [],
   "source": [
    "#모델 파일로 저장\n",
    "model.save(h+file_name)\n",
    "#파일로 된 모델 호출\n",
    "my_model = keras.models.load_model(h+file_name)"
   ]
  },
  {
   "cell_type": "code",
   "execution_count": 11,
   "id": "adb5fe9d",
   "metadata": {
    "scrolled": true
   },
   "outputs": [
    {
     "name": "stdout",
     "output_type": "stream",
     "text": [
      "all of images are resized\n"
     ]
    }
   ],
   "source": [
    "#테스트 데이터 생성\n",
    "t_path = os.getenv('HOME')+'/aiffel/test/'\n",
    "pp = [t_path+'paper',t_path+'rock',t_path+'scissor']\n",
    "resize_img(pp)"
   ]
  },
  {
   "cell_type": "code",
   "execution_count": 12,
   "id": "5adc03e2",
   "metadata": {},
   "outputs": [],
   "source": [
    "#이미지 변환 및 정규화\n",
    "(x_test,y_test) = load_data(t_path,300)\n",
    "x_test_norm = x_test/255.0\n",
    "x_test_reshaped = x_test_norm.reshape(-1,size,size,3)"
   ]
  },
  {
   "cell_type": "code",
   "execution_count": 13,
   "id": "e382ad41",
   "metadata": {
    "scrolled": false
   },
   "outputs": [
    {
     "name": "stdout",
     "output_type": "stream",
     "text": [
      "10/10 - 0s - loss: 2.1770 - accuracy: 0.6233\n",
      "test_loss: 2.1769943237304688 \n",
      "test_accuracy: 0.6233333349227905\n"
     ]
    }
   ],
   "source": [
    "test_loss,test_accuracy = my_model.evaluate(x_test_reshaped,y_test,verbose=2)\n",
    "print(\"test_loss: {} \".format(test_loss))\n",
    "print(\"test_accuracy: {}\".format(test_accuracy))"
   ]
  },
  {
   "cell_type": "code",
   "execution_count": null,
   "id": "ed7ffc3a",
   "metadata": {},
   "outputs": [],
   "source": [
    "predicted_result = model.predict(x_test_reshaped)  # model이 추론한 확률값. \n",
    "predicted_labels = np.argmax(predicted_result, axis=1)\n",
    "import random\n",
    "wrong_predict_list=[]\n",
    "for i, _ in enumerate(predicted_labels):\n",
    "    # i번째 test_labels과 y_test이 다른 경우만 모아 봅시다. \n",
    "    if predicted_labels[i] != y_test[i]:\n",
    "        wrong_predict_list.append(i)\n",
    "\n",
    "# wrong_predict_list 에서 랜덤하게 5개만 뽑아봅시다.\n",
    "samples = random.choices(population=wrong_predict_list, k=5)\n",
    "\n",
    "for n in samples:\n",
    "    print(\"예측확률분포: \" + str(predicted_result[n]))\n",
    "    print(\"라벨: \" + str(y_test[n]) + \", 예측결과: \" + str(predicted_labels[n]))\n",
    "    plt.imshow(x_test[n], cmap=plt.cm.binary)\n",
    "    plt.show()"
   ]
  },
  {
   "cell_type": "markdown",
   "id": "fa82d39d",
   "metadata": {},
   "source": [
    "# 회고합시다\n",
    "\n",
    "1. 어려웠던 점\n",
    "    * 테스트 정확도  \n",
    "        테스트 정확도가 생각보다 매우 낮게 나와 조금 정신이 없었다.  \n",
    "        \n",
    "2. 알아낸 점\n",
    "    1. 정확도가 낮았던 이유  \n",
    "        앞서 정확도가 기준에 비해서도 너무 낮게 나왔었는데 결론은 training data가 너무 적었기 때문이었다.  제공된 training data가 300장이었고 숫자처럼 비교적 간단한 이미지가 아니라 판단 근거가 적은 상태로 적은양의 데이터로만 학습을 반복해 학습 데이터에서만 작동이 잘되는 overfitting상태에 빠진것으로 보였다.  \n",
    "          \n",
    "    2. 정확도를 올리기위해 시도할만한 것들  \n",
    "        1. 학습 데이터의 양을 늘린다.\n",
    "        2. 교차검증을 사용한다.\n",
    "\n",
    "3. 평가 지표를 맞추기 위해 시도한 것들\n",
    "    1. 학습데이터  \n",
    "        우선 학습 데이터를 대폭 늘려 사용했다. \n",
    "        아무래도 이미지에 배경도 있고 사람마다 손 모양도 다른 복잡한 이미지이다보니  \n",
    "        일단 많은 이미지를 학습시켰다.  \n",
    "        </br>\n",
    "    2. 교차검증\n",
    "        과적합상태에 대한 다른 해결책으로 교차검증을 사용했다.  \n",
    "        교차검증은 학습 데이터의 일부를 테스트 데이터로 사용하는 것을 반복해  \n",
    "        학습의 효율을 늘리는 방법이다.\n",
    "    "
   ]
  }
 ],
 "metadata": {
  "kernelspec": {
   "display_name": "Python 3 (ipykernel)",
   "language": "python",
   "name": "python3"
  },
  "language_info": {
   "codemirror_mode": {
    "name": "ipython",
    "version": 3
   },
   "file_extension": ".py",
   "mimetype": "text/x-python",
   "name": "python",
   "nbconvert_exporter": "python",
   "pygments_lexer": "ipython3",
   "version": "3.9.7"
  }
 },
 "nbformat": 4,
 "nbformat_minor": 5
}
