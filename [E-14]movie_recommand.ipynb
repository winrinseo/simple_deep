{
 "cells": [
  {
   "cell_type": "markdown",
   "id": "5d211989",
   "metadata": {},
   "source": [
    "# 프로젝트 : 영화 추천 실습"
   ]
  },
  {
   "cell_type": "code",
   "execution_count": 1,
   "id": "ee90f21f",
   "metadata": {},
   "outputs": [],
   "source": [
    "import pandas as pd\n",
    "from scipy.sparse import csr_matrix\n",
    "from implicit.als import AlternatingLeastSquares\n",
    "import os\n",
    "import numpy as np\n",
    "import random"
   ]
  },
  {
   "cell_type": "markdown",
   "id": "e12f07ab",
   "metadata": {},
   "source": [
    "## STEP 1. 데이터 준비와 전처리"
   ]
  },
  {
   "cell_type": "code",
   "execution_count": 2,
   "id": "7ea05d27",
   "metadata": {},
   "outputs": [
    {
     "data": {
      "text/html": [
       "<div>\n",
       "<style scoped>\n",
       "    .dataframe tbody tr th:only-of-type {\n",
       "        vertical-align: middle;\n",
       "    }\n",
       "\n",
       "    .dataframe tbody tr th {\n",
       "        vertical-align: top;\n",
       "    }\n",
       "\n",
       "    .dataframe thead th {\n",
       "        text-align: right;\n",
       "    }\n",
       "</style>\n",
       "<table border=\"1\" class=\"dataframe\">\n",
       "  <thead>\n",
       "    <tr style=\"text-align: right;\">\n",
       "      <th></th>\n",
       "      <th>user_id</th>\n",
       "      <th>movie_id</th>\n",
       "      <th>ratings</th>\n",
       "      <th>timestamp</th>\n",
       "    </tr>\n",
       "  </thead>\n",
       "  <tbody>\n",
       "    <tr>\n",
       "      <th>0</th>\n",
       "      <td>1</td>\n",
       "      <td>1193</td>\n",
       "      <td>5</td>\n",
       "      <td>978300760</td>\n",
       "    </tr>\n",
       "    <tr>\n",
       "      <th>1</th>\n",
       "      <td>1</td>\n",
       "      <td>661</td>\n",
       "      <td>3</td>\n",
       "      <td>978302109</td>\n",
       "    </tr>\n",
       "    <tr>\n",
       "      <th>2</th>\n",
       "      <td>1</td>\n",
       "      <td>914</td>\n",
       "      <td>3</td>\n",
       "      <td>978301968</td>\n",
       "    </tr>\n",
       "    <tr>\n",
       "      <th>3</th>\n",
       "      <td>1</td>\n",
       "      <td>3408</td>\n",
       "      <td>4</td>\n",
       "      <td>978300275</td>\n",
       "    </tr>\n",
       "    <tr>\n",
       "      <th>4</th>\n",
       "      <td>1</td>\n",
       "      <td>2355</td>\n",
       "      <td>5</td>\n",
       "      <td>978824291</td>\n",
       "    </tr>\n",
       "  </tbody>\n",
       "</table>\n",
       "</div>"
      ],
      "text/plain": [
       "   user_id  movie_id  ratings  timestamp\n",
       "0        1      1193        5  978300760\n",
       "1        1       661        3  978302109\n",
       "2        1       914        3  978301968\n",
       "3        1      3408        4  978300275\n",
       "4        1      2355        5  978824291"
      ]
     },
     "execution_count": 2,
     "metadata": {},
     "output_type": "execute_result"
    }
   ],
   "source": [
    "rating_file_path=os.getenv('HOME') + '/aiffel/recommendata_iu/data/ml-1m/ratings.dat'\n",
    "ratings_cols = ['user_id', 'movie_id', 'ratings', 'timestamp']\n",
    "ratings = pd.read_csv(rating_file_path, sep='::', names=ratings_cols, engine='python', encoding = \"ISO-8859-1\")\n",
    "orginal_data_size = len(ratings)\n",
    "ratings.head()"
   ]
  },
  {
   "cell_type": "markdown",
   "id": "99cec5b0",
   "metadata": {},
   "source": [
    "* 이미 인덱싱이 완료된 데이터입니다."
   ]
  },
  {
   "cell_type": "code",
   "execution_count": 3,
   "id": "d2980f3c",
   "metadata": {},
   "outputs": [
    {
     "name": "stdout",
     "output_type": "stream",
     "text": [
      "orginal_data_size: 1000209, filtered_data_size: 836478\n",
      "Ratio of Remaining Data is 83.63%\n"
     ]
    }
   ],
   "source": [
    "ratings = ratings[ratings['ratings']>=3]\n",
    "filtered_data_size = len(ratings)\n",
    "\n",
    "print(f'orginal_data_size: {orginal_data_size}, filtered_data_size: {filtered_data_size}')\n",
    "print(f'Ratio of Remaining Data is {filtered_data_size / orginal_data_size:.2%}')"
   ]
  },
  {
   "cell_type": "markdown",
   "id": "47581521",
   "metadata": {},
   "source": [
    "* 3점 이상의 데이터만 남깁니다."
   ]
  },
  {
   "cell_type": "code",
   "execution_count": 4,
   "id": "4b564568",
   "metadata": {},
   "outputs": [],
   "source": [
    "ratings.rename(columns={'ratings':'counts'}, inplace=True)"
   ]
  },
  {
   "cell_type": "code",
   "execution_count": 5,
   "id": "2ff96205",
   "metadata": {},
   "outputs": [
    {
     "data": {
      "text/html": [
       "<div>\n",
       "<style scoped>\n",
       "    .dataframe tbody tr th:only-of-type {\n",
       "        vertical-align: middle;\n",
       "    }\n",
       "\n",
       "    .dataframe tbody tr th {\n",
       "        vertical-align: top;\n",
       "    }\n",
       "\n",
       "    .dataframe thead th {\n",
       "        text-align: right;\n",
       "    }\n",
       "</style>\n",
       "<table border=\"1\" class=\"dataframe\">\n",
       "  <thead>\n",
       "    <tr style=\"text-align: right;\">\n",
       "      <th></th>\n",
       "      <th>movie_id</th>\n",
       "      <th>title</th>\n",
       "      <th>genre</th>\n",
       "    </tr>\n",
       "  </thead>\n",
       "  <tbody>\n",
       "    <tr>\n",
       "      <th>0</th>\n",
       "      <td>1</td>\n",
       "      <td>Toy Story (1995)</td>\n",
       "      <td>Animation|Children's|Comedy</td>\n",
       "    </tr>\n",
       "    <tr>\n",
       "      <th>1</th>\n",
       "      <td>2</td>\n",
       "      <td>Jumanji (1995)</td>\n",
       "      <td>Adventure|Children's|Fantasy</td>\n",
       "    </tr>\n",
       "    <tr>\n",
       "      <th>2</th>\n",
       "      <td>3</td>\n",
       "      <td>Grumpier Old Men (1995)</td>\n",
       "      <td>Comedy|Romance</td>\n",
       "    </tr>\n",
       "    <tr>\n",
       "      <th>3</th>\n",
       "      <td>4</td>\n",
       "      <td>Waiting to Exhale (1995)</td>\n",
       "      <td>Comedy|Drama</td>\n",
       "    </tr>\n",
       "    <tr>\n",
       "      <th>4</th>\n",
       "      <td>5</td>\n",
       "      <td>Father of the Bride Part II (1995)</td>\n",
       "      <td>Comedy</td>\n",
       "    </tr>\n",
       "  </tbody>\n",
       "</table>\n",
       "</div>"
      ],
      "text/plain": [
       "   movie_id                               title                         genre\n",
       "0         1                    Toy Story (1995)   Animation|Children's|Comedy\n",
       "1         2                      Jumanji (1995)  Adventure|Children's|Fantasy\n",
       "2         3             Grumpier Old Men (1995)                Comedy|Romance\n",
       "3         4            Waiting to Exhale (1995)                  Comedy|Drama\n",
       "4         5  Father of the Bride Part II (1995)                        Comedy"
      ]
     },
     "execution_count": 5,
     "metadata": {},
     "output_type": "execute_result"
    }
   ],
   "source": [
    "movie_file_path=os.getenv('HOME') + '/aiffel/recommendata_iu/data/ml-1m/movies.dat'\n",
    "cols = ['movie_id', 'title', 'genre'] \n",
    "movies = pd.read_csv(movie_file_path, sep='::', names=cols, engine='python', encoding='ISO-8859-1')\n",
    "movies.head()"
   ]
  },
  {
   "cell_type": "markdown",
   "id": "38aafe34",
   "metadata": {},
   "source": [
    "## STEP 2. 데이터 분석"
   ]
  },
  {
   "cell_type": "markdown",
   "id": "ca7f8d0c",
   "metadata": {},
   "source": [
    "#### ratings에 있는 유니크한 영화 개수"
   ]
  },
  {
   "cell_type": "code",
   "execution_count": 6,
   "id": "776696ff",
   "metadata": {},
   "outputs": [
    {
     "data": {
      "text/plain": [
       "3628"
      ]
     },
     "execution_count": 6,
     "metadata": {},
     "output_type": "execute_result"
    }
   ],
   "source": [
    "ratings['movie_id'].nunique()"
   ]
  },
  {
   "cell_type": "markdown",
   "id": "3b9c50a0",
   "metadata": {},
   "source": [
    "#### ratings에 있는 유니크한 유저 수"
   ]
  },
  {
   "cell_type": "code",
   "execution_count": 7,
   "id": "ae0cb237",
   "metadata": {},
   "outputs": [
    {
     "data": {
      "text/plain": [
       "6039"
      ]
     },
     "execution_count": 7,
     "metadata": {},
     "output_type": "execute_result"
    }
   ],
   "source": [
    "ratings['user_id'].nunique()"
   ]
  },
  {
   "cell_type": "markdown",
   "id": "4db3efb7",
   "metadata": {},
   "source": [
    "#### 가장 인기있는 영화(별점을 많이 받은 순)"
   ]
  },
  {
   "cell_type": "code",
   "execution_count": 8,
   "id": "040c7148",
   "metadata": {},
   "outputs": [],
   "source": [
    "id_to_movie = {k:v for k,v in zip(movies['movie_id'],movies['title'])}"
   ]
  },
  {
   "cell_type": "code",
   "execution_count": 9,
   "id": "344a176c",
   "metadata": {},
   "outputs": [
    {
     "data": {
      "text/plain": [
       "movie_id\n",
       "American Beauty (1999)                                   14449\n",
       "Star Wars: Episode IV - A New Hope (1977)                13178\n",
       "Star Wars: Episode V - The Empire Strikes Back (1980)    12648\n",
       "Saving Private Ryan (1998)                               11348\n",
       "Star Wars: Episode VI - Return of the Jedi (1983)        11303\n",
       "Raiders of the Lost Ark (1981)                           11179\n",
       "Silence of the Lambs, The (1991)                         11096\n",
       "Matrix, The (1999)                                       10903\n",
       "Sixth Sense, The (1999)                                  10703\n",
       "Terminator 2: Judgment Day (1991)                        10513\n",
       "Fargo (1996)                                             10465\n",
       "Schindler's List (1993)                                  10317\n",
       "Braveheart (1995)                                        10125\n",
       "Shawshank Redemption, The (1994)                         10085\n",
       "Back to the Future (1985)                                10081\n",
       "Godfather, The (1972)                                     9965\n",
       "Princess Bride, The (1987)                                9866\n",
       "Jurassic Park (1993)                                      9601\n",
       "L.A. Confidential (1997)                                  9515\n",
       "Shakespeare in Love (1998)                                9503\n",
       "Men in Black (1997)                                       9057\n",
       "Pulp Fiction (1994)                                       9053\n",
       "Being John Malkovich (1999)                               8964\n",
       "Groundhog Day (1993)                                      8727\n",
       "E.T. the Extra-Terrestrial (1982)                         8696\n",
       "Forrest Gump (1994)                                       8679\n",
       "Terminator, The (1984)                                    8571\n",
       "Toy Story (1995)                                          8475\n",
       "Ghostbusters (1984)                                       8282\n",
       "Alien (1979)                                              8244\n",
       "Name: counts, dtype: int64"
      ]
     },
     "execution_count": 9,
     "metadata": {},
     "output_type": "execute_result"
    }
   ],
   "source": [
    "#id를 영화명으로 변경해 출력합니다.\n",
    "movie_count = ratings.groupby('movie_id')['counts'].sum()\n",
    "movie_count.rename(id_to_movie,inplace= True)\n",
    "movie_count.sort_values(ascending=False).head(30)"
   ]
  },
  {
   "cell_type": "markdown",
   "id": "665d4bca",
   "metadata": {},
   "source": [
    "## STEP 3. 선호하는 영화"
   ]
  },
  {
   "cell_type": "code",
   "execution_count": 10,
   "id": "0e77e47b",
   "metadata": {},
   "outputs": [],
   "source": [
    "my_id = ratings['user_id'].max()+1\n",
    "movie_to_id = {v:k for k,v in zip(movies['movie_id'],movies['title'])}"
   ]
  },
  {
   "cell_type": "code",
   "execution_count": 11,
   "id": "fd7346c1",
   "metadata": {},
   "outputs": [
    {
     "data": {
      "text/plain": [
       "[1555, 2410, 3008, 980, 858]"
      ]
     },
     "execution_count": 11,
     "metadata": {},
     "output_type": "execute_result"
    }
   ],
   "source": [
    "#영화 리스트에서 랜덤하게 5가지 영화를 선택해 선호하는 영화로 삼습니다.\n",
    "my_favorite = []\n",
    "for i in range(4):\n",
    "    idx = random.randrange(0,3628)\n",
    "    my_favorite.append(movies['movie_id'][idx])\n",
    "my_favorite.append(movie_to_id['Godfather, The (1972)'])\n",
    "my_favorite"
   ]
  },
  {
   "cell_type": "markdown",
   "id": "b81cf21e",
   "metadata": {},
   "source": [
    "* 대부는 진짜 좋아하는 영화라 꼭 넣습니다."
   ]
  },
  {
   "cell_type": "code",
   "execution_count": 12,
   "id": "9d5e9469",
   "metadata": {},
   "outputs": [
    {
     "name": "stdout",
     "output_type": "stream",
     "text": [
      "To Have, or Not (1995)\n",
      "Rocky III (1982)\n",
      "Last Night (1998)\n",
      "In the Line of Duty 2 (1987)\n",
      "Godfather, The (1972)\n"
     ]
    }
   ],
   "source": [
    "#선택된 영화들입니다.\n",
    "for i in my_favorite:\n",
    "    print(id_to_movie[i])"
   ]
  },
  {
   "cell_type": "code",
   "execution_count": 13,
   "id": "f88b71da",
   "metadata": {},
   "outputs": [],
   "source": [
    "for i in range(5):\n",
    "    #별점은 3~5점 사이\n",
    "    rating = random.randrange(3,6)\n",
    "    ss = pd.DataFrame({'user_id': [my_id], 'movie_id': [my_favorite[i]], 'counts':[rating]})\n",
    "    ratings = ratings.append(ss)"
   ]
  },
  {
   "cell_type": "code",
   "execution_count": 14,
   "id": "dc687d14",
   "metadata": {},
   "outputs": [
    {
     "data": {
      "text/html": [
       "<div>\n",
       "<style scoped>\n",
       "    .dataframe tbody tr th:only-of-type {\n",
       "        vertical-align: middle;\n",
       "    }\n",
       "\n",
       "    .dataframe tbody tr th {\n",
       "        vertical-align: top;\n",
       "    }\n",
       "\n",
       "    .dataframe thead th {\n",
       "        text-align: right;\n",
       "    }\n",
       "</style>\n",
       "<table border=\"1\" class=\"dataframe\">\n",
       "  <thead>\n",
       "    <tr style=\"text-align: right;\">\n",
       "      <th></th>\n",
       "      <th>user_id</th>\n",
       "      <th>movie_id</th>\n",
       "      <th>counts</th>\n",
       "      <th>timestamp</th>\n",
       "    </tr>\n",
       "  </thead>\n",
       "  <tbody>\n",
       "    <tr>\n",
       "      <th>1000203</th>\n",
       "      <td>6040</td>\n",
       "      <td>1090</td>\n",
       "      <td>3</td>\n",
       "      <td>956715518.0</td>\n",
       "    </tr>\n",
       "    <tr>\n",
       "      <th>1000205</th>\n",
       "      <td>6040</td>\n",
       "      <td>1094</td>\n",
       "      <td>5</td>\n",
       "      <td>956704887.0</td>\n",
       "    </tr>\n",
       "    <tr>\n",
       "      <th>1000206</th>\n",
       "      <td>6040</td>\n",
       "      <td>562</td>\n",
       "      <td>5</td>\n",
       "      <td>956704746.0</td>\n",
       "    </tr>\n",
       "    <tr>\n",
       "      <th>1000207</th>\n",
       "      <td>6040</td>\n",
       "      <td>1096</td>\n",
       "      <td>4</td>\n",
       "      <td>956715648.0</td>\n",
       "    </tr>\n",
       "    <tr>\n",
       "      <th>1000208</th>\n",
       "      <td>6040</td>\n",
       "      <td>1097</td>\n",
       "      <td>4</td>\n",
       "      <td>956715569.0</td>\n",
       "    </tr>\n",
       "    <tr>\n",
       "      <th>0</th>\n",
       "      <td>6041</td>\n",
       "      <td>1555</td>\n",
       "      <td>5</td>\n",
       "      <td>NaN</td>\n",
       "    </tr>\n",
       "    <tr>\n",
       "      <th>0</th>\n",
       "      <td>6041</td>\n",
       "      <td>2410</td>\n",
       "      <td>4</td>\n",
       "      <td>NaN</td>\n",
       "    </tr>\n",
       "    <tr>\n",
       "      <th>0</th>\n",
       "      <td>6041</td>\n",
       "      <td>3008</td>\n",
       "      <td>4</td>\n",
       "      <td>NaN</td>\n",
       "    </tr>\n",
       "    <tr>\n",
       "      <th>0</th>\n",
       "      <td>6041</td>\n",
       "      <td>980</td>\n",
       "      <td>3</td>\n",
       "      <td>NaN</td>\n",
       "    </tr>\n",
       "    <tr>\n",
       "      <th>0</th>\n",
       "      <td>6041</td>\n",
       "      <td>858</td>\n",
       "      <td>5</td>\n",
       "      <td>NaN</td>\n",
       "    </tr>\n",
       "  </tbody>\n",
       "</table>\n",
       "</div>"
      ],
      "text/plain": [
       "         user_id  movie_id  counts    timestamp\n",
       "1000203     6040      1090       3  956715518.0\n",
       "1000205     6040      1094       5  956704887.0\n",
       "1000206     6040       562       5  956704746.0\n",
       "1000207     6040      1096       4  956715648.0\n",
       "1000208     6040      1097       4  956715569.0\n",
       "0           6041      1555       5          NaN\n",
       "0           6041      2410       4          NaN\n",
       "0           6041      3008       4          NaN\n",
       "0           6041       980       3          NaN\n",
       "0           6041       858       5          NaN"
      ]
     },
     "execution_count": 14,
     "metadata": {},
     "output_type": "execute_result"
    }
   ],
   "source": [
    "ratings.tail(10)"
   ]
  },
  {
   "cell_type": "markdown",
   "id": "4c7d858e",
   "metadata": {},
   "source": [
    "## STEP 4. CSR matrix"
   ]
  },
  {
   "cell_type": "code",
   "execution_count": 15,
   "id": "a0a6aadb",
   "metadata": {},
   "outputs": [
    {
     "data": {
      "text/plain": [
       "<6042x3953 sparse matrix of type '<class 'numpy.int64'>'\n",
       "\twith 836483 stored elements in Compressed Sparse Row format>"
      ]
     },
     "execution_count": 15,
     "metadata": {},
     "output_type": "execute_result"
    }
   ],
   "source": [
    "# 중간에 비어있는 id도 있기 때문에 id 최대치로 사용합니다.\n",
    "num_user = ratings['user_id'].max()+1\n",
    "num_movie = ratings['movie_id'].max()+1\n",
    "csr_data = csr_matrix((ratings.counts, (ratings.user_id, ratings.movie_id)), shape= (num_user, num_movie))\n",
    "csr_data"
   ]
  },
  {
   "cell_type": "markdown",
   "id": "94a88514",
   "metadata": {},
   "source": [
    "## STEP 5. 모델 구성 및 훈련"
   ]
  },
  {
   "cell_type": "code",
   "execution_count": 16,
   "id": "891bcf42",
   "metadata": {},
   "outputs": [],
   "source": [
    "os.environ['OPENBLAS_NUM_THREADS']='1'\n",
    "os.environ['KMP_DUPLICATE_LIB_OK']='True'\n",
    "os.environ['MKL_NUM_THREADS']='1'"
   ]
  },
  {
   "cell_type": "code",
   "execution_count": 17,
   "id": "e569e317",
   "metadata": {},
   "outputs": [],
   "source": [
    "als_model = AlternatingLeastSquares(factors=150, regularization=0.01, use_gpu=False, iterations=150, dtype=np.float32)"
   ]
  },
  {
   "cell_type": "code",
   "execution_count": 18,
   "id": "5e58a274",
   "metadata": {},
   "outputs": [],
   "source": [
    "csr_data_transpose = csr_data.T"
   ]
  },
  {
   "cell_type": "code",
   "execution_count": 19,
   "id": "784bb77d",
   "metadata": {},
   "outputs": [
    {
     "data": {
      "application/vnd.jupyter.widget-view+json": {
       "model_id": "6d8a19694ec04b99835a71a74c346ec7",
       "version_major": 2,
       "version_minor": 0
      },
      "text/plain": [
       "  0%|          | 0/150 [00:00<?, ?it/s]"
      ]
     },
     "metadata": {},
     "output_type": "display_data"
    }
   ],
   "source": [
    "als_model.fit(csr_data_transpose)"
   ]
  },
  {
   "cell_type": "markdown",
   "id": "f1e23706",
   "metadata": {},
   "source": [
    "## STEP 6. 나의 선호도 파악"
   ]
  },
  {
   "cell_type": "code",
   "execution_count": 20,
   "id": "7011aeae",
   "metadata": {},
   "outputs": [
    {
     "name": "stdout",
     "output_type": "stream",
     "text": [
      "To Have, or Not (1995) 0.0057720738\n",
      "Rocky III (1982) 0.21683235\n",
      "Last Night (1998) 0.043589287\n",
      "In the Line of Duty 2 (1987) 0.0075432695\n",
      "Godfather, The (1972) 0.722719\n"
     ]
    }
   ],
   "source": [
    "for i in my_favorite:\n",
    "    my_vector, movie_vector = als_model.user_factors[my_id], als_model.item_factors[i]\n",
    "    favor = np.dot(my_vector, movie_vector)\n",
    "    print(id_to_movie[i],favor)"
   ]
  },
  {
   "cell_type": "markdown",
   "id": "a69b45ae",
   "metadata": {},
   "source": [
    "* 유독 선호도가 높게나온 영화가 Rocky와 Godfather인데 아마 각각 법적, 범죄인 마니아틱한 장르 특성상 높은 결과가 나온것으로 생각됩니다."
   ]
  },
  {
   "cell_type": "code",
   "execution_count": 26,
   "id": "d8d9adaf",
   "metadata": {},
   "outputs": [
    {
     "name": "stdout",
     "output_type": "stream",
     "text": [
      "Toy Story (1995) 0.02527825\n"
     ]
    }
   ],
   "source": [
    "#다른 영화의 경우\n",
    "my_vector, movie_vector = als_model.user_factors[my_id], als_model.item_factors[1]\n",
    "favor = np.dot(my_vector, movie_vector)\n",
    "print(id_to_movie[1],favor)"
   ]
  },
  {
   "cell_type": "markdown",
   "id": "49f89df9",
   "metadata": {},
   "source": [
    "## STEP 7. 내가 좋아하는 영화와 비슷한 영화를 추천"
   ]
  },
  {
   "cell_type": "code",
   "execution_count": 22,
   "id": "38f9b6c4",
   "metadata": {},
   "outputs": [],
   "source": [
    "def get_similar_movies(movie_name: str):\n",
    "    movie_id = movie_to_id[movie_name]\n",
    "    similar_movie = als_model.similar_items(movie_id)\n",
    "    similar_movie = [id_to_movie[i[0]] for i in similar_movie]\n",
    "    return similar_movie"
   ]
  },
  {
   "cell_type": "code",
   "execution_count": 23,
   "id": "d7795549",
   "metadata": {},
   "outputs": [
    {
     "data": {
      "text/plain": [
       "['Godfather, The (1972)',\n",
       " 'Godfather: Part II, The (1974)',\n",
       " 'Godfather: Part III, The (1990)',\n",
       " 'French Connection, The (1971)',\n",
       " 'Boys, The (1997)',\n",
       " 'Paralyzing Fear: The Story of Polio in America, A (1998)',\n",
       " 'Aiqing wansui (1994)',\n",
       " 'Simon Sez (1999)',\n",
       " 'Condition Red (1995)',\n",
       " 'GoodFellas (1990)']"
      ]
     },
     "execution_count": 23,
     "metadata": {},
     "output_type": "execute_result"
    }
   ],
   "source": [
    "get_similar_movies('Godfather, The (1972)')"
   ]
  },
  {
   "cell_type": "markdown",
   "id": "cea82342",
   "metadata": {},
   "source": [
    "* 대부분 범죄/스릴러 장르가 추천됩니다."
   ]
  },
  {
   "cell_type": "code",
   "execution_count": 24,
   "id": "24298a62",
   "metadata": {},
   "outputs": [
    {
     "data": {
      "text/plain": [
       "['Erin Brockovich (2000)',\n",
       " 'Song of Freedom (1936)',\n",
       " 'Chain of Fools (2000)',\n",
       " '28 Days (2000)',\n",
       " 'Cider House Rules, The (1999)',\n",
       " 'Keeping the Faith (2000)',\n",
       " 'Boiler Room (2000)',\n",
       " 'Wonder Boys (2000)',\n",
       " 'Runaway Bride (1999)',\n",
       " 'Mickey Blue Eyes (1999)']"
      ]
     },
     "execution_count": 24,
     "metadata": {},
     "output_type": "execute_result"
    }
   ],
   "source": [
    "get_similar_movies('Erin Brockovich (2000)')"
   ]
  },
  {
   "cell_type": "markdown",
   "id": "fe7300c1",
   "metadata": {},
   "source": [
    "* 대부분 드라마/로맨스 장르가 추천됩니다."
   ]
  },
  {
   "cell_type": "markdown",
   "id": "920a68c9",
   "metadata": {},
   "source": [
    "## STEP 8. 내가 좋아할만한 영화를 추천"
   ]
  },
  {
   "cell_type": "code",
   "execution_count": 25,
   "id": "d7d37c19",
   "metadata": {
    "scrolled": true
   },
   "outputs": [
    {
     "data": {
      "text/plain": [
       "['Godfather: Part II, The (1974)',\n",
       " 'Godfather: Part III, The (1990)',\n",
       " 'Rocky II (1979)',\n",
       " 'Rocky (1976)',\n",
       " 'Rocky IV (1985)',\n",
       " 'Karate Kid, Part II, The (1986)',\n",
       " 'French Connection, The (1971)',\n",
       " 'Run Lola Run (Lola rennt) (1998)',\n",
       " 'Jaws 2 (1978)',\n",
       " 'Rambo: First Blood Part II (1985)',\n",
       " 'Sleepy Hollow (1999)',\n",
       " 'Death Wish (1974)',\n",
       " 'Bloodsport (1988)',\n",
       " 'Karate Kid, The (1984)',\n",
       " 'Citizen Kane (1941)',\n",
       " 'Fatal Attraction (1987)',\n",
       " 'Defending Your Life (1991)',\n",
       " 'Mr. Mom (1983)',\n",
       " 'Superman II (1980)',\n",
       " 'First Blood (1982)']"
      ]
     },
     "execution_count": 25,
     "metadata": {},
     "output_type": "execute_result"
    }
   ],
   "source": [
    "movie_recommended = als_model.recommend(my_id, csr_data, N=20, filter_already_liked_items=True)\n",
    "[id_to_movie[i[0]] for i in movie_recommended]"
   ]
  },
  {
   "cell_type": "markdown",
   "id": "2cdd051e",
   "metadata": {},
   "source": [
    "* 대부분 제가 선호하는 영화와 비슷한 장르가 추천되는것을 볼수있습니다."
   ]
  },
  {
   "cell_type": "markdown",
   "id": "80106b1d",
   "metadata": {},
   "source": [
    "# 회고합시다.\n",
    "* 훈련을 마치고 선호도를 계산했을 때 확실히 장르별로 결과가 크게 달라지는것을 보았습니다.\n",
    "* 메이저한 장르는 영화 하나를 평가한 것으로 크게 영향이 없었고 매니악한 장르는 영화 하나를 평가해도 큰 영향을 미치는 것으로 보였습니다.(평가한 영화가 많아질수록 더 정확히 예측할것입니다.)"
   ]
  }
 ],
 "metadata": {
  "kernelspec": {
   "display_name": "Python 3 (ipykernel)",
   "language": "python",
   "name": "python3"
  },
  "language_info": {
   "codemirror_mode": {
    "name": "ipython",
    "version": 3
   },
   "file_extension": ".py",
   "mimetype": "text/x-python",
   "name": "python",
   "nbconvert_exporter": "python",
   "pygments_lexer": "ipython3",
   "version": "3.9.7"
  }
 },
 "nbformat": 4,
 "nbformat_minor": 5
}
